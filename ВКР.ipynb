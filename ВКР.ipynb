{
  "nbformat": 4,
  "nbformat_minor": 0,
  "metadata": {
    "colab": {
      "provenance": []
    },
    "kernelspec": {
      "name": "python3",
      "display_name": "Python 3"
    },
    "language_info": {
      "name": "python"
    }
  },
  "cells": [
    {
      "cell_type": "code",
      "execution_count": null,
      "metadata": {
        "id": "zYZjuf1i9YIW"
      },
      "outputs": [],
      "source": [
        "import lightgbm as lgb\n",
        "import matplotlib.pyplot as plt\n",
        "import seaborn as sns\n",
        "import pandas as pd\n",
        "import numpy as np\n",
        "\n",
        "from sklearn.model_selection import train_test_split,KFold\n",
        "from sklearn.preprocessing import MinMaxScaler\n",
        "from sklearn.metrics import mean_squared_error\n",
        "from sklearn.model_selection import StratifiedKFold\n",
        "from sklearn.ensemble import RandomForestClassifier\n",
        "from sklearn.svm import LinearSVC\n",
        "from sklearn.linear_model import LogisticRegression\n",
        "from sklearn.pipeline import make_pipeline\n",
        "from sklearn import tree"
      ]
    },
    {
      "cell_type": "code",
      "source": [
        "from google.colab import drive\n",
        "drive.mount('/content/drive')"
      ],
      "metadata": {
        "colab": {
          "base_uri": "https://localhost:8080/"
        },
        "id": "CJEyw7yO9dZX",
        "outputId": "fef1824d-447c-4859-c83f-9d2535fdfdf0"
      },
      "execution_count": null,
      "outputs": [
        {
          "output_type": "stream",
          "name": "stdout",
          "text": [
            "Drive already mounted at /content/drive; to attempt to forcibly remount, call drive.mount(\"/content/drive\", force_remount=True).\n"
          ]
        }
      ]
    },
    {
      "cell_type": "code",
      "source": [
        "data = pd.read_csv('/content/drive/MyDrive/breaches.csv')\n",
        "data"
      ],
      "metadata": {
        "colab": {
          "base_uri": "https://localhost:8080/",
          "height": 560
        },
        "id": "fSYuAV301dIP",
        "outputId": "97c39723-5d95-4d90-eedb-0549666dd674"
      },
      "execution_count": null,
      "outputs": [
        {
          "output_type": "execute_result",
          "data": {
            "text/plain": [
              "      Unnamed: 0                             Name of Covered Entity State  \\\n",
              "0              0                         Brooke Army Medical Center    TX   \n",
              "1              1          Mid America Kidney Stone Association, LLC    MO   \n",
              "2              2    Alaska Department of Health and Social Services    AK   \n",
              "3              3  Health Services for Children with Special Need...    DC   \n",
              "4              4                                  Mark D. Lurie, MD    CA   \n",
              "...          ...                                                ...   ...   \n",
              "1632        1632                     Northwest Community Healthcare    IL   \n",
              "1633        1633                                      Warren Clinic    OK   \n",
              "1634        1634                                  Baxter Healthcare    IL   \n",
              "1635        1635                       Peabody Retirement Community    IN   \n",
              "1636        1636                      Gibson Insurance Agency, Inc.    IN   \n",
              "\n",
              "      Covered Entity Type  Individuals Affected Breach Submission Date  \\\n",
              "0     Healthcare Provider                  1000             2009-10-21   \n",
              "1     Healthcare Provider                  1000             2009-10-28   \n",
              "2     Healthcare Provider                   501             2009-10-30   \n",
              "3             Health Plan                  3800             2009-11-17   \n",
              "4     Healthcare Provider                  5166             2009-11-20   \n",
              "...                   ...                   ...                    ...   \n",
              "1632  Healthcare Provider                   540             2016-10-07   \n",
              "1633  Healthcare Provider                  2938             2016-10-07   \n",
              "1634  Healthcare Provider                   992             2016-10-10   \n",
              "1635  Healthcare Provider                  1466             2016-10-14   \n",
              "1636   Business Associate                  7242             2016-10-14   \n",
              "\n",
              "                      Type of Breach         Location of Breached Information  \\\n",
              "0                              Theft                              Paper/Films   \n",
              "1                              Theft                           Network Server   \n",
              "2                              Theft  Other, Other Portable Electronic Device   \n",
              "3                               Loss                                   Laptop   \n",
              "4                              Theft                         Desktop Computer   \n",
              "...                              ...                                      ...   \n",
              "1632  Unauthorized Access/Disclosure         Other Portable Electronic Device   \n",
              "1633             Hacking/IT Incident                           Network Server   \n",
              "1634  Unauthorized Access/Disclosure                                    Email   \n",
              "1635             Hacking/IT Incident                    Email, Network Server   \n",
              "1636                           Theft                                   Laptop   \n",
              "\n",
              "     Business Associate Present  year   Loss  \n",
              "0                            No  2009   5000  \n",
              "1                            No  2009   5000  \n",
              "2                            No  2009   1000  \n",
              "3                            No  2009   5000  \n",
              "4                            No  2009   5000  \n",
              "...                         ...   ...    ...  \n",
              "1632                         No  2016   1600  \n",
              "1633                         No  2016  26000  \n",
              "1634                         No  2016   1600  \n",
              "1635                         No  2016  26000  \n",
              "1636                        Yes  2016  26000  \n",
              "\n",
              "[1637 rows x 11 columns]"
            ],
            "text/html": [
              "\n",
              "  <div id=\"df-288af542-7ce9-450c-8cd3-96b3348490b5\">\n",
              "    <div class=\"colab-df-container\">\n",
              "      <div>\n",
              "<style scoped>\n",
              "    .dataframe tbody tr th:only-of-type {\n",
              "        vertical-align: middle;\n",
              "    }\n",
              "\n",
              "    .dataframe tbody tr th {\n",
              "        vertical-align: top;\n",
              "    }\n",
              "\n",
              "    .dataframe thead th {\n",
              "        text-align: right;\n",
              "    }\n",
              "</style>\n",
              "<table border=\"1\" class=\"dataframe\">\n",
              "  <thead>\n",
              "    <tr style=\"text-align: right;\">\n",
              "      <th></th>\n",
              "      <th>Unnamed: 0</th>\n",
              "      <th>Name of Covered Entity</th>\n",
              "      <th>State</th>\n",
              "      <th>Covered Entity Type</th>\n",
              "      <th>Individuals Affected</th>\n",
              "      <th>Breach Submission Date</th>\n",
              "      <th>Type of Breach</th>\n",
              "      <th>Location of Breached Information</th>\n",
              "      <th>Business Associate Present</th>\n",
              "      <th>year</th>\n",
              "      <th>Loss</th>\n",
              "    </tr>\n",
              "  </thead>\n",
              "  <tbody>\n",
              "    <tr>\n",
              "      <th>0</th>\n",
              "      <td>0</td>\n",
              "      <td>Brooke Army Medical Center</td>\n",
              "      <td>TX</td>\n",
              "      <td>Healthcare Provider</td>\n",
              "      <td>1000</td>\n",
              "      <td>2009-10-21</td>\n",
              "      <td>Theft</td>\n",
              "      <td>Paper/Films</td>\n",
              "      <td>No</td>\n",
              "      <td>2009</td>\n",
              "      <td>5000</td>\n",
              "    </tr>\n",
              "    <tr>\n",
              "      <th>1</th>\n",
              "      <td>1</td>\n",
              "      <td>Mid America Kidney Stone Association, LLC</td>\n",
              "      <td>MO</td>\n",
              "      <td>Healthcare Provider</td>\n",
              "      <td>1000</td>\n",
              "      <td>2009-10-28</td>\n",
              "      <td>Theft</td>\n",
              "      <td>Network Server</td>\n",
              "      <td>No</td>\n",
              "      <td>2009</td>\n",
              "      <td>5000</td>\n",
              "    </tr>\n",
              "    <tr>\n",
              "      <th>2</th>\n",
              "      <td>2</td>\n",
              "      <td>Alaska Department of Health and Social Services</td>\n",
              "      <td>AK</td>\n",
              "      <td>Healthcare Provider</td>\n",
              "      <td>501</td>\n",
              "      <td>2009-10-30</td>\n",
              "      <td>Theft</td>\n",
              "      <td>Other, Other Portable Electronic Device</td>\n",
              "      <td>No</td>\n",
              "      <td>2009</td>\n",
              "      <td>1000</td>\n",
              "    </tr>\n",
              "    <tr>\n",
              "      <th>3</th>\n",
              "      <td>3</td>\n",
              "      <td>Health Services for Children with Special Need...</td>\n",
              "      <td>DC</td>\n",
              "      <td>Health Plan</td>\n",
              "      <td>3800</td>\n",
              "      <td>2009-11-17</td>\n",
              "      <td>Loss</td>\n",
              "      <td>Laptop</td>\n",
              "      <td>No</td>\n",
              "      <td>2009</td>\n",
              "      <td>5000</td>\n",
              "    </tr>\n",
              "    <tr>\n",
              "      <th>4</th>\n",
              "      <td>4</td>\n",
              "      <td>Mark D. Lurie, MD</td>\n",
              "      <td>CA</td>\n",
              "      <td>Healthcare Provider</td>\n",
              "      <td>5166</td>\n",
              "      <td>2009-11-20</td>\n",
              "      <td>Theft</td>\n",
              "      <td>Desktop Computer</td>\n",
              "      <td>No</td>\n",
              "      <td>2009</td>\n",
              "      <td>5000</td>\n",
              "    </tr>\n",
              "    <tr>\n",
              "      <th>...</th>\n",
              "      <td>...</td>\n",
              "      <td>...</td>\n",
              "      <td>...</td>\n",
              "      <td>...</td>\n",
              "      <td>...</td>\n",
              "      <td>...</td>\n",
              "      <td>...</td>\n",
              "      <td>...</td>\n",
              "      <td>...</td>\n",
              "      <td>...</td>\n",
              "      <td>...</td>\n",
              "    </tr>\n",
              "    <tr>\n",
              "      <th>1632</th>\n",
              "      <td>1632</td>\n",
              "      <td>Northwest Community Healthcare</td>\n",
              "      <td>IL</td>\n",
              "      <td>Healthcare Provider</td>\n",
              "      <td>540</td>\n",
              "      <td>2016-10-07</td>\n",
              "      <td>Unauthorized Access/Disclosure</td>\n",
              "      <td>Other Portable Electronic Device</td>\n",
              "      <td>No</td>\n",
              "      <td>2016</td>\n",
              "      <td>1600</td>\n",
              "    </tr>\n",
              "    <tr>\n",
              "      <th>1633</th>\n",
              "      <td>1633</td>\n",
              "      <td>Warren Clinic</td>\n",
              "      <td>OK</td>\n",
              "      <td>Healthcare Provider</td>\n",
              "      <td>2938</td>\n",
              "      <td>2016-10-07</td>\n",
              "      <td>Hacking/IT Incident</td>\n",
              "      <td>Network Server</td>\n",
              "      <td>No</td>\n",
              "      <td>2016</td>\n",
              "      <td>26000</td>\n",
              "    </tr>\n",
              "    <tr>\n",
              "      <th>1634</th>\n",
              "      <td>1634</td>\n",
              "      <td>Baxter Healthcare</td>\n",
              "      <td>IL</td>\n",
              "      <td>Healthcare Provider</td>\n",
              "      <td>992</td>\n",
              "      <td>2016-10-10</td>\n",
              "      <td>Unauthorized Access/Disclosure</td>\n",
              "      <td>Email</td>\n",
              "      <td>No</td>\n",
              "      <td>2016</td>\n",
              "      <td>1600</td>\n",
              "    </tr>\n",
              "    <tr>\n",
              "      <th>1635</th>\n",
              "      <td>1635</td>\n",
              "      <td>Peabody Retirement Community</td>\n",
              "      <td>IN</td>\n",
              "      <td>Healthcare Provider</td>\n",
              "      <td>1466</td>\n",
              "      <td>2016-10-14</td>\n",
              "      <td>Hacking/IT Incident</td>\n",
              "      <td>Email, Network Server</td>\n",
              "      <td>No</td>\n",
              "      <td>2016</td>\n",
              "      <td>26000</td>\n",
              "    </tr>\n",
              "    <tr>\n",
              "      <th>1636</th>\n",
              "      <td>1636</td>\n",
              "      <td>Gibson Insurance Agency, Inc.</td>\n",
              "      <td>IN</td>\n",
              "      <td>Business Associate</td>\n",
              "      <td>7242</td>\n",
              "      <td>2016-10-14</td>\n",
              "      <td>Theft</td>\n",
              "      <td>Laptop</td>\n",
              "      <td>Yes</td>\n",
              "      <td>2016</td>\n",
              "      <td>26000</td>\n",
              "    </tr>\n",
              "  </tbody>\n",
              "</table>\n",
              "<p>1637 rows × 11 columns</p>\n",
              "</div>\n",
              "      <button class=\"colab-df-convert\" onclick=\"convertToInteractive('df-288af542-7ce9-450c-8cd3-96b3348490b5')\"\n",
              "              title=\"Convert this dataframe to an interactive table.\"\n",
              "              style=\"display:none;\">\n",
              "        \n",
              "  <svg xmlns=\"http://www.w3.org/2000/svg\" height=\"24px\"viewBox=\"0 0 24 24\"\n",
              "       width=\"24px\">\n",
              "    <path d=\"M0 0h24v24H0V0z\" fill=\"none\"/>\n",
              "    <path d=\"M18.56 5.44l.94 2.06.94-2.06 2.06-.94-2.06-.94-.94-2.06-.94 2.06-2.06.94zm-11 1L8.5 8.5l.94-2.06 2.06-.94-2.06-.94L8.5 2.5l-.94 2.06-2.06.94zm10 10l.94 2.06.94-2.06 2.06-.94-2.06-.94-.94-2.06-.94 2.06-2.06.94z\"/><path d=\"M17.41 7.96l-1.37-1.37c-.4-.4-.92-.59-1.43-.59-.52 0-1.04.2-1.43.59L10.3 9.45l-7.72 7.72c-.78.78-.78 2.05 0 2.83L4 21.41c.39.39.9.59 1.41.59.51 0 1.02-.2 1.41-.59l7.78-7.78 2.81-2.81c.8-.78.8-2.07 0-2.86zM5.41 20L4 18.59l7.72-7.72 1.47 1.35L5.41 20z\"/>\n",
              "  </svg>\n",
              "      </button>\n",
              "      \n",
              "  <style>\n",
              "    .colab-df-container {\n",
              "      display:flex;\n",
              "      flex-wrap:wrap;\n",
              "      gap: 12px;\n",
              "    }\n",
              "\n",
              "    .colab-df-convert {\n",
              "      background-color: #E8F0FE;\n",
              "      border: none;\n",
              "      border-radius: 50%;\n",
              "      cursor: pointer;\n",
              "      display: none;\n",
              "      fill: #1967D2;\n",
              "      height: 32px;\n",
              "      padding: 0 0 0 0;\n",
              "      width: 32px;\n",
              "    }\n",
              "\n",
              "    .colab-df-convert:hover {\n",
              "      background-color: #E2EBFA;\n",
              "      box-shadow: 0px 1px 2px rgba(60, 64, 67, 0.3), 0px 1px 3px 1px rgba(60, 64, 67, 0.15);\n",
              "      fill: #174EA6;\n",
              "    }\n",
              "\n",
              "    [theme=dark] .colab-df-convert {\n",
              "      background-color: #3B4455;\n",
              "      fill: #D2E3FC;\n",
              "    }\n",
              "\n",
              "    [theme=dark] .colab-df-convert:hover {\n",
              "      background-color: #434B5C;\n",
              "      box-shadow: 0px 1px 3px 1px rgba(0, 0, 0, 0.15);\n",
              "      filter: drop-shadow(0px 1px 2px rgba(0, 0, 0, 0.3));\n",
              "      fill: #FFFFFF;\n",
              "    }\n",
              "  </style>\n",
              "\n",
              "      <script>\n",
              "        const buttonEl =\n",
              "          document.querySelector('#df-288af542-7ce9-450c-8cd3-96b3348490b5 button.colab-df-convert');\n",
              "        buttonEl.style.display =\n",
              "          google.colab.kernel.accessAllowed ? 'block' : 'none';\n",
              "\n",
              "        async function convertToInteractive(key) {\n",
              "          const element = document.querySelector('#df-288af542-7ce9-450c-8cd3-96b3348490b5');\n",
              "          const dataTable =\n",
              "            await google.colab.kernel.invokeFunction('convertToInteractive',\n",
              "                                                     [key], {});\n",
              "          if (!dataTable) return;\n",
              "\n",
              "          const docLinkHtml = 'Like what you see? Visit the ' +\n",
              "            '<a target=\"_blank\" href=https://colab.research.google.com/notebooks/data_table.ipynb>data table notebook</a>'\n",
              "            + ' to learn more about interactive tables.';\n",
              "          element.innerHTML = '';\n",
              "          dataTable['output_type'] = 'display_data';\n",
              "          await google.colab.output.renderOutput(dataTable, element);\n",
              "          const docLink = document.createElement('div');\n",
              "          docLink.innerHTML = docLinkHtml;\n",
              "          element.appendChild(docLink);\n",
              "        }\n",
              "      </script>\n",
              "    </div>\n",
              "  </div>\n",
              "  "
            ]
          },
          "metadata": {},
          "execution_count": 3
        }
      ]
    },
    {
      "cell_type": "code",
      "source": [
        "data = data.drop(data.columns[[0]],axis = 1)\n"
      ],
      "metadata": {
        "id": "X3_WRhs_1zSE"
      },
      "execution_count": null,
      "outputs": []
    },
    {
      "cell_type": "code",
      "source": [
        "data"
      ],
      "metadata": {
        "colab": {
          "base_uri": "https://localhost:8080/",
          "height": 542
        },
        "id": "Z_mJOUQ-1mIH",
        "outputId": "5e1e05f4-a099-4e15-a57d-be0319651194"
      },
      "execution_count": null,
      "outputs": [
        {
          "output_type": "execute_result",
          "data": {
            "text/plain": [
              "                                 Name of Covered Entity State  \\\n",
              "0                            Brooke Army Medical Center    TX   \n",
              "1             Mid America Kidney Stone Association, LLC    MO   \n",
              "2       Alaska Department of Health and Social Services    AK   \n",
              "3     Health Services for Children with Special Need...    DC   \n",
              "4                                     Mark D. Lurie, MD    CA   \n",
              "...                                                 ...   ...   \n",
              "1632                     Northwest Community Healthcare    IL   \n",
              "1633                                      Warren Clinic    OK   \n",
              "1634                                  Baxter Healthcare    IL   \n",
              "1635                       Peabody Retirement Community    IN   \n",
              "1636                      Gibson Insurance Agency, Inc.    IN   \n",
              "\n",
              "      Covered Entity Type  Individuals Affected Breach Submission Date  \\\n",
              "0     Healthcare Provider                  1000             2009-10-21   \n",
              "1     Healthcare Provider                  1000             2009-10-28   \n",
              "2     Healthcare Provider                   501             2009-10-30   \n",
              "3             Health Plan                  3800             2009-11-17   \n",
              "4     Healthcare Provider                  5166             2009-11-20   \n",
              "...                   ...                   ...                    ...   \n",
              "1632  Healthcare Provider                   540             2016-10-07   \n",
              "1633  Healthcare Provider                  2938             2016-10-07   \n",
              "1634  Healthcare Provider                   992             2016-10-10   \n",
              "1635  Healthcare Provider                  1466             2016-10-14   \n",
              "1636   Business Associate                  7242             2016-10-14   \n",
              "\n",
              "                      Type of Breach         Location of Breached Information  \\\n",
              "0                              Theft                              Paper/Films   \n",
              "1                              Theft                           Network Server   \n",
              "2                              Theft  Other, Other Portable Electronic Device   \n",
              "3                               Loss                                   Laptop   \n",
              "4                              Theft                         Desktop Computer   \n",
              "...                              ...                                      ...   \n",
              "1632  Unauthorized Access/Disclosure         Other Portable Electronic Device   \n",
              "1633             Hacking/IT Incident                           Network Server   \n",
              "1634  Unauthorized Access/Disclosure                                    Email   \n",
              "1635             Hacking/IT Incident                    Email, Network Server   \n",
              "1636                           Theft                                   Laptop   \n",
              "\n",
              "     Business Associate Present  year   Loss  \n",
              "0                            No  2009   5000  \n",
              "1                            No  2009   5000  \n",
              "2                            No  2009   1000  \n",
              "3                            No  2009   5000  \n",
              "4                            No  2009   5000  \n",
              "...                         ...   ...    ...  \n",
              "1632                         No  2016   1600  \n",
              "1633                         No  2016  26000  \n",
              "1634                         No  2016   1600  \n",
              "1635                         No  2016  26000  \n",
              "1636                        Yes  2016  26000  \n",
              "\n",
              "[1637 rows x 10 columns]"
            ],
            "text/html": [
              "\n",
              "  <div id=\"df-23d7bb48-ab7e-4584-bfaa-ecaff830ee83\">\n",
              "    <div class=\"colab-df-container\">\n",
              "      <div>\n",
              "<style scoped>\n",
              "    .dataframe tbody tr th:only-of-type {\n",
              "        vertical-align: middle;\n",
              "    }\n",
              "\n",
              "    .dataframe tbody tr th {\n",
              "        vertical-align: top;\n",
              "    }\n",
              "\n",
              "    .dataframe thead th {\n",
              "        text-align: right;\n",
              "    }\n",
              "</style>\n",
              "<table border=\"1\" class=\"dataframe\">\n",
              "  <thead>\n",
              "    <tr style=\"text-align: right;\">\n",
              "      <th></th>\n",
              "      <th>Name of Covered Entity</th>\n",
              "      <th>State</th>\n",
              "      <th>Covered Entity Type</th>\n",
              "      <th>Individuals Affected</th>\n",
              "      <th>Breach Submission Date</th>\n",
              "      <th>Type of Breach</th>\n",
              "      <th>Location of Breached Information</th>\n",
              "      <th>Business Associate Present</th>\n",
              "      <th>year</th>\n",
              "      <th>Loss</th>\n",
              "    </tr>\n",
              "  </thead>\n",
              "  <tbody>\n",
              "    <tr>\n",
              "      <th>0</th>\n",
              "      <td>Brooke Army Medical Center</td>\n",
              "      <td>TX</td>\n",
              "      <td>Healthcare Provider</td>\n",
              "      <td>1000</td>\n",
              "      <td>2009-10-21</td>\n",
              "      <td>Theft</td>\n",
              "      <td>Paper/Films</td>\n",
              "      <td>No</td>\n",
              "      <td>2009</td>\n",
              "      <td>5000</td>\n",
              "    </tr>\n",
              "    <tr>\n",
              "      <th>1</th>\n",
              "      <td>Mid America Kidney Stone Association, LLC</td>\n",
              "      <td>MO</td>\n",
              "      <td>Healthcare Provider</td>\n",
              "      <td>1000</td>\n",
              "      <td>2009-10-28</td>\n",
              "      <td>Theft</td>\n",
              "      <td>Network Server</td>\n",
              "      <td>No</td>\n",
              "      <td>2009</td>\n",
              "      <td>5000</td>\n",
              "    </tr>\n",
              "    <tr>\n",
              "      <th>2</th>\n",
              "      <td>Alaska Department of Health and Social Services</td>\n",
              "      <td>AK</td>\n",
              "      <td>Healthcare Provider</td>\n",
              "      <td>501</td>\n",
              "      <td>2009-10-30</td>\n",
              "      <td>Theft</td>\n",
              "      <td>Other, Other Portable Electronic Device</td>\n",
              "      <td>No</td>\n",
              "      <td>2009</td>\n",
              "      <td>1000</td>\n",
              "    </tr>\n",
              "    <tr>\n",
              "      <th>3</th>\n",
              "      <td>Health Services for Children with Special Need...</td>\n",
              "      <td>DC</td>\n",
              "      <td>Health Plan</td>\n",
              "      <td>3800</td>\n",
              "      <td>2009-11-17</td>\n",
              "      <td>Loss</td>\n",
              "      <td>Laptop</td>\n",
              "      <td>No</td>\n",
              "      <td>2009</td>\n",
              "      <td>5000</td>\n",
              "    </tr>\n",
              "    <tr>\n",
              "      <th>4</th>\n",
              "      <td>Mark D. Lurie, MD</td>\n",
              "      <td>CA</td>\n",
              "      <td>Healthcare Provider</td>\n",
              "      <td>5166</td>\n",
              "      <td>2009-11-20</td>\n",
              "      <td>Theft</td>\n",
              "      <td>Desktop Computer</td>\n",
              "      <td>No</td>\n",
              "      <td>2009</td>\n",
              "      <td>5000</td>\n",
              "    </tr>\n",
              "    <tr>\n",
              "      <th>...</th>\n",
              "      <td>...</td>\n",
              "      <td>...</td>\n",
              "      <td>...</td>\n",
              "      <td>...</td>\n",
              "      <td>...</td>\n",
              "      <td>...</td>\n",
              "      <td>...</td>\n",
              "      <td>...</td>\n",
              "      <td>...</td>\n",
              "      <td>...</td>\n",
              "    </tr>\n",
              "    <tr>\n",
              "      <th>1632</th>\n",
              "      <td>Northwest Community Healthcare</td>\n",
              "      <td>IL</td>\n",
              "      <td>Healthcare Provider</td>\n",
              "      <td>540</td>\n",
              "      <td>2016-10-07</td>\n",
              "      <td>Unauthorized Access/Disclosure</td>\n",
              "      <td>Other Portable Electronic Device</td>\n",
              "      <td>No</td>\n",
              "      <td>2016</td>\n",
              "      <td>1600</td>\n",
              "    </tr>\n",
              "    <tr>\n",
              "      <th>1633</th>\n",
              "      <td>Warren Clinic</td>\n",
              "      <td>OK</td>\n",
              "      <td>Healthcare Provider</td>\n",
              "      <td>2938</td>\n",
              "      <td>2016-10-07</td>\n",
              "      <td>Hacking/IT Incident</td>\n",
              "      <td>Network Server</td>\n",
              "      <td>No</td>\n",
              "      <td>2016</td>\n",
              "      <td>26000</td>\n",
              "    </tr>\n",
              "    <tr>\n",
              "      <th>1634</th>\n",
              "      <td>Baxter Healthcare</td>\n",
              "      <td>IL</td>\n",
              "      <td>Healthcare Provider</td>\n",
              "      <td>992</td>\n",
              "      <td>2016-10-10</td>\n",
              "      <td>Unauthorized Access/Disclosure</td>\n",
              "      <td>Email</td>\n",
              "      <td>No</td>\n",
              "      <td>2016</td>\n",
              "      <td>1600</td>\n",
              "    </tr>\n",
              "    <tr>\n",
              "      <th>1635</th>\n",
              "      <td>Peabody Retirement Community</td>\n",
              "      <td>IN</td>\n",
              "      <td>Healthcare Provider</td>\n",
              "      <td>1466</td>\n",
              "      <td>2016-10-14</td>\n",
              "      <td>Hacking/IT Incident</td>\n",
              "      <td>Email, Network Server</td>\n",
              "      <td>No</td>\n",
              "      <td>2016</td>\n",
              "      <td>26000</td>\n",
              "    </tr>\n",
              "    <tr>\n",
              "      <th>1636</th>\n",
              "      <td>Gibson Insurance Agency, Inc.</td>\n",
              "      <td>IN</td>\n",
              "      <td>Business Associate</td>\n",
              "      <td>7242</td>\n",
              "      <td>2016-10-14</td>\n",
              "      <td>Theft</td>\n",
              "      <td>Laptop</td>\n",
              "      <td>Yes</td>\n",
              "      <td>2016</td>\n",
              "      <td>26000</td>\n",
              "    </tr>\n",
              "  </tbody>\n",
              "</table>\n",
              "<p>1637 rows × 10 columns</p>\n",
              "</div>\n",
              "      <button class=\"colab-df-convert\" onclick=\"convertToInteractive('df-23d7bb48-ab7e-4584-bfaa-ecaff830ee83')\"\n",
              "              title=\"Convert this dataframe to an interactive table.\"\n",
              "              style=\"display:none;\">\n",
              "        \n",
              "  <svg xmlns=\"http://www.w3.org/2000/svg\" height=\"24px\"viewBox=\"0 0 24 24\"\n",
              "       width=\"24px\">\n",
              "    <path d=\"M0 0h24v24H0V0z\" fill=\"none\"/>\n",
              "    <path d=\"M18.56 5.44l.94 2.06.94-2.06 2.06-.94-2.06-.94-.94-2.06-.94 2.06-2.06.94zm-11 1L8.5 8.5l.94-2.06 2.06-.94-2.06-.94L8.5 2.5l-.94 2.06-2.06.94zm10 10l.94 2.06.94-2.06 2.06-.94-2.06-.94-.94-2.06-.94 2.06-2.06.94z\"/><path d=\"M17.41 7.96l-1.37-1.37c-.4-.4-.92-.59-1.43-.59-.52 0-1.04.2-1.43.59L10.3 9.45l-7.72 7.72c-.78.78-.78 2.05 0 2.83L4 21.41c.39.39.9.59 1.41.59.51 0 1.02-.2 1.41-.59l7.78-7.78 2.81-2.81c.8-.78.8-2.07 0-2.86zM5.41 20L4 18.59l7.72-7.72 1.47 1.35L5.41 20z\"/>\n",
              "  </svg>\n",
              "      </button>\n",
              "      \n",
              "  <style>\n",
              "    .colab-df-container {\n",
              "      display:flex;\n",
              "      flex-wrap:wrap;\n",
              "      gap: 12px;\n",
              "    }\n",
              "\n",
              "    .colab-df-convert {\n",
              "      background-color: #E8F0FE;\n",
              "      border: none;\n",
              "      border-radius: 50%;\n",
              "      cursor: pointer;\n",
              "      display: none;\n",
              "      fill: #1967D2;\n",
              "      height: 32px;\n",
              "      padding: 0 0 0 0;\n",
              "      width: 32px;\n",
              "    }\n",
              "\n",
              "    .colab-df-convert:hover {\n",
              "      background-color: #E2EBFA;\n",
              "      box-shadow: 0px 1px 2px rgba(60, 64, 67, 0.3), 0px 1px 3px 1px rgba(60, 64, 67, 0.15);\n",
              "      fill: #174EA6;\n",
              "    }\n",
              "\n",
              "    [theme=dark] .colab-df-convert {\n",
              "      background-color: #3B4455;\n",
              "      fill: #D2E3FC;\n",
              "    }\n",
              "\n",
              "    [theme=dark] .colab-df-convert:hover {\n",
              "      background-color: #434B5C;\n",
              "      box-shadow: 0px 1px 3px 1px rgba(0, 0, 0, 0.15);\n",
              "      filter: drop-shadow(0px 1px 2px rgba(0, 0, 0, 0.3));\n",
              "      fill: #FFFFFF;\n",
              "    }\n",
              "  </style>\n",
              "\n",
              "      <script>\n",
              "        const buttonEl =\n",
              "          document.querySelector('#df-23d7bb48-ab7e-4584-bfaa-ecaff830ee83 button.colab-df-convert');\n",
              "        buttonEl.style.display =\n",
              "          google.colab.kernel.accessAllowed ? 'block' : 'none';\n",
              "\n",
              "        async function convertToInteractive(key) {\n",
              "          const element = document.querySelector('#df-23d7bb48-ab7e-4584-bfaa-ecaff830ee83');\n",
              "          const dataTable =\n",
              "            await google.colab.kernel.invokeFunction('convertToInteractive',\n",
              "                                                     [key], {});\n",
              "          if (!dataTable) return;\n",
              "\n",
              "          const docLinkHtml = 'Like what you see? Visit the ' +\n",
              "            '<a target=\"_blank\" href=https://colab.research.google.com/notebooks/data_table.ipynb>data table notebook</a>'\n",
              "            + ' to learn more about interactive tables.';\n",
              "          element.innerHTML = '';\n",
              "          dataTable['output_type'] = 'display_data';\n",
              "          await google.colab.output.renderOutput(dataTable, element);\n",
              "          const docLink = document.createElement('div');\n",
              "          docLink.innerHTML = docLinkHtml;\n",
              "          element.appendChild(docLink);\n",
              "        }\n",
              "      </script>\n",
              "    </div>\n",
              "  </div>\n",
              "  "
            ]
          },
          "metadata": {},
          "execution_count": 5
        }
      ]
    },
    {
      "cell_type": "code",
      "source": [
        "corr = data.corr()"
      ],
      "metadata": {
        "id": "8dZpkk_k3EdF"
      },
      "execution_count": null,
      "outputs": []
    },
    {
      "cell_type": "code",
      "source": [
        "f, ax = plt.subplots(figsize=(9, 9))\n",
        "\n",
        "cmap = sns.diverging_palette(240, 10, as_cmap=True)\n",
        "\n",
        "sns.heatmap(corr, cmap=cmap, vmax=.3, center=0,\n",
        "            square=True, linewidths=.5, cbar_kws={\"shrink\": .5})"
      ],
      "metadata": {
        "colab": {
          "base_uri": "https://localhost:8080/",
          "height": 466
        },
        "id": "9cbnOPXo2M0a",
        "outputId": "d61621d9-76c2-436b-9778-2849bc028976"
      },
      "execution_count": null,
      "outputs": [
        {
          "output_type": "execute_result",
          "data": {
            "text/plain": [
              "<AxesSubplot:>"
            ]
          },
          "metadata": {},
          "execution_count": 7
        },
        {
          "output_type": "display_data",
          "data": {
            "text/plain": [
              "<Figure size 648x648 with 2 Axes>"
            ],
            "image/png": "[encoded data removed]"
          },
          "metadata": {
            "needs_background": "light"
          }
        }
      ]
    },
    {
      "cell_type": "code",
      "source": [
        "data.describe()"
      ],
      "metadata": {
        "colab": {
          "base_uri": "https://localhost:8080/",
          "height": 300
        },
        "id": "0Ffa_fVj5LdS",
        "outputId": "e5c9a891-43bc-46dd-e85f-994964c2a295"
      },
      "execution_count": null,
      "outputs": [
        {
          "output_type": "execute_result",
          "data": {
            "text/plain": [
              "       Individuals Affected         year           Loss\n",
              "count           1637.000000  1637.000000    1637.000000\n",
              "mean            6840.324374  2013.168601   16649.786194\n",
              "std            13079.686023     1.958223   33588.441010\n",
              "min                0.000000  2009.000000       0.000000\n",
              "25%              950.000000  2012.000000       0.000000\n",
              "50%             2082.000000  2013.000000    5000.000000\n",
              "75%             6332.000000  2015.000000   26000.000000\n",
              "max            97000.000000  2016.000000  250000.000000"
            ],
            "text/html": [
              "\n",
              "  <div id=\"df-e288c762-08b5-4cd5-8f87-b6f13412a534\">\n",
              "    <div class=\"colab-df-container\">\n",
              "      <div>\n",
              "<style scoped>\n",
              "    .dataframe tbody tr th:only-of-type {\n",
              "        vertical-align: middle;\n",
              "    }\n",
              "\n",
              "    .dataframe tbody tr th {\n",
              "        vertical-align: top;\n",
              "    }\n",
              "\n",
              "    .dataframe thead th {\n",
              "        text-align: right;\n",
              "    }\n",
              "</style>\n",
              "<table border=\"1\" class=\"dataframe\">\n",
              "  <thead>\n",
              "    <tr style=\"text-align: right;\">\n",
              "      <th></th>\n",
              "      <th>Individuals Affected</th>\n",
              "      <th>year</th>\n",
              "      <th>Loss</th>\n",
              "    </tr>\n",
              "  </thead>\n",
              "  <tbody>\n",
              "    <tr>\n",
              "      <th>count</th>\n",
              "      <td>1637.000000</td>\n",
              "      <td>1637.000000</td>\n",
              "      <td>1637.000000</td>\n",
              "    </tr>\n",
              "    <tr>\n",
              "      <th>mean</th>\n",
              "      <td>6840.324374</td>\n",
              "      <td>2013.168601</td>\n",
              "      <td>16649.786194</td>\n",
              "    </tr>\n",
              "    <tr>\n",
              "      <th>std</th>\n",
              "      <td>13079.686023</td>\n",
              "      <td>1.958223</td>\n",
              "      <td>33588.441010</td>\n",
              "    </tr>\n",
              "    <tr>\n",
              "      <th>min</th>\n",
              "      <td>0.000000</td>\n",
              "      <td>2009.000000</td>\n",
              "      <td>0.000000</td>\n",
              "    </tr>\n",
              "    <tr>\n",
              "      <th>25%</th>\n",
              "      <td>950.000000</td>\n",
              "      <td>2012.000000</td>\n",
              "      <td>0.000000</td>\n",
              "    </tr>\n",
              "    <tr>\n",
              "      <th>50%</th>\n",
              "      <td>2082.000000</td>\n",
              "      <td>2013.000000</td>\n",
              "      <td>5000.000000</td>\n",
              "    </tr>\n",
              "    <tr>\n",
              "      <th>75%</th>\n",
              "      <td>6332.000000</td>\n",
              "      <td>2015.000000</td>\n",
              "      <td>26000.000000</td>\n",
              "    </tr>\n",
              "    <tr>\n",
              "      <th>max</th>\n",
              "      <td>97000.000000</td>\n",
              "      <td>2016.000000</td>\n",
              "      <td>250000.000000</td>\n",
              "    </tr>\n",
              "  </tbody>\n",
              "</table>\n",
              "</div>\n",
              "      <button class=\"colab-df-convert\" onclick=\"convertToInteractive('df-e288c762-08b5-4cd5-8f87-b6f13412a534')\"\n",
              "              title=\"Convert this dataframe to an interactive table.\"\n",
              "              style=\"display:none;\">\n",
              "        \n",
              "  <svg xmlns=\"http://www.w3.org/2000/svg\" height=\"24px\"viewBox=\"0 0 24 24\"\n",
              "       width=\"24px\">\n",
              "    <path d=\"M0 0h24v24H0V0z\" fill=\"none\"/>\n",
              "    <path d=\"M18.56 5.44l.94 2.06.94-2.06 2.06-.94-2.06-.94-.94-2.06-.94 2.06-2.06.94zm-11 1L8.5 8.5l.94-2.06 2.06-.94-2.06-.94L8.5 2.5l-.94 2.06-2.06.94zm10 10l.94 2.06.94-2.06 2.06-.94-2.06-.94-.94-2.06-.94 2.06-2.06.94z\"/><path d=\"M17.41 7.96l-1.37-1.37c-.4-.4-.92-.59-1.43-.59-.52 0-1.04.2-1.43.59L10.3 9.45l-7.72 7.72c-.78.78-.78 2.05 0 2.83L4 21.41c.39.39.9.59 1.41.59.51 0 1.02-.2 1.41-.59l7.78-7.78 2.81-2.81c.8-.78.8-2.07 0-2.86zM5.41 20L4 18.59l7.72-7.72 1.47 1.35L5.41 20z\"/>\n",
              "  </svg>\n",
              "      </button>\n",
              "      \n",
              "  <style>\n",
              "    .colab-df-container {\n",
              "      display:flex;\n",
              "      flex-wrap:wrap;\n",
              "      gap: 12px;\n",
              "    }\n",
              "\n",
              "    .colab-df-convert {\n",
              "      background-color: #E8F0FE;\n",
              "      border: none;\n",
              "      border-radius: 50%;\n",
              "      cursor: pointer;\n",
              "      display: none;\n",
              "      fill: #1967D2;\n",
              "      height: 32px;\n",
              "      padding: 0 0 0 0;\n",
              "      width: 32px;\n",
              "    }\n",
              "\n",
              "    .colab-df-convert:hover {\n",
              "      background-color: #E2EBFA;\n",
              "      box-shadow: 0px 1px 2px rgba(60, 64, 67, 0.3), 0px 1px 3px 1px rgba(60, 64, 67, 0.15);\n",
              "      fill: #174EA6;\n",
              "    }\n",
              "\n",
              "    [theme=dark] .colab-df-convert {\n",
              "      background-color: #3B4455;\n",
              "      fill: #D2E3FC;\n",
              "    }\n",
              "\n",
              "    [theme=dark] .colab-df-convert:hover {\n",
              "      background-color: #434B5C;\n",
              "      box-shadow: 0px 1px 3px 1px rgba(0, 0, 0, 0.15);\n",
              "      filter: drop-shadow(0px 1px 2px rgba(0, 0, 0, 0.3));\n",
              "      fill: #FFFFFF;\n",
              "    }\n",
              "  </style>\n",
              "\n",
              "      <script>\n",
              "        const buttonEl =\n",
              "          document.querySelector('#df-e288c762-08b5-4cd5-8f87-b6f13412a534 button.colab-df-convert');\n",
              "        buttonEl.style.display =\n",
              "          google.colab.kernel.accessAllowed ? 'block' : 'none';\n",
              "\n",
              "        async function convertToInteractive(key) {\n",
              "          const element = document.querySelector('#df-e288c762-08b5-4cd5-8f87-b6f13412a534');\n",
              "          const dataTable =\n",
              "            await google.colab.kernel.invokeFunction('convertToInteractive',\n",
              "                                                     [key], {});\n",
              "          if (!dataTable) return;\n",
              "\n",
              "          const docLinkHtml = 'Like what you see? Visit the ' +\n",
              "            '<a target=\"_blank\" href=https://colab.research.google.com/notebooks/data_table.ipynb>data table notebook</a>'\n",
              "            + ' to learn more about interactive tables.';\n",
              "          element.innerHTML = '';\n",
              "          dataTable['output_type'] = 'display_data';\n",
              "          await google.colab.output.renderOutput(dataTable, element);\n",
              "          const docLink = document.createElement('div');\n",
              "          docLink.innerHTML = docLinkHtml;\n",
              "          element.appendChild(docLink);\n",
              "        }\n",
              "      </script>\n",
              "    </div>\n",
              "  </div>\n",
              "  "
            ]
          },
          "metadata": {},
          "execution_count": 8
        }
      ]
    },
    {
      "cell_type": "code",
      "source": [
        "data"
      ],
      "metadata": {
        "colab": {
          "base_uri": "https://localhost:8080/",
          "height": 542
        },
        "id": "JWeCfRW6-jfM",
        "outputId": "64ed353f-af10-4f9b-a83d-e780bc49d5a5"
      },
      "execution_count": null,
      "outputs": [
        {
          "output_type": "execute_result",
          "data": {
            "text/plain": [
              "                                 Name of Covered Entity State  \\\n",
              "0                            Brooke Army Medical Center    TX   \n",
              "1             Mid America Kidney Stone Association, LLC    MO   \n",
              "2       Alaska Department of Health and Social Services    AK   \n",
              "3     Health Services for Children with Special Need...    DC   \n",
              "4                                     Mark D. Lurie, MD    CA   \n",
              "...                                                 ...   ...   \n",
              "1632                     Northwest Community Healthcare    IL   \n",
              "1633                                      Warren Clinic    OK   \n",
              "1634                                  Baxter Healthcare    IL   \n",
              "1635                       Peabody Retirement Community    IN   \n",
              "1636                      Gibson Insurance Agency, Inc.    IN   \n",
              "\n",
              "      Covered Entity Type  Individuals Affected Breach Submission Date  \\\n",
              "0     Healthcare Provider                  1000             2009-10-21   \n",
              "1     Healthcare Provider                  1000             2009-10-28   \n",
              "2     Healthcare Provider                   501             2009-10-30   \n",
              "3             Health Plan                  3800             2009-11-17   \n",
              "4     Healthcare Provider                  5166             2009-11-20   \n",
              "...                   ...                   ...                    ...   \n",
              "1632  Healthcare Provider                   540             2016-10-07   \n",
              "1633  Healthcare Provider                  2938             2016-10-07   \n",
              "1634  Healthcare Provider                   992             2016-10-10   \n",
              "1635  Healthcare Provider                  1466             2016-10-14   \n",
              "1636   Business Associate                  7242             2016-10-14   \n",
              "\n",
              "                      Type of Breach         Location of Breached Information  \\\n",
              "0                              Theft                              Paper/Films   \n",
              "1                              Theft                           Network Server   \n",
              "2                              Theft  Other, Other Portable Electronic Device   \n",
              "3                               Loss                                   Laptop   \n",
              "4                              Theft                         Desktop Computer   \n",
              "...                              ...                                      ...   \n",
              "1632  Unauthorized Access/Disclosure         Other Portable Electronic Device   \n",
              "1633             Hacking/IT Incident                           Network Server   \n",
              "1634  Unauthorized Access/Disclosure                                    Email   \n",
              "1635             Hacking/IT Incident                    Email, Network Server   \n",
              "1636                           Theft                                   Laptop   \n",
              "\n",
              "     Business Associate Present  year   Loss  \n",
              "0                            No  2009   5000  \n",
              "1                            No  2009   5000  \n",
              "2                            No  2009   1000  \n",
              "3                            No  2009   5000  \n",
              "4                            No  2009   5000  \n",
              "...                         ...   ...    ...  \n",
              "1632                         No  2016   1600  \n",
              "1633                         No  2016  26000  \n",
              "1634                         No  2016   1600  \n",
              "1635                         No  2016  26000  \n",
              "1636                        Yes  2016  26000  \n",
              "\n",
              "[1637 rows x 10 columns]"
            ],
            "text/html": [
              "\n",
              "  <div id=\"df-9193ae95-c3fb-47a7-babf-9f8ef34a9a26\">\n",
              "    <div class=\"colab-df-container\">\n",
              "      <div>\n",
              "<style scoped>\n",
              "    .dataframe tbody tr th:only-of-type {\n",
              "        vertical-align: middle;\n",
              "    }\n",
              "\n",
              "    .dataframe tbody tr th {\n",
              "        vertical-align: top;\n",
              "    }\n",
              "\n",
              "    .dataframe thead th {\n",
              "        text-align: right;\n",
              "    }\n",
              "</style>\n",
              "<table border=\"1\" class=\"dataframe\">\n",
              "  <thead>\n",
              "    <tr style=\"text-align: right;\">\n",
              "      <th></th>\n",
              "      <th>Name of Covered Entity</th>\n",
              "      <th>State</th>\n",
              "      <th>Covered Entity Type</th>\n",
              "      <th>Individuals Affected</th>\n",
              "      <th>Breach Submission Date</th>\n",
              "      <th>Type of Breach</th>\n",
              "      <th>Location of Breached Information</th>\n",
              "      <th>Business Associate Present</th>\n",
              "      <th>year</th>\n",
              "      <th>Loss</th>\n",
              "    </tr>\n",
              "  </thead>\n",
              "  <tbody>\n",
              "    <tr>\n",
              "      <th>0</th>\n",
              "      <td>Brooke Army Medical Center</td>\n",
              "      <td>TX</td>\n",
              "      <td>Healthcare Provider</td>\n",
              "      <td>1000</td>\n",
              "      <td>2009-10-21</td>\n",
              "      <td>Theft</td>\n",
              "      <td>Paper/Films</td>\n",
              "      <td>No</td>\n",
              "      <td>2009</td>\n",
              "      <td>5000</td>\n",
              "    </tr>\n",
              "    <tr>\n",
              "      <th>1</th>\n",
              "      <td>Mid America Kidney Stone Association, LLC</td>\n",
              "      <td>MO</td>\n",
              "      <td>Healthcare Provider</td>\n",
              "      <td>1000</td>\n",
              "      <td>2009-10-28</td>\n",
              "      <td>Theft</td>\n",
              "      <td>Network Server</td>\n",
              "      <td>No</td>\n",
              "      <td>2009</td>\n",
              "      <td>5000</td>\n",
              "    </tr>\n",
              "    <tr>\n",
              "      <th>2</th>\n",
              "      <td>Alaska Department of Health and Social Services</td>\n",
              "      <td>AK</td>\n",
              "      <td>Healthcare Provider</td>\n",
              "      <td>501</td>\n",
              "      <td>2009-10-30</td>\n",
              "      <td>Theft</td>\n",
              "      <td>Other, Other Portable Electronic Device</td>\n",
              "      <td>No</td>\n",
              "      <td>2009</td>\n",
              "      <td>1000</td>\n",
              "    </tr>\n",
              "    <tr>\n",
              "      <th>3</th>\n",
              "      <td>Health Services for Children with Special Need...</td>\n",
              "      <td>DC</td>\n",
              "      <td>Health Plan</td>\n",
              "      <td>3800</td>\n",
              "      <td>2009-11-17</td>\n",
              "      <td>Loss</td>\n",
              "      <td>Laptop</td>\n",
              "      <td>No</td>\n",
              "      <td>2009</td>\n",
              "      <td>5000</td>\n",
              "    </tr>\n",
              "    <tr>\n",
              "      <th>4</th>\n",
              "      <td>Mark D. Lurie, MD</td>\n",
              "      <td>CA</td>\n",
              "      <td>Healthcare Provider</td>\n",
              "      <td>5166</td>\n",
              "      <td>2009-11-20</td>\n",
              "      <td>Theft</td>\n",
              "      <td>Desktop Computer</td>\n",
              "      <td>No</td>\n",
              "      <td>2009</td>\n",
              "      <td>5000</td>\n",
              "    </tr>\n",
              "    <tr>\n",
              "      <th>...</th>\n",
              "      <td>...</td>\n",
              "      <td>...</td>\n",
              "      <td>...</td>\n",
              "      <td>...</td>\n",
              "      <td>...</td>\n",
              "      <td>...</td>\n",
              "      <td>...</td>\n",
              "      <td>...</td>\n",
              "      <td>...</td>\n",
              "      <td>...</td>\n",
              "    </tr>\n",
              "    <tr>\n",
              "      <th>1632</th>\n",
              "      <td>Northwest Community Healthcare</td>\n",
              "      <td>IL</td>\n",
              "      <td>Healthcare Provider</td>\n",
              "      <td>540</td>\n",
              "      <td>2016-10-07</td>\n",
              "      <td>Unauthorized Access/Disclosure</td>\n",
              "      <td>Other Portable Electronic Device</td>\n",
              "      <td>No</td>\n",
              "      <td>2016</td>\n",
              "      <td>1600</td>\n",
              "    </tr>\n",
              "    <tr>\n",
              "      <th>1633</th>\n",
              "      <td>Warren Clinic</td>\n",
              "      <td>OK</td>\n",
              "      <td>Healthcare Provider</td>\n",
              "      <td>2938</td>\n",
              "      <td>2016-10-07</td>\n",
              "      <td>Hacking/IT Incident</td>\n",
              "      <td>Network Server</td>\n",
              "      <td>No</td>\n",
              "      <td>2016</td>\n",
              "      <td>26000</td>\n",
              "    </tr>\n",
              "    <tr>\n",
              "      <th>1634</th>\n",
              "      <td>Baxter Healthcare</td>\n",
              "      <td>IL</td>\n",
              "      <td>Healthcare Provider</td>\n",
              "      <td>992</td>\n",
              "      <td>2016-10-10</td>\n",
              "      <td>Unauthorized Access/Disclosure</td>\n",
              "      <td>Email</td>\n",
              "      <td>No</td>\n",
              "      <td>2016</td>\n",
              "      <td>1600</td>\n",
              "    </tr>\n",
              "    <tr>\n",
              "      <th>1635</th>\n",
              "      <td>Peabody Retirement Community</td>\n",
              "      <td>IN</td>\n",
              "      <td>Healthcare Provider</td>\n",
              "      <td>1466</td>\n",
              "      <td>2016-10-14</td>\n",
              "      <td>Hacking/IT Incident</td>\n",
              "      <td>Email, Network Server</td>\n",
              "      <td>No</td>\n",
              "      <td>2016</td>\n",
              "      <td>26000</td>\n",
              "    </tr>\n",
              "    <tr>\n",
              "      <th>1636</th>\n",
              "      <td>Gibson Insurance Agency, Inc.</td>\n",
              "      <td>IN</td>\n",
              "      <td>Business Associate</td>\n",
              "      <td>7242</td>\n",
              "      <td>2016-10-14</td>\n",
              "      <td>Theft</td>\n",
              "      <td>Laptop</td>\n",
              "      <td>Yes</td>\n",
              "      <td>2016</td>\n",
              "      <td>26000</td>\n",
              "    </tr>\n",
              "  </tbody>\n",
              "</table>\n",
              "<p>1637 rows × 10 columns</p>\n",
              "</div>\n",
              "      <button class=\"colab-df-convert\" onclick=\"convertToInteractive('df-9193ae95-c3fb-47a7-babf-9f8ef34a9a26')\"\n",
              "              title=\"Convert this dataframe to an interactive table.\"\n",
              "              style=\"display:none;\">\n",
              "        \n",
              "  <svg xmlns=\"http://www.w3.org/2000/svg\" height=\"24px\"viewBox=\"0 0 24 24\"\n",
              "       width=\"24px\">\n",
              "    <path d=\"M0 0h24v24H0V0z\" fill=\"none\"/>\n",
              "    <path d=\"M18.56 5.44l.94 2.06.94-2.06 2.06-.94-2.06-.94-.94-2.06-.94 2.06-2.06.94zm-11 1L8.5 8.5l.94-2.06 2.06-.94-2.06-.94L8.5 2.5l-.94 2.06-2.06.94zm10 10l.94 2.06.94-2.06 2.06-.94-2.06-.94-.94-2.06-.94 2.06-2.06.94z\"/><path d=\"M17.41 7.96l-1.37-1.37c-.4-.4-.92-.59-1.43-.59-.52 0-1.04.2-1.43.59L10.3 9.45l-7.72 7.72c-.78.78-.78 2.05 0 2.83L4 21.41c.39.39.9.59 1.41.59.51 0 1.02-.2 1.41-.59l7.78-7.78 2.81-2.81c.8-.78.8-2.07 0-2.86zM5.41 20L4 18.59l7.72-7.72 1.47 1.35L5.41 20z\"/>\n",
              "  </svg>\n",
              "      </button>\n",
              "      \n",
              "  <style>\n",
              "    .colab-df-container {\n",
              "      display:flex;\n",
              "      flex-wrap:wrap;\n",
              "      gap: 12px;\n",
              "    }\n",
              "\n",
              "    .colab-df-convert {\n",
              "      background-color: #E8F0FE;\n",
              "      border: none;\n",
              "      border-radius: 50%;\n",
              "      cursor: pointer;\n",
              "      display: none;\n",
              "      fill: #1967D2;\n",
              "      height: 32px;\n",
              "      padding: 0 0 0 0;\n",
              "      width: 32px;\n",
              "    }\n",
              "\n",
              "    .colab-df-convert:hover {\n",
              "      background-color: #E2EBFA;\n",
              "      box-shadow: 0px 1px 2px rgba(60, 64, 67, 0.3), 0px 1px 3px 1px rgba(60, 64, 67, 0.15);\n",
              "      fill: #174EA6;\n",
              "    }\n",
              "\n",
              "    [theme=dark] .colab-df-convert {\n",
              "      background-color: #3B4455;\n",
              "      fill: #D2E3FC;\n",
              "    }\n",
              "\n",
              "    [theme=dark] .colab-df-convert:hover {\n",
              "      background-color: #434B5C;\n",
              "      box-shadow: 0px 1px 3px 1px rgba(0, 0, 0, 0.15);\n",
              "      filter: drop-shadow(0px 1px 2px rgba(0, 0, 0, 0.3));\n",
              "      fill: #FFFFFF;\n",
              "    }\n",
              "  </style>\n",
              "\n",
              "      <script>\n",
              "        const buttonEl =\n",
              "          document.querySelector('#df-9193ae95-c3fb-47a7-babf-9f8ef34a9a26 button.colab-df-convert');\n",
              "        buttonEl.style.display =\n",
              "          google.colab.kernel.accessAllowed ? 'block' : 'none';\n",
              "\n",
              "        async function convertToInteractive(key) {\n",
              "          const element = document.querySelector('#df-9193ae95-c3fb-47a7-babf-9f8ef34a9a26');\n",
              "          const dataTable =\n",
              "            await google.colab.kernel.invokeFunction('convertToInteractive',\n",
              "                                                     [key], {});\n",
              "          if (!dataTable) return;\n",
              "\n",
              "          const docLinkHtml = 'Like what you see? Visit the ' +\n",
              "            '<a target=\"_blank\" href=https://colab.research.google.com/notebooks/data_table.ipynb>data table notebook</a>'\n",
              "            + ' to learn more about interactive tables.';\n",
              "          element.innerHTML = '';\n",
              "          dataTable['output_type'] = 'display_data';\n",
              "          await google.colab.output.renderOutput(dataTable, element);\n",
              "          const docLink = document.createElement('div');\n",
              "          docLink.innerHTML = docLinkHtml;\n",
              "          element.appendChild(docLink);\n",
              "        }\n",
              "      </script>\n",
              "    </div>\n",
              "  </div>\n",
              "  "
            ]
          },
          "metadata": {},
          "execution_count": 9
        }
      ]
    },
    {
      "cell_type": "code",
      "source": [
        "cols = ['Individuals Affected']\n",
        "for col in cols:\n",
        "   data[col] = data[col].apply(lambda x: int(x) if x == x else \"\")"
      ],
      "metadata": {
        "id": "_d84NKI6HAQu"
      },
      "execution_count": null,
      "outputs": []
    },
    {
      "cell_type": "code",
      "source": [
        "data"
      ],
      "metadata": {
        "colab": {
          "base_uri": "https://localhost:8080/",
          "height": 542
        },
        "id": "wBQSWFEFRvkW",
        "outputId": "8fc403b8-5fb9-48d1-d7ad-5214aaaa4cee"
      },
      "execution_count": null,
      "outputs": [
        {
          "output_type": "execute_result",
          "data": {
            "text/plain": [
              "                                 Name of Covered Entity State  \\\n",
              "0                            Brooke Army Medical Center    TX   \n",
              "1             Mid America Kidney Stone Association, LLC    MO   \n",
              "2       Alaska Department of Health and Social Services    AK   \n",
              "3     Health Services for Children with Special Need...    DC   \n",
              "4                                     Mark D. Lurie, MD    CA   \n",
              "...                                                 ...   ...   \n",
              "1632                     Northwest Community Healthcare    IL   \n",
              "1633                                      Warren Clinic    OK   \n",
              "1634                                  Baxter Healthcare    IL   \n",
              "1635                       Peabody Retirement Community    IN   \n",
              "1636                      Gibson Insurance Agency, Inc.    IN   \n",
              "\n",
              "      Covered Entity Type  Individuals Affected Breach Submission Date  \\\n",
              "0     Healthcare Provider                  1000             2009-10-21   \n",
              "1     Healthcare Provider                  1000             2009-10-28   \n",
              "2     Healthcare Provider                   501             2009-10-30   \n",
              "3             Health Plan                  3800             2009-11-17   \n",
              "4     Healthcare Provider                  5166             2009-11-20   \n",
              "...                   ...                   ...                    ...   \n",
              "1632  Healthcare Provider                   540             2016-10-07   \n",
              "1633  Healthcare Provider                  2938             2016-10-07   \n",
              "1634  Healthcare Provider                   992             2016-10-10   \n",
              "1635  Healthcare Provider                  1466             2016-10-14   \n",
              "1636   Business Associate                  7242             2016-10-14   \n",
              "\n",
              "                      Type of Breach         Location of Breached Information  \\\n",
              "0                              Theft                              Paper/Films   \n",
              "1                              Theft                           Network Server   \n",
              "2                              Theft  Other, Other Portable Electronic Device   \n",
              "3                               Loss                                   Laptop   \n",
              "4                              Theft                         Desktop Computer   \n",
              "...                              ...                                      ...   \n",
              "1632  Unauthorized Access/Disclosure         Other Portable Electronic Device   \n",
              "1633             Hacking/IT Incident                           Network Server   \n",
              "1634  Unauthorized Access/Disclosure                                    Email   \n",
              "1635             Hacking/IT Incident                    Email, Network Server   \n",
              "1636                           Theft                                   Laptop   \n",
              "\n",
              "     Business Associate Present  year   Loss  \n",
              "0                            No  2009   5000  \n",
              "1                            No  2009   5000  \n",
              "2                            No  2009   1000  \n",
              "3                            No  2009   5000  \n",
              "4                            No  2009   5000  \n",
              "...                         ...   ...    ...  \n",
              "1632                         No  2016   1600  \n",
              "1633                         No  2016  26000  \n",
              "1634                         No  2016   1600  \n",
              "1635                         No  2016  26000  \n",
              "1636                        Yes  2016  26000  \n",
              "\n",
              "[1637 rows x 10 columns]"
            ],
            "text/html": [
              "\n",
              "  <div id=\"df-bc40511e-280e-4a78-aa0f-81b009cd7b51\">\n",
              "    <div class=\"colab-df-container\">\n",
              "      <div>\n",
              "<style scoped>\n",
              "    .dataframe tbody tr th:only-of-type {\n",
              "        vertical-align: middle;\n",
              "    }\n",
              "\n",
              "    .dataframe tbody tr th {\n",
              "        vertical-align: top;\n",
              "    }\n",
              "\n",
              "    .dataframe thead th {\n",
              "        text-align: right;\n",
              "    }\n",
              "</style>\n",
              "<table border=\"1\" class=\"dataframe\">\n",
              "  <thead>\n",
              "    <tr style=\"text-align: right;\">\n",
              "      <th></th>\n",
              "      <th>Name of Covered Entity</th>\n",
              "      <th>State</th>\n",
              "      <th>Covered Entity Type</th>\n",
              "      <th>Individuals Affected</th>\n",
              "      <th>Breach Submission Date</th>\n",
              "      <th>Type of Breach</th>\n",
              "      <th>Location of Breached Information</th>\n",
              "      <th>Business Associate Present</th>\n",
              "      <th>year</th>\n",
              "      <th>Loss</th>\n",
              "    </tr>\n",
              "  </thead>\n",
              "  <tbody>\n",
              "    <tr>\n",
              "      <th>0</th>\n",
              "      <td>Brooke Army Medical Center</td>\n",
              "      <td>TX</td>\n",
              "      <td>Healthcare Provider</td>\n",
              "      <td>1000</td>\n",
              "      <td>2009-10-21</td>\n",
              "      <td>Theft</td>\n",
              "      <td>Paper/Films</td>\n",
              "      <td>No</td>\n",
              "      <td>2009</td>\n",
              "      <td>5000</td>\n",
              "    </tr>\n",
              "    <tr>\n",
              "      <th>1</th>\n",
              "      <td>Mid America Kidney Stone Association, LLC</td>\n",
              "      <td>MO</td>\n",
              "      <td>Healthcare Provider</td>\n",
              "      <td>1000</td>\n",
              "      <td>2009-10-28</td>\n",
              "      <td>Theft</td>\n",
              "      <td>Network Server</td>\n",
              "      <td>No</td>\n",
              "      <td>2009</td>\n",
              "      <td>5000</td>\n",
              "    </tr>\n",
              "    <tr>\n",
              "      <th>2</th>\n",
              "      <td>Alaska Department of Health and Social Services</td>\n",
              "      <td>AK</td>\n",
              "      <td>Healthcare Provider</td>\n",
              "      <td>501</td>\n",
              "      <td>2009-10-30</td>\n",
              "      <td>Theft</td>\n",
              "      <td>Other, Other Portable Electronic Device</td>\n",
              "      <td>No</td>\n",
              "      <td>2009</td>\n",
              "      <td>1000</td>\n",
              "    </tr>\n",
              "    <tr>\n",
              "      <th>3</th>\n",
              "      <td>Health Services for Children with Special Need...</td>\n",
              "      <td>DC</td>\n",
              "      <td>Health Plan</td>\n",
              "      <td>3800</td>\n",
              "      <td>2009-11-17</td>\n",
              "      <td>Loss</td>\n",
              "      <td>Laptop</td>\n",
              "      <td>No</td>\n",
              "      <td>2009</td>\n",
              "      <td>5000</td>\n",
              "    </tr>\n",
              "    <tr>\n",
              "      <th>4</th>\n",
              "      <td>Mark D. Lurie, MD</td>\n",
              "      <td>CA</td>\n",
              "      <td>Healthcare Provider</td>\n",
              "      <td>5166</td>\n",
              "      <td>2009-11-20</td>\n",
              "      <td>Theft</td>\n",
              "      <td>Desktop Computer</td>\n",
              "      <td>No</td>\n",
              "      <td>2009</td>\n",
              "      <td>5000</td>\n",
              "    </tr>\n",
              "    <tr>\n",
              "      <th>...</th>\n",
              "      <td>...</td>\n",
              "      <td>...</td>\n",
              "      <td>...</td>\n",
              "      <td>...</td>\n",
              "      <td>...</td>\n",
              "      <td>...</td>\n",
              "      <td>...</td>\n",
              "      <td>...</td>\n",
              "      <td>...</td>\n",
              "      <td>...</td>\n",
              "    </tr>\n",
              "    <tr>\n",
              "      <th>1632</th>\n",
              "      <td>Northwest Community Healthcare</td>\n",
              "      <td>IL</td>\n",
              "      <td>Healthcare Provider</td>\n",
              "      <td>540</td>\n",
              "      <td>2016-10-07</td>\n",
              "      <td>Unauthorized Access/Disclosure</td>\n",
              "      <td>Other Portable Electronic Device</td>\n",
              "      <td>No</td>\n",
              "      <td>2016</td>\n",
              "      <td>1600</td>\n",
              "    </tr>\n",
              "    <tr>\n",
              "      <th>1633</th>\n",
              "      <td>Warren Clinic</td>\n",
              "      <td>OK</td>\n",
              "      <td>Healthcare Provider</td>\n",
              "      <td>2938</td>\n",
              "      <td>2016-10-07</td>\n",
              "      <td>Hacking/IT Incident</td>\n",
              "      <td>Network Server</td>\n",
              "      <td>No</td>\n",
              "      <td>2016</td>\n",
              "      <td>26000</td>\n",
              "    </tr>\n",
              "    <tr>\n",
              "      <th>1634</th>\n",
              "      <td>Baxter Healthcare</td>\n",
              "      <td>IL</td>\n",
              "      <td>Healthcare Provider</td>\n",
              "      <td>992</td>\n",
              "      <td>2016-10-10</td>\n",
              "      <td>Unauthorized Access/Disclosure</td>\n",
              "      <td>Email</td>\n",
              "      <td>No</td>\n",
              "      <td>2016</td>\n",
              "      <td>1600</td>\n",
              "    </tr>\n",
              "    <tr>\n",
              "      <th>1635</th>\n",
              "      <td>Peabody Retirement Community</td>\n",
              "      <td>IN</td>\n",
              "      <td>Healthcare Provider</td>\n",
              "      <td>1466</td>\n",
              "      <td>2016-10-14</td>\n",
              "      <td>Hacking/IT Incident</td>\n",
              "      <td>Email, Network Server</td>\n",
              "      <td>No</td>\n",
              "      <td>2016</td>\n",
              "      <td>26000</td>\n",
              "    </tr>\n",
              "    <tr>\n",
              "      <th>1636</th>\n",
              "      <td>Gibson Insurance Agency, Inc.</td>\n",
              "      <td>IN</td>\n",
              "      <td>Business Associate</td>\n",
              "      <td>7242</td>\n",
              "      <td>2016-10-14</td>\n",
              "      <td>Theft</td>\n",
              "      <td>Laptop</td>\n",
              "      <td>Yes</td>\n",
              "      <td>2016</td>\n",
              "      <td>26000</td>\n",
              "    </tr>\n",
              "  </tbody>\n",
              "</table>\n",
              "<p>1637 rows × 10 columns</p>\n",
              "</div>\n",
              "      <button class=\"colab-df-convert\" onclick=\"convertToInteractive('df-bc40511e-280e-4a78-aa0f-81b009cd7b51')\"\n",
              "              title=\"Convert this dataframe to an interactive table.\"\n",
              "              style=\"display:none;\">\n",
              "        \n",
              "  <svg xmlns=\"http://www.w3.org/2000/svg\" height=\"24px\"viewBox=\"0 0 24 24\"\n",
              "       width=\"24px\">\n",
              "    <path d=\"M0 0h24v24H0V0z\" fill=\"none\"/>\n",
              "    <path d=\"M18.56 5.44l.94 2.06.94-2.06 2.06-.94-2.06-.94-.94-2.06-.94 2.06-2.06.94zm-11 1L8.5 8.5l.94-2.06 2.06-.94-2.06-.94L8.5 2.5l-.94 2.06-2.06.94zm10 10l.94 2.06.94-2.06 2.06-.94-2.06-.94-.94-2.06-.94 2.06-2.06.94z\"/><path d=\"M17.41 7.96l-1.37-1.37c-.4-.4-.92-.59-1.43-.59-.52 0-1.04.2-1.43.59L10.3 9.45l-7.72 7.72c-.78.78-.78 2.05 0 2.83L4 21.41c.39.39.9.59 1.41.59.51 0 1.02-.2 1.41-.59l7.78-7.78 2.81-2.81c.8-.78.8-2.07 0-2.86zM5.41 20L4 18.59l7.72-7.72 1.47 1.35L5.41 20z\"/>\n",
              "  </svg>\n",
              "      </button>\n",
              "      \n",
              "  <style>\n",
              "    .colab-df-container {\n",
              "      display:flex;\n",
              "      flex-wrap:wrap;\n",
              "      gap: 12px;\n",
              "    }\n",
              "\n",
              "    .colab-df-convert {\n",
              "      background-color: #E8F0FE;\n",
              "      border: none;\n",
              "      border-radius: 50%;\n",
              "      cursor: pointer;\n",
              "      display: none;\n",
              "      fill: #1967D2;\n",
              "      height: 32px;\n",
              "      padding: 0 0 0 0;\n",
              "      width: 32px;\n",
              "    }\n",
              "\n",
              "    .colab-df-convert:hover {\n",
              "      background-color: #E2EBFA;\n",
              "      box-shadow: 0px 1px 2px rgba(60, 64, 67, 0.3), 0px 1px 3px 1px rgba(60, 64, 67, 0.15);\n",
              "      fill: #174EA6;\n",
              "    }\n",
              "\n",
              "    [theme=dark] .colab-df-convert {\n",
              "      background-color: #3B4455;\n",
              "      fill: #D2E3FC;\n",
              "    }\n",
              "\n",
              "    [theme=dark] .colab-df-convert:hover {\n",
              "      background-color: #434B5C;\n",
              "      box-shadow: 0px 1px 3px 1px rgba(0, 0, 0, 0.15);\n",
              "      filter: drop-shadow(0px 1px 2px rgba(0, 0, 0, 0.3));\n",
              "      fill: #FFFFFF;\n",
              "    }\n",
              "  </style>\n",
              "\n",
              "      <script>\n",
              "        const buttonEl =\n",
              "          document.querySelector('#df-bc40511e-280e-4a78-aa0f-81b009cd7b51 button.colab-df-convert');\n",
              "        buttonEl.style.display =\n",
              "          google.colab.kernel.accessAllowed ? 'block' : 'none';\n",
              "\n",
              "        async function convertToInteractive(key) {\n",
              "          const element = document.querySelector('#df-bc40511e-280e-4a78-aa0f-81b009cd7b51');\n",
              "          const dataTable =\n",
              "            await google.colab.kernel.invokeFunction('convertToInteractive',\n",
              "                                                     [key], {});\n",
              "          if (!dataTable) return;\n",
              "\n",
              "          const docLinkHtml = 'Like what you see? Visit the ' +\n",
              "            '<a target=\"_blank\" href=https://colab.research.google.com/notebooks/data_table.ipynb>data table notebook</a>'\n",
              "            + ' to learn more about interactive tables.';\n",
              "          element.innerHTML = '';\n",
              "          dataTable['output_type'] = 'display_data';\n",
              "          await google.colab.output.renderOutput(dataTable, element);\n",
              "          const docLink = document.createElement('div');\n",
              "          docLink.innerHTML = docLinkHtml;\n",
              "          element.appendChild(docLink);\n",
              "        }\n",
              "      </script>\n",
              "    </div>\n",
              "  </div>\n",
              "  "
            ]
          },
          "metadata": {},
          "execution_count": 11
        }
      ]
    },
    {
      "cell_type": "code",
      "source": [
        "data.dropna()"
      ],
      "metadata": {
        "colab": {
          "base_uri": "https://localhost:8080/",
          "height": 542
        },
        "id": "ZZzTFbGfShHc",
        "outputId": "4891f221-2548-4cea-f76e-a4f5b32ce44e"
      },
      "execution_count": null,
      "outputs": [
        {
          "output_type": "execute_result",
          "data": {
            "text/plain": [
              "                                 Name of Covered Entity State  \\\n",
              "0                            Brooke Army Medical Center    TX   \n",
              "1             Mid America Kidney Stone Association, LLC    MO   \n",
              "2       Alaska Department of Health and Social Services    AK   \n",
              "3     Health Services for Children with Special Need...    DC   \n",
              "4                                     Mark D. Lurie, MD    CA   \n",
              "...                                                 ...   ...   \n",
              "1632                     Northwest Community Healthcare    IL   \n",
              "1633                                      Warren Clinic    OK   \n",
              "1634                                  Baxter Healthcare    IL   \n",
              "1635                       Peabody Retirement Community    IN   \n",
              "1636                      Gibson Insurance Agency, Inc.    IN   \n",
              "\n",
              "      Covered Entity Type  Individuals Affected Breach Submission Date  \\\n",
              "0     Healthcare Provider                  1000             2009-10-21   \n",
              "1     Healthcare Provider                  1000             2009-10-28   \n",
              "2     Healthcare Provider                   501             2009-10-30   \n",
              "3             Health Plan                  3800             2009-11-17   \n",
              "4     Healthcare Provider                  5166             2009-11-20   \n",
              "...                   ...                   ...                    ...   \n",
              "1632  Healthcare Provider                   540             2016-10-07   \n",
              "1633  Healthcare Provider                  2938             2016-10-07   \n",
              "1634  Healthcare Provider                   992             2016-10-10   \n",
              "1635  Healthcare Provider                  1466             2016-10-14   \n",
              "1636   Business Associate                  7242             2016-10-14   \n",
              "\n",
              "                      Type of Breach         Location of Breached Information  \\\n",
              "0                              Theft                              Paper/Films   \n",
              "1                              Theft                           Network Server   \n",
              "2                              Theft  Other, Other Portable Electronic Device   \n",
              "3                               Loss                                   Laptop   \n",
              "4                              Theft                         Desktop Computer   \n",
              "...                              ...                                      ...   \n",
              "1632  Unauthorized Access/Disclosure         Other Portable Electronic Device   \n",
              "1633             Hacking/IT Incident                           Network Server   \n",
              "1634  Unauthorized Access/Disclosure                                    Email   \n",
              "1635             Hacking/IT Incident                    Email, Network Server   \n",
              "1636                           Theft                                   Laptop   \n",
              "\n",
              "     Business Associate Present  year   Loss  \n",
              "0                            No  2009   5000  \n",
              "1                            No  2009   5000  \n",
              "2                            No  2009   1000  \n",
              "3                            No  2009   5000  \n",
              "4                            No  2009   5000  \n",
              "...                         ...   ...    ...  \n",
              "1632                         No  2016   1600  \n",
              "1633                         No  2016  26000  \n",
              "1634                         No  2016   1600  \n",
              "1635                         No  2016  26000  \n",
              "1636                        Yes  2016  26000  \n",
              "\n",
              "[1585 rows x 10 columns]"
            ],
            "text/html": [
              "\n",
              "  <div id=\"df-3615afd5-09e6-4d9e-9742-d9158d4b7299\">\n",
              "    <div class=\"colab-df-container\">\n",
              "      <div>\n",
              "<style scoped>\n",
              "    .dataframe tbody tr th:only-of-type {\n",
              "        vertical-align: middle;\n",
              "    }\n",
              "\n",
              "    .dataframe tbody tr th {\n",
              "        vertical-align: top;\n",
              "    }\n",
              "\n",
              "    .dataframe thead th {\n",
              "        text-align: right;\n",
              "    }\n",
              "</style>\n",
              "<table border=\"1\" class=\"dataframe\">\n",
              "  <thead>\n",
              "    <tr style=\"text-align: right;\">\n",
              "      <th></th>\n",
              "      <th>Name of Covered Entity</th>\n",
              "      <th>State</th>\n",
              "      <th>Covered Entity Type</th>\n",
              "      <th>Individuals Affected</th>\n",
              "      <th>Breach Submission Date</th>\n",
              "      <th>Type of Breach</th>\n",
              "      <th>Location of Breached Information</th>\n",
              "      <th>Business Associate Present</th>\n",
              "      <th>year</th>\n",
              "      <th>Loss</th>\n",
              "    </tr>\n",
              "  </thead>\n",
              "  <tbody>\n",
              "    <tr>\n",
              "      <th>0</th>\n",
              "      <td>Brooke Army Medical Center</td>\n",
              "      <td>TX</td>\n",
              "      <td>Healthcare Provider</td>\n",
              "      <td>1000</td>\n",
              "      <td>2009-10-21</td>\n",
              "      <td>Theft</td>\n",
              "      <td>Paper/Films</td>\n",
              "      <td>No</td>\n",
              "      <td>2009</td>\n",
              "      <td>5000</td>\n",
              "    </tr>\n",
              "    <tr>\n",
              "      <th>1</th>\n",
              "      <td>Mid America Kidney Stone Association, LLC</td>\n",
              "      <td>MO</td>\n",
              "      <td>Healthcare Provider</td>\n",
              "      <td>1000</td>\n",
              "      <td>2009-10-28</td>\n",
              "      <td>Theft</td>\n",
              "      <td>Network Server</td>\n",
              "      <td>No</td>\n",
              "      <td>2009</td>\n",
              "      <td>5000</td>\n",
              "    </tr>\n",
              "    <tr>\n",
              "      <th>2</th>\n",
              "      <td>Alaska Department of Health and Social Services</td>\n",
              "      <td>AK</td>\n",
              "      <td>Healthcare Provider</td>\n",
              "      <td>501</td>\n",
              "      <td>2009-10-30</td>\n",
              "      <td>Theft</td>\n",
              "      <td>Other, Other Portable Electronic Device</td>\n",
              "      <td>No</td>\n",
              "      <td>2009</td>\n",
              "      <td>1000</td>\n",
              "    </tr>\n",
              "    <tr>\n",
              "      <th>3</th>\n",
              "      <td>Health Services for Children with Special Need...</td>\n",
              "      <td>DC</td>\n",
              "      <td>Health Plan</td>\n",
              "      <td>3800</td>\n",
              "      <td>2009-11-17</td>\n",
              "      <td>Loss</td>\n",
              "      <td>Laptop</td>\n",
              "      <td>No</td>\n",
              "      <td>2009</td>\n",
              "      <td>5000</td>\n",
              "    </tr>\n",
              "    <tr>\n",
              "      <th>4</th>\n",
              "      <td>Mark D. Lurie, MD</td>\n",
              "      <td>CA</td>\n",
              "      <td>Healthcare Provider</td>\n",
              "      <td>5166</td>\n",
              "      <td>2009-11-20</td>\n",
              "      <td>Theft</td>\n",
              "      <td>Desktop Computer</td>\n",
              "      <td>No</td>\n",
              "      <td>2009</td>\n",
              "      <td>5000</td>\n",
              "    </tr>\n",
              "    <tr>\n",
              "      <th>...</th>\n",
              "      <td>...</td>\n",
              "      <td>...</td>\n",
              "      <td>...</td>\n",
              "      <td>...</td>\n",
              "      <td>...</td>\n",
              "      <td>...</td>\n",
              "      <td>...</td>\n",
              "      <td>...</td>\n",
              "      <td>...</td>\n",
              "      <td>...</td>\n",
              "    </tr>\n",
              "    <tr>\n",
              "      <th>1632</th>\n",
              "      <td>Northwest Community Healthcare</td>\n",
              "      <td>IL</td>\n",
              "      <td>Healthcare Provider</td>\n",
              "      <td>540</td>\n",
              "      <td>2016-10-07</td>\n",
              "      <td>Unauthorized Access/Disclosure</td>\n",
              "      <td>Other Portable Electronic Device</td>\n",
              "      <td>No</td>\n",
              "      <td>2016</td>\n",
              "      <td>1600</td>\n",
              "    </tr>\n",
              "    <tr>\n",
              "      <th>1633</th>\n",
              "      <td>Warren Clinic</td>\n",
              "      <td>OK</td>\n",
              "      <td>Healthcare Provider</td>\n",
              "      <td>2938</td>\n",
              "      <td>2016-10-07</td>\n",
              "      <td>Hacking/IT Incident</td>\n",
              "      <td>Network Server</td>\n",
              "      <td>No</td>\n",
              "      <td>2016</td>\n",
              "      <td>26000</td>\n",
              "    </tr>\n",
              "    <tr>\n",
              "      <th>1634</th>\n",
              "      <td>Baxter Healthcare</td>\n",
              "      <td>IL</td>\n",
              "      <td>Healthcare Provider</td>\n",
              "      <td>992</td>\n",
              "      <td>2016-10-10</td>\n",
              "      <td>Unauthorized Access/Disclosure</td>\n",
              "      <td>Email</td>\n",
              "      <td>No</td>\n",
              "      <td>2016</td>\n",
              "      <td>1600</td>\n",
              "    </tr>\n",
              "    <tr>\n",
              "      <th>1635</th>\n",
              "      <td>Peabody Retirement Community</td>\n",
              "      <td>IN</td>\n",
              "      <td>Healthcare Provider</td>\n",
              "      <td>1466</td>\n",
              "      <td>2016-10-14</td>\n",
              "      <td>Hacking/IT Incident</td>\n",
              "      <td>Email, Network Server</td>\n",
              "      <td>No</td>\n",
              "      <td>2016</td>\n",
              "      <td>26000</td>\n",
              "    </tr>\n",
              "    <tr>\n",
              "      <th>1636</th>\n",
              "      <td>Gibson Insurance Agency, Inc.</td>\n",
              "      <td>IN</td>\n",
              "      <td>Business Associate</td>\n",
              "      <td>7242</td>\n",
              "      <td>2016-10-14</td>\n",
              "      <td>Theft</td>\n",
              "      <td>Laptop</td>\n",
              "      <td>Yes</td>\n",
              "      <td>2016</td>\n",
              "      <td>26000</td>\n",
              "    </tr>\n",
              "  </tbody>\n",
              "</table>\n",
              "<p>1585 rows × 10 columns</p>\n",
              "</div>\n",
              "      <button class=\"colab-df-convert\" onclick=\"convertToInteractive('df-3615afd5-09e6-4d9e-9742-d9158d4b7299')\"\n",
              "              title=\"Convert this dataframe to an interactive table.\"\n",
              "              style=\"display:none;\">\n",
              "        \n",
              "  <svg xmlns=\"http://www.w3.org/2000/svg\" height=\"24px\"viewBox=\"0 0 24 24\"\n",
              "       width=\"24px\">\n",
              "    <path d=\"M0 0h24v24H0V0z\" fill=\"none\"/>\n",
              "    <path d=\"M18.56 5.44l.94 2.06.94-2.06 2.06-.94-2.06-.94-.94-2.06-.94 2.06-2.06.94zm-11 1L8.5 8.5l.94-2.06 2.06-.94-2.06-.94L8.5 2.5l-.94 2.06-2.06.94zm10 10l.94 2.06.94-2.06 2.06-.94-2.06-.94-.94-2.06-.94 2.06-2.06.94z\"/><path d=\"M17.41 7.96l-1.37-1.37c-.4-.4-.92-.59-1.43-.59-.52 0-1.04.2-1.43.59L10.3 9.45l-7.72 7.72c-.78.78-.78 2.05 0 2.83L4 21.41c.39.39.9.59 1.41.59.51 0 1.02-.2 1.41-.59l7.78-7.78 2.81-2.81c.8-.78.8-2.07 0-2.86zM5.41 20L4 18.59l7.72-7.72 1.47 1.35L5.41 20z\"/>\n",
              "  </svg>\n",
              "      </button>\n",
              "      \n",
              "  <style>\n",
              "    .colab-df-container {\n",
              "      display:flex;\n",
              "      flex-wrap:wrap;\n",
              "      gap: 12px;\n",
              "    }\n",
              "\n",
              "    .colab-df-convert {\n",
              "      background-color: #E8F0FE;\n",
              "      border: none;\n",
              "      border-radius: 50%;\n",
              "      cursor: pointer;\n",
              "      display: none;\n",
              "      fill: #1967D2;\n",
              "      height: 32px;\n",
              "      padding: 0 0 0 0;\n",
              "      width: 32px;\n",
              "    }\n",
              "\n",
              "    .colab-df-convert:hover {\n",
              "      background-color: #E2EBFA;\n",
              "      box-shadow: 0px 1px 2px rgba(60, 64, 67, 0.3), 0px 1px 3px 1px rgba(60, 64, 67, 0.15);\n",
              "      fill: #174EA6;\n",
              "    }\n",
              "\n",
              "    [theme=dark] .colab-df-convert {\n",
              "      background-color: #3B4455;\n",
              "      fill: #D2E3FC;\n",
              "    }\n",
              "\n",
              "    [theme=dark] .colab-df-convert:hover {\n",
              "      background-color: #434B5C;\n",
              "      box-shadow: 0px 1px 3px 1px rgba(0, 0, 0, 0.15);\n",
              "      filter: drop-shadow(0px 1px 2px rgba(0, 0, 0, 0.3));\n",
              "      fill: #FFFFFF;\n",
              "    }\n",
              "  </style>\n",
              "\n",
              "      <script>\n",
              "        const buttonEl =\n",
              "          document.querySelector('#df-3615afd5-09e6-4d9e-9742-d9158d4b7299 button.colab-df-convert');\n",
              "        buttonEl.style.display =\n",
              "          google.colab.kernel.accessAllowed ? 'block' : 'none';\n",
              "\n",
              "        async function convertToInteractive(key) {\n",
              "          const element = document.querySelector('#df-3615afd5-09e6-4d9e-9742-d9158d4b7299');\n",
              "          const dataTable =\n",
              "            await google.colab.kernel.invokeFunction('convertToInteractive',\n",
              "                                                     [key], {});\n",
              "          if (!dataTable) return;\n",
              "\n",
              "          const docLinkHtml = 'Like what you see? Visit the ' +\n",
              "            '<a target=\"_blank\" href=https://colab.research.google.com/notebooks/data_table.ipynb>data table notebook</a>'\n",
              "            + ' to learn more about interactive tables.';\n",
              "          element.innerHTML = '';\n",
              "          dataTable['output_type'] = 'display_data';\n",
              "          await google.colab.output.renderOutput(dataTable, element);\n",
              "          const docLink = document.createElement('div');\n",
              "          docLink.innerHTML = docLinkHtml;\n",
              "          element.appendChild(docLink);\n",
              "        }\n",
              "      </script>\n",
              "    </div>\n",
              "  </div>\n",
              "  "
            ]
          },
          "metadata": {},
          "execution_count": 10
        }
      ]
    },
    {
      "cell_type": "code",
      "source": [
        "data['Individuals Affected'].replace([''], [0], inplace=True)"
      ],
      "metadata": {
        "id": "eBqHUIuSS6lk"
      },
      "execution_count": null,
      "outputs": []
    },
    {
      "cell_type": "code",
      "source": [
        "data.dtypes"
      ],
      "metadata": {
        "colab": {
          "base_uri": "https://localhost:8080/"
        },
        "id": "6Q0Z23YzHAYj",
        "outputId": "0fd3caaa-54f5-4fa3-f195-daff93caac70"
      },
      "execution_count": null,
      "outputs": [
        {
          "output_type": "execute_result",
          "data": {
            "text/plain": [
              "Name of Covered Entity              object\n",
              "State                               object\n",
              "Covered Entity Type                 object\n",
              "Individuals Affected                 int64\n",
              "Breach Submission Date              object\n",
              "Type of Breach                      object\n",
              "Location of Breached Information    object\n",
              "Business Associate Present          object\n",
              "year                                 int64\n",
              "Loss                                 int64\n",
              "dtype: object"
            ]
          },
          "metadata": {},
          "execution_count": 14
        }
      ]
    },
    {
      "cell_type": "code",
      "source": [
        "data['Breach Submission Date'] =  pd.to_datetime(data['Breach Submission Date'])\n",
        "data['Individuals Affected'] = data['Individuals Affected'].astype('int')\n",
        "data.dtypes"
      ],
      "metadata": {
        "colab": {
          "base_uri": "https://localhost:8080/"
        },
        "id": "ZJ3CfGv6Q826",
        "outputId": "2ea91279-d0ea-4226-d1a6-56686e36765f"
      },
      "execution_count": null,
      "outputs": [
        {
          "output_type": "execute_result",
          "data": {
            "text/plain": [
              "Name of Covered Entity                      object\n",
              "State                                       object\n",
              "Covered Entity Type                         object\n",
              "Individuals Affected                         int64\n",
              "Breach Submission Date              datetime64[ns]\n",
              "Type of Breach                              object\n",
              "Location of Breached Information            object\n",
              "Business Associate Present                  object\n",
              "year                                         int64\n",
              "Loss                                         int64\n",
              "dtype: object"
            ]
          },
          "metadata": {},
          "execution_count": 12
        }
      ]
    },
    {
      "cell_type": "code",
      "source": [
        "data['Individuals Affected'].round(decimals = 0)"
      ],
      "metadata": {
        "colab": {
          "base_uri": "https://localhost:8080/"
        },
        "id": "GwDixYhF_n_Q",
        "outputId": "04104c5d-16c9-4586-caac-bf52a0e9ed68"
      },
      "execution_count": null,
      "outputs": [
        {
          "output_type": "execute_result",
          "data": {
            "text/plain": [
              "0       1000\n",
              "1       1000\n",
              "2        501\n",
              "3       3800\n",
              "4       5166\n",
              "        ... \n",
              "1632     540\n",
              "1633    2938\n",
              "1634     992\n",
              "1635    1466\n",
              "1636    7242\n",
              "Name: Individuals Affected, Length: 1637, dtype: int64"
            ]
          },
          "metadata": {},
          "execution_count": 13
        }
      ]
    },
    {
      "cell_type": "code",
      "source": [
        "data.nunique()"
      ],
      "metadata": {
        "colab": {
          "base_uri": "https://localhost:8080/"
        },
        "id": "di38sKvQHAcr",
        "outputId": "356451fd-d0ec-4206-c11b-eab02d63058b"
      },
      "execution_count": null,
      "outputs": [
        {
          "output_type": "execute_result",
          "data": {
            "text/plain": [
              "Name of Covered Entity              1497\n",
              "State                                 52\n",
              "Covered Entity Type                    4\n",
              "Individuals Affected                1153\n",
              "Breach Submission Date              1024\n",
              "Type of Breach                        28\n",
              "Location of Breached Information      60\n",
              "Business Associate Present             2\n",
              "year                                   8\n",
              "Loss                                  13\n",
              "dtype: int64"
            ]
          },
          "metadata": {},
          "execution_count": 17
        }
      ]
    },
    {
      "cell_type": "code",
      "source": [
        "data['Covered Entity Type'].unique()"
      ],
      "metadata": {
        "colab": {
          "base_uri": "https://localhost:8080/"
        },
        "id": "fmwCe30qdPxU",
        "outputId": "cdc4e5a9-dbc0-44f9-fd31-49cc00768e01"
      },
      "execution_count": null,
      "outputs": [
        {
          "output_type": "execute_result",
          "data": {
            "text/plain": [
              "array(['Healthcare Provider', 'Health Plan', 'Business Associate', nan,\n",
              "       'Healthcare Clearing House'], dtype=object)"
            ]
          },
          "metadata": {},
          "execution_count": 18
        }
      ]
    },
    {
      "cell_type": "code",
      "source": [
        "data.groupby(data['Type of Breach'])['Name of Covered Entity'].nunique()"
      ],
      "metadata": {
        "colab": {
          "base_uri": "https://localhost:8080/"
        },
        "id": "CuWXQDvFdZzg",
        "outputId": "f5ee2159-a062-420f-8c00-79356d4418cc"
      },
      "execution_count": null,
      "outputs": [
        {
          "output_type": "execute_result",
          "data": {
            "text/plain": [
              "Type of Breach\n",
              "Hacking/IT Incident                                           195\n",
              "Hacking/IT Incident, Other                                      2\n",
              "Hacking/IT Incident, Other, Unauthorized Access/Disclosure      1\n",
              "Hacking/IT Incident, Theft                                      1\n",
              "Hacking/IT Incident, Theft, Unauthorized Access/Disclosure      2\n",
              "Hacking/IT Incident, Unauthorized Access/Disclosure             8\n",
              "Improper Disposal                                              48\n",
              "Improper Disposal, Loss                                         3\n",
              "Improper Disposal, Loss, Theft                                  3\n",
              "Improper Disposal, Theft                                        1\n",
              "Improper Disposal, Theft, Unauthorized Access/Disclosure        1\n",
              "Improper Disposal, Unauthorized Access/Disclosure               1\n",
              "Loss                                                          111\n",
              "Loss, Other                                                     2\n",
              "Loss, Other, Theft                                              1\n",
              "Loss, Theft                                                    15\n",
              "Loss, Unauthorized Access/Disclosure                            1\n",
              "Loss, Unauthorized Access/Disclosure, Unknown                   1\n",
              "Loss, Unknown                                                   1\n",
              "Other                                                          73\n",
              "Other, Theft                                                    3\n",
              "Other, Theft, Unauthorized Access/Disclosure                    2\n",
              "Other, Unauthorized Access/Disclosure                           7\n",
              "Other, Unknown                                                  1\n",
              "Theft                                                         666\n",
              "Theft, Unauthorized Access/Disclosure                          24\n",
              "Unauthorized Access/Disclosure                                373\n",
              "Unknown                                                         8\n",
              "Name: Name of Covered Entity, dtype: int64"
            ]
          },
          "metadata": {},
          "execution_count": 19
        }
      ]
    },
    {
      "cell_type": "code",
      "source": [
        "data['Location of Breached Information'].unique()"
      ],
      "metadata": {
        "colab": {
          "base_uri": "https://localhost:8080/"
        },
        "id": "t0KwbMg-df4E",
        "outputId": "fb3641ef-8c70-46bc-d918-65d3abb03785"
      },
      "execution_count": null,
      "outputs": [
        {
          "output_type": "execute_result",
          "data": {
            "text/plain": [
              "array(['Paper/Films', 'Network Server',\n",
              "       'Other, Other Portable Electronic Device', 'Laptop',\n",
              "       'Desktop Computer', 'Other',\n",
              "       'Desktop Computer, Electronic Medical Record, Network Server',\n",
              "       'Desktop Computer, Laptop', 'Other Portable Electronic Device',\n",
              "       'Email',\n",
              "       'Electronic Medical Record, Other, Other Portable Electronic Device',\n",
              "       'Other, Paper/Films', 'Email, Other Portable Electronic Device',\n",
              "       'Desktop Computer, Email, Laptop, Network Server',\n",
              "       'Desktop Computer, Paper/Films',\n",
              "       'Desktop Computer, Laptop, Other, Other Portable Electronic Device',\n",
              "       'Electronic Medical Record', 'Laptop, Paper/Films',\n",
              "       'Laptop, Network Server', 'Desktop Computer, Network Server',\n",
              "       'Email, Network Server',\n",
              "       'Desktop Computer, Other, Other Portable Electronic Device',\n",
              "       'Desktop Computer, Network Server, Other, Other Portable Electronic Device',\n",
              "       'Desktop Computer, Electronic Medical Record, Email, Laptop, Network Server, Other, Other Portable Electronic Device',\n",
              "       'Electronic Medical Record, Other', nan,\n",
              "       'Laptop, Other Portable Electronic Device, Paper/Films',\n",
              "       'Desktop Computer, Electronic Medical Record, Email, Laptop, Network Server, Other, Other Portable Electronic Device, Paper/Films',\n",
              "       'Electronic Medical Record, Laptop',\n",
              "       'Electronic Medical Record, Paper/Films',\n",
              "       'Laptop, Other Portable Electronic Device',\n",
              "       'Desktop Computer, Electronic Medical Record',\n",
              "       'Desktop Computer, Other Portable Electronic Device',\n",
              "       'Email, Other', 'Network Server, Paper/Films',\n",
              "       'Network Server, Other',\n",
              "       'Desktop Computer, Electronic Medical Record, Email, Network Server, Paper/Films',\n",
              "       'Desktop Computer, Other, Other Portable Electronic Device, Paper/Films',\n",
              "       'Desktop Computer, Email', 'Email, Laptop, Network Server',\n",
              "       'Email, Laptop, Other Portable Electronic Device',\n",
              "       'Desktop Computer, Laptop, Other Portable Electronic Device',\n",
              "       'Electronic Medical Record, Network Server',\n",
              "       'Desktop Computer, Network Server, Paper/Films', 'Laptop, Other',\n",
              "       'Desktop Computer, Laptop, Network Server',\n",
              "       'Other Portable Electronic Device, Paper/Films',\n",
              "       'Desktop Computer, Electronic Medical Record, Laptop',\n",
              "       'Desktop Computer, Electronic Medical Record, Email, Network Server',\n",
              "       'Desktop Computer, Electronic Medical Record, Email, Laptop, Network Server, Other Portable Electronic Device',\n",
              "       'Email, Network Server, Other Portable Electronic Device',\n",
              "       'Desktop Computer, Laptop, Paper/Films',\n",
              "       'Desktop Computer, Other Portable Electronic Device, Paper/Films',\n",
              "       'Electronic Medical Record, Laptop, Network Server, Other, Other Portable Electronic Device',\n",
              "       'Email, Laptop, Paper/Films',\n",
              "       'Desktop Computer, Laptop, Network Server, Other Portable Electronic Device',\n",
              "       'Desktop Computer, Email, Laptop, Network Server, Other Portable Electronic Device',\n",
              "       'Desktop Computer, Other',\n",
              "       'Desktop Computer, Electronic Medical Record, Email, Laptop, Network Server',\n",
              "       'Desktop Computer, Email, Network Server',\n",
              "       'Desktop Computer, Electronic Medical Record, Other'], dtype=object)"
            ]
          },
          "metadata": {},
          "execution_count": 20
        }
      ]
    },
    {
      "cell_type": "code",
      "source": [],
      "metadata": {
        "id": "hagDftAmixwH"
      },
      "execution_count": null,
      "outputs": []
    },
    {
      "cell_type": "code",
      "source": [
        "data.describe()"
      ],
      "metadata": {
        "colab": {
          "base_uri": "https://localhost:8080/",
          "height": 300
        },
        "id": "ftl6fzPg-xSO",
        "outputId": "68ecc4b6-d675-4e60-f61d-d9dd3db7073c"
      },
      "execution_count": null,
      "outputs": [
        {
          "output_type": "execute_result",
          "data": {
            "text/plain": [
              "       Individuals Affected         year           Loss\n",
              "count           1637.000000  1637.000000    1637.000000\n",
              "mean            6840.324374  2013.168601   16649.786194\n",
              "std            13079.686023     1.958223   33588.441010\n",
              "min                0.000000  2009.000000       0.000000\n",
              "25%              950.000000  2012.000000       0.000000\n",
              "50%             2082.000000  2013.000000    5000.000000\n",
              "75%             6332.000000  2015.000000   26000.000000\n",
              "max            97000.000000  2016.000000  250000.000000"
            ],
            "text/html": [
              "\n",
              "  <div id=\"df-e4b2c2f5-68d8-4d4a-90d0-67a996c463d9\">\n",
              "    <div class=\"colab-df-container\">\n",
              "      <div>\n",
              "<style scoped>\n",
              "    .dataframe tbody tr th:only-of-type {\n",
              "        vertical-align: middle;\n",
              "    }\n",
              "\n",
              "    .dataframe tbody tr th {\n",
              "        vertical-align: top;\n",
              "    }\n",
              "\n",
              "    .dataframe thead th {\n",
              "        text-align: right;\n",
              "    }\n",
              "</style>\n",
              "<table border=\"1\" class=\"dataframe\">\n",
              "  <thead>\n",
              "    <tr style=\"text-align: right;\">\n",
              "      <th></th>\n",
              "      <th>Individuals Affected</th>\n",
              "      <th>year</th>\n",
              "      <th>Loss</th>\n",
              "    </tr>\n",
              "  </thead>\n",
              "  <tbody>\n",
              "    <tr>\n",
              "      <th>count</th>\n",
              "      <td>1637.000000</td>\n",
              "      <td>1637.000000</td>\n",
              "      <td>1637.000000</td>\n",
              "    </tr>\n",
              "    <tr>\n",
              "      <th>mean</th>\n",
              "      <td>6840.324374</td>\n",
              "      <td>2013.168601</td>\n",
              "      <td>16649.786194</td>\n",
              "    </tr>\n",
              "    <tr>\n",
              "      <th>std</th>\n",
              "      <td>13079.686023</td>\n",
              "      <td>1.958223</td>\n",
              "      <td>33588.441010</td>\n",
              "    </tr>\n",
              "    <tr>\n",
              "      <th>min</th>\n",
              "      <td>0.000000</td>\n",
              "      <td>2009.000000</td>\n",
              "      <td>0.000000</td>\n",
              "    </tr>\n",
              "    <tr>\n",
              "      <th>25%</th>\n",
              "      <td>950.000000</td>\n",
              "      <td>2012.000000</td>\n",
              "      <td>0.000000</td>\n",
              "    </tr>\n",
              "    <tr>\n",
              "      <th>50%</th>\n",
              "      <td>2082.000000</td>\n",
              "      <td>2013.000000</td>\n",
              "      <td>5000.000000</td>\n",
              "    </tr>\n",
              "    <tr>\n",
              "      <th>75%</th>\n",
              "      <td>6332.000000</td>\n",
              "      <td>2015.000000</td>\n",
              "      <td>26000.000000</td>\n",
              "    </tr>\n",
              "    <tr>\n",
              "      <th>max</th>\n",
              "      <td>97000.000000</td>\n",
              "      <td>2016.000000</td>\n",
              "      <td>250000.000000</td>\n",
              "    </tr>\n",
              "  </tbody>\n",
              "</table>\n",
              "</div>\n",
              "      <button class=\"colab-df-convert\" onclick=\"convertToInteractive('df-e4b2c2f5-68d8-4d4a-90d0-67a996c463d9')\"\n",
              "              title=\"Convert this dataframe to an interactive table.\"\n",
              "              style=\"display:none;\">\n",
              "        \n",
              "  <svg xmlns=\"http://www.w3.org/2000/svg\" height=\"24px\"viewBox=\"0 0 24 24\"\n",
              "       width=\"24px\">\n",
              "    <path d=\"M0 0h24v24H0V0z\" fill=\"none\"/>\n",
              "    <path d=\"M18.56 5.44l.94 2.06.94-2.06 2.06-.94-2.06-.94-.94-2.06-.94 2.06-2.06.94zm-11 1L8.5 8.5l.94-2.06 2.06-.94-2.06-.94L8.5 2.5l-.94 2.06-2.06.94zm10 10l.94 2.06.94-2.06 2.06-.94-2.06-.94-.94-2.06-.94 2.06-2.06.94z\"/><path d=\"M17.41 7.96l-1.37-1.37c-.4-.4-.92-.59-1.43-.59-.52 0-1.04.2-1.43.59L10.3 9.45l-7.72 7.72c-.78.78-.78 2.05 0 2.83L4 21.41c.39.39.9.59 1.41.59.51 0 1.02-.2 1.41-.59l7.78-7.78 2.81-2.81c.8-.78.8-2.07 0-2.86zM5.41 20L4 18.59l7.72-7.72 1.47 1.35L5.41 20z\"/>\n",
              "  </svg>\n",
              "      </button>\n",
              "      \n",
              "  <style>\n",
              "    .colab-df-container {\n",
              "      display:flex;\n",
              "      flex-wrap:wrap;\n",
              "      gap: 12px;\n",
              "    }\n",
              "\n",
              "    .colab-df-convert {\n",
              "      background-color: #E8F0FE;\n",
              "      border: none;\n",
              "      border-radius: 50%;\n",
              "      cursor: pointer;\n",
              "      display: none;\n",
              "      fill: #1967D2;\n",
              "      height: 32px;\n",
              "      padding: 0 0 0 0;\n",
              "      width: 32px;\n",
              "    }\n",
              "\n",
              "    .colab-df-convert:hover {\n",
              "      background-color: #E2EBFA;\n",
              "      box-shadow: 0px 1px 2px rgba(60, 64, 67, 0.3), 0px 1px 3px 1px rgba(60, 64, 67, 0.15);\n",
              "      fill: #174EA6;\n",
              "    }\n",
              "\n",
              "    [theme=dark] .colab-df-convert {\n",
              "      background-color: #3B4455;\n",
              "      fill: #D2E3FC;\n",
              "    }\n",
              "\n",
              "    [theme=dark] .colab-df-convert:hover {\n",
              "      background-color: #434B5C;\n",
              "      box-shadow: 0px 1px 3px 1px rgba(0, 0, 0, 0.15);\n",
              "      filter: drop-shadow(0px 1px 2px rgba(0, 0, 0, 0.3));\n",
              "      fill: #FFFFFF;\n",
              "    }\n",
              "  </style>\n",
              "\n",
              "      <script>\n",
              "        const buttonEl =\n",
              "          document.querySelector('#df-e4b2c2f5-68d8-4d4a-90d0-67a996c463d9 button.colab-df-convert');\n",
              "        buttonEl.style.display =\n",
              "          google.colab.kernel.accessAllowed ? 'block' : 'none';\n",
              "\n",
              "        async function convertToInteractive(key) {\n",
              "          const element = document.querySelector('#df-e4b2c2f5-68d8-4d4a-90d0-67a996c463d9');\n",
              "          const dataTable =\n",
              "            await google.colab.kernel.invokeFunction('convertToInteractive',\n",
              "                                                     [key], {});\n",
              "          if (!dataTable) return;\n",
              "\n",
              "          const docLinkHtml = 'Like what you see? Visit the ' +\n",
              "            '<a target=\"_blank\" href=https://colab.research.google.com/notebooks/data_table.ipynb>data table notebook</a>'\n",
              "            + ' to learn more about interactive tables.';\n",
              "          element.innerHTML = '';\n",
              "          dataTable['output_type'] = 'display_data';\n",
              "          await google.colab.output.renderOutput(dataTable, element);\n",
              "          const docLink = document.createElement('div');\n",
              "          docLink.innerHTML = docLinkHtml;\n",
              "          element.appendChild(docLink);\n",
              "        }\n",
              "      </script>\n",
              "    </div>\n",
              "  </div>\n",
              "  "
            ]
          },
          "metadata": {},
          "execution_count": 21
        }
      ]
    },
    {
      "cell_type": "code",
      "source": [
        "sns.set(rc={'figure.figsize':(12,5)})\n",
        "sns.set_style(\"white\")\n",
        "sns.histplot(data=data, x='Individuals Affected', bins = 30, color = 'lightcoral')"
      ],
      "metadata": {
        "colab": {
          "base_uri": "https://localhost:8080/",
          "height": 356
        },
        "id": "Lo66TGERHAgg",
        "outputId": "77c45e58-3f48-4444-f4e1-f655d6bc4ce0"
      },
      "execution_count": null,
      "outputs": [
        {
          "output_type": "execute_result",
          "data": {
            "text/plain": [
              "<matplotlib.axes._subplots.AxesSubplot at 0x7f03677d7790>"
            ]
          },
          "metadata": {},
          "execution_count": 22
        },
        {
          "output_type": "display_data",
          "data": {
            "text/plain": [
              "<Figure size 864x360 with 1 Axes>"
            ],
            "image/png": "[encoded data removed]"
          },
          "metadata": {}
        }
      ]
    },
    {
      "cell_type": "code",
      "source": [
        "data = data.drop(data[data['Individuals Affected'] > 100000].index)"
      ],
      "metadata": {
        "id": "Q0RgohSSHAk3"
      },
      "execution_count": null,
      "outputs": []
    },
    {
      "cell_type": "code",
      "source": [
        "sns.set(rc={'figure.figsize':(20,10)})\n",
        "sns.set_style(\"white\")\n",
        "sns.displot(data=data, x='Loss', kind=\"kde\", color = 'lightcoral')"
      ],
      "metadata": {
        "colab": {
          "base_uri": "https://localhost:8080/",
          "height": 382
        },
        "id": "81nXmE_pxAq6",
        "outputId": "f638bf35-727c-44f2-be30-f85bb4f7f860"
      },
      "execution_count": null,
      "outputs": [
        {
          "output_type": "execute_result",
          "data": {
            "text/plain": [
              "<seaborn.axisgrid.FacetGrid at 0x7f03676832d0>"
            ]
          },
          "metadata": {},
          "execution_count": 23
        },
        {
          "output_type": "display_data",
          "data": {
            "text/plain": [
              "<Figure size 360x360 with 1 Axes>"
            ],
            "image/png": "[encoded data removed]"
          },
          "metadata": {}
        }
      ]
    },
    {
      "cell_type": "code",
      "source": [
        "target = data['Loss']\n",
        "data.drop(['Loss'], axis = 1, inplace = True)"
      ],
      "metadata": {
        "id": "vPi7UYgEIH-Y"
      },
      "execution_count": null,
      "outputs": []
    },
    {
      "cell_type": "code",
      "source": [
        "data.drop(['Name of Covered Entity'], axis = 1, inplace = True)\n",
        "data.drop(['Breach Submission Date'], axis = 1, inplace = True)"
      ],
      "metadata": {
        "id": "dlCZPzwJOffr"
      },
      "execution_count": null,
      "outputs": []
    },
    {
      "cell_type": "code",
      "source": [
        "from sklearn.preprocessing import LabelEncoder # для включения в модель категориальных признаков использовался Label Encoder\n",
        "lb = LabelEncoder()"
      ],
      "metadata": {
        "id": "c_FQkAg3IICV"
      },
      "execution_count": null,
      "outputs": []
    },
    {
      "cell_type": "code",
      "source": [
        "data['State']=lb.fit_transform(data['State'].values)\n",
        "data['Covered Entity Type']=lb.fit_transform(data['Covered Entity Type'].values)\n",
        "data['Type of Breach']=lb.fit_transform(data['Type of Breach'].values)\n",
        "data['Location of Breached Information']=lb.fit_transform(data['Location of Breached Information'].values)\n",
        "data['Business Associate Present']=lb.fit_transform(data['Business Associate Present'].values)\n",
        "data['year']=lb.fit_transform(data['year'].values)"
      ],
      "metadata": {
        "id": "1WabEy1HN-Kw"
      },
      "execution_count": null,
      "outputs": []
    },
    {
      "cell_type": "code",
      "source": [
        "data = data.reset_index(drop=True)\n",
        "data"
      ],
      "metadata": {
        "colab": {
          "base_uri": "https://localhost:8080/",
          "height": 424
        },
        "id": "LY4neY2APG8R",
        "outputId": "412b83db-852b-4e29-cf6f-24dcc0e4e8ed"
      },
      "execution_count": null,
      "outputs": [
        {
          "output_type": "execute_result",
          "data": {
            "text/plain": [
              "      State  Covered Entity Type  Individuals Affected  Type of Breach  \\\n",
              "0        44                    3                  1000              24   \n",
              "1        24                    3                  1000              24   \n",
              "2         0                    3                   501              24   \n",
              "3         7                    1                  3800              12   \n",
              "4         4                    3                  5166              24   \n",
              "...     ...                  ...                   ...             ...   \n",
              "1632     14                    3                   540              26   \n",
              "1633     36                    3                  2938               0   \n",
              "1634     14                    3                   992              26   \n",
              "1635     15                    3                  1466               0   \n",
              "1636     15                    0                  7242              24   \n",
              "\n",
              "      Location of Breached Information  Business Associate Present  year  \n",
              "0                                   59                           0     0  \n",
              "1                                   51                           0     0  \n",
              "2                                   57                           0     0  \n",
              "3                                   45                           0     0  \n",
              "4                                    0                           0     0  \n",
              "...                                ...                         ...   ...  \n",
              "1632                                55                           0     7  \n",
              "1633                                51                           0     7  \n",
              "1634                                37                           0     7  \n",
              "1635                                41                           0     7  \n",
              "1636                                45                           1     7  \n",
              "\n",
              "[1637 rows x 7 columns]"
            ],
            "text/html": [
              "\n",
              "  <div id=\"df-55e95c1a-4fc3-4c2c-b2d7-1b0750ed17ec\">\n",
              "    <div class=\"colab-df-container\">\n",
              "      <div>\n",
              "<style scoped>\n",
              "    .dataframe tbody tr th:only-of-type {\n",
              "        vertical-align: middle;\n",
              "    }\n",
              "\n",
              "    .dataframe tbody tr th {\n",
              "        vertical-align: top;\n",
              "    }\n",
              "\n",
              "    .dataframe thead th {\n",
              "        text-align: right;\n",
              "    }\n",
              "</style>\n",
              "<table border=\"1\" class=\"dataframe\">\n",
              "  <thead>\n",
              "    <tr style=\"text-align: right;\">\n",
              "      <th></th>\n",
              "      <th>State</th>\n",
              "      <th>Covered Entity Type</th>\n",
              "      <th>Individuals Affected</th>\n",
              "      <th>Type of Breach</th>\n",
              "      <th>Location of Breached Information</th>\n",
              "      <th>Business Associate Present</th>\n",
              "      <th>year</th>\n",
              "    </tr>\n",
              "  </thead>\n",
              "  <tbody>\n",
              "    <tr>\n",
              "      <th>0</th>\n",
              "      <td>44</td>\n",
              "      <td>3</td>\n",
              "      <td>1000</td>\n",
              "      <td>24</td>\n",
              "      <td>59</td>\n",
              "      <td>0</td>\n",
              "      <td>0</td>\n",
              "    </tr>\n",
              "    <tr>\n",
              "      <th>1</th>\n",
              "      <td>24</td>\n",
              "      <td>3</td>\n",
              "      <td>1000</td>\n",
              "      <td>24</td>\n",
              "      <td>51</td>\n",
              "      <td>0</td>\n",
              "      <td>0</td>\n",
              "    </tr>\n",
              "    <tr>\n",
              "      <th>2</th>\n",
              "      <td>0</td>\n",
              "      <td>3</td>\n",
              "      <td>501</td>\n",
              "      <td>24</td>\n",
              "      <td>57</td>\n",
              "      <td>0</td>\n",
              "      <td>0</td>\n",
              "    </tr>\n",
              "    <tr>\n",
              "      <th>3</th>\n",
              "      <td>7</td>\n",
              "      <td>1</td>\n",
              "      <td>3800</td>\n",
              "      <td>12</td>\n",
              "      <td>45</td>\n",
              "      <td>0</td>\n",
              "      <td>0</td>\n",
              "    </tr>\n",
              "    <tr>\n",
              "      <th>4</th>\n",
              "      <td>4</td>\n",
              "      <td>3</td>\n",
              "      <td>5166</td>\n",
              "      <td>24</td>\n",
              "      <td>0</td>\n",
              "      <td>0</td>\n",
              "      <td>0</td>\n",
              "    </tr>\n",
              "    <tr>\n",
              "      <th>...</th>\n",
              "      <td>...</td>\n",
              "      <td>...</td>\n",
              "      <td>...</td>\n",
              "      <td>...</td>\n",
              "      <td>...</td>\n",
              "      <td>...</td>\n",
              "      <td>...</td>\n",
              "    </tr>\n",
              "    <tr>\n",
              "      <th>1632</th>\n",
              "      <td>14</td>\n",
              "      <td>3</td>\n",
              "      <td>540</td>\n",
              "      <td>26</td>\n",
              "      <td>55</td>\n",
              "      <td>0</td>\n",
              "      <td>7</td>\n",
              "    </tr>\n",
              "    <tr>\n",
              "      <th>1633</th>\n",
              "      <td>36</td>\n",
              "      <td>3</td>\n",
              "      <td>2938</td>\n",
              "      <td>0</td>\n",
              "      <td>51</td>\n",
              "      <td>0</td>\n",
              "      <td>7</td>\n",
              "    </tr>\n",
              "    <tr>\n",
              "      <th>1634</th>\n",
              "      <td>14</td>\n",
              "      <td>3</td>\n",
              "      <td>992</td>\n",
              "      <td>26</td>\n",
              "      <td>37</td>\n",
              "      <td>0</td>\n",
              "      <td>7</td>\n",
              "    </tr>\n",
              "    <tr>\n",
              "      <th>1635</th>\n",
              "      <td>15</td>\n",
              "      <td>3</td>\n",
              "      <td>1466</td>\n",
              "      <td>0</td>\n",
              "      <td>41</td>\n",
              "      <td>0</td>\n",
              "      <td>7</td>\n",
              "    </tr>\n",
              "    <tr>\n",
              "      <th>1636</th>\n",
              "      <td>15</td>\n",
              "      <td>0</td>\n",
              "      <td>7242</td>\n",
              "      <td>24</td>\n",
              "      <td>45</td>\n",
              "      <td>1</td>\n",
              "      <td>7</td>\n",
              "    </tr>\n",
              "  </tbody>\n",
              "</table>\n",
              "<p>1637 rows × 7 columns</p>\n",
              "</div>\n",
              "      <button class=\"colab-df-convert\" onclick=\"convertToInteractive('df-55e95c1a-4fc3-4c2c-b2d7-1b0750ed17ec')\"\n",
              "              title=\"Convert this dataframe to an interactive table.\"\n",
              "              style=\"display:none;\">\n",
              "        \n",
              "  <svg xmlns=\"http://www.w3.org/2000/svg\" height=\"24px\"viewBox=\"0 0 24 24\"\n",
              "       width=\"24px\">\n",
              "    <path d=\"M0 0h24v24H0V0z\" fill=\"none\"/>\n",
              "    <path d=\"M18.56 5.44l.94 2.06.94-2.06 2.06-.94-2.06-.94-.94-2.06-.94 2.06-2.06.94zm-11 1L8.5 8.5l.94-2.06 2.06-.94-2.06-.94L8.5 2.5l-.94 2.06-2.06.94zm10 10l.94 2.06.94-2.06 2.06-.94-2.06-.94-.94-2.06-.94 2.06-2.06.94z\"/><path d=\"M17.41 7.96l-1.37-1.37c-.4-.4-.92-.59-1.43-.59-.52 0-1.04.2-1.43.59L10.3 9.45l-7.72 7.72c-.78.78-.78 2.05 0 2.83L4 21.41c.39.39.9.59 1.41.59.51 0 1.02-.2 1.41-.59l7.78-7.78 2.81-2.81c.8-.78.8-2.07 0-2.86zM5.41 20L4 18.59l7.72-7.72 1.47 1.35L5.41 20z\"/>\n",
              "  </svg>\n",
              "      </button>\n",
              "      \n",
              "  <style>\n",
              "    .colab-df-container {\n",
              "      display:flex;\n",
              "      flex-wrap:wrap;\n",
              "      gap: 12px;\n",
              "    }\n",
              "\n",
              "    .colab-df-convert {\n",
              "      background-color: #E8F0FE;\n",
              "      border: none;\n",
              "      border-radius: 50%;\n",
              "      cursor: pointer;\n",
              "      display: none;\n",
              "      fill: #1967D2;\n",
              "      height: 32px;\n",
              "      padding: 0 0 0 0;\n",
              "      width: 32px;\n",
              "    }\n",
              "\n",
              "    .colab-df-convert:hover {\n",
              "      background-color: #E2EBFA;\n",
              "      box-shadow: 0px 1px 2px rgba(60, 64, 67, 0.3), 0px 1px 3px 1px rgba(60, 64, 67, 0.15);\n",
              "      fill: #174EA6;\n",
              "    }\n",
              "\n",
              "    [theme=dark] .colab-df-convert {\n",
              "      background-color: #3B4455;\n",
              "      fill: #D2E3FC;\n",
              "    }\n",
              "\n",
              "    [theme=dark] .colab-df-convert:hover {\n",
              "      background-color: #434B5C;\n",
              "      box-shadow: 0px 1px 3px 1px rgba(0, 0, 0, 0.15);\n",
              "      filter: drop-shadow(0px 1px 2px rgba(0, 0, 0, 0.3));\n",
              "      fill: #FFFFFF;\n",
              "    }\n",
              "  </style>\n",
              "\n",
              "      <script>\n",
              "        const buttonEl =\n",
              "          document.querySelector('#df-55e95c1a-4fc3-4c2c-b2d7-1b0750ed17ec button.colab-df-convert');\n",
              "        buttonEl.style.display =\n",
              "          google.colab.kernel.accessAllowed ? 'block' : 'none';\n",
              "\n",
              "        async function convertToInteractive(key) {\n",
              "          const element = document.querySelector('#df-55e95c1a-4fc3-4c2c-b2d7-1b0750ed17ec');\n",
              "          const dataTable =\n",
              "            await google.colab.kernel.invokeFunction('convertToInteractive',\n",
              "                                                     [key], {});\n",
              "          if (!dataTable) return;\n",
              "\n",
              "          const docLinkHtml = 'Like what you see? Visit the ' +\n",
              "            '<a target=\"_blank\" href=https://colab.research.google.com/notebooks/data_table.ipynb>data table notebook</a>'\n",
              "            + ' to learn more about interactive tables.';\n",
              "          element.innerHTML = '';\n",
              "          dataTable['output_type'] = 'display_data';\n",
              "          await google.colab.output.renderOutput(dataTable, element);\n",
              "          const docLink = document.createElement('div');\n",
              "          docLink.innerHTML = docLinkHtml;\n",
              "          element.appendChild(docLink);\n",
              "        }\n",
              "      </script>\n",
              "    </div>\n",
              "  </div>\n",
              "  "
            ]
          },
          "metadata": {},
          "execution_count": 19
        }
      ]
    },
    {
      "cell_type": "code",
      "source": [
        "target = target.reset_index(drop = True)\n",
        "target"
      ],
      "metadata": {
        "colab": {
          "base_uri": "https://localhost:8080/"
        },
        "id": "BQMnV2qVPlBK",
        "outputId": "a9f60962-a743-49da-da2e-5ae314c05b64"
      },
      "execution_count": null,
      "outputs": [
        {
          "output_type": "execute_result",
          "data": {
            "text/plain": [
              "0        5000\n",
              "1        5000\n",
              "2        1000\n",
              "3        5000\n",
              "4        5000\n",
              "        ...  \n",
              "1632     1600\n",
              "1633    26000\n",
              "1634     1600\n",
              "1635    26000\n",
              "1636    26000\n",
              "Name: Loss, Length: 1637, dtype: int64"
            ]
          },
          "metadata": {},
          "execution_count": 20
        }
      ]
    },
    {
      "cell_type": "code",
      "source": [
        "from sklearn.metrics import mean_squared_error"
      ],
      "metadata": {
        "id": "4DTx_zMxN-OY"
      },
      "execution_count": null,
      "outputs": []
    },
    {
      "cell_type": "code",
      "source": [
        "from sklearn.tree import DecisionTreeRegressor\n",
        "from sklearn.model_selection import train_test_split"
      ],
      "metadata": {
        "id": "HX6Ky2mQN-R-"
      },
      "execution_count": null,
      "outputs": []
    },
    {
      "cell_type": "code",
      "source": [
        "from sklearn.model_selection import StratifiedKFold"
      ],
      "metadata": {
        "id": "BNQ-0JDSN-VG"
      },
      "execution_count": null,
      "outputs": []
    },
    {
      "cell_type": "code",
      "source": [
        "import time"
      ],
      "metadata": {
        "id": "0Hg76uThPLO8"
      },
      "execution_count": null,
      "outputs": []
    },
    {
      "cell_type": "code",
      "source": [
        "import graphviz"
      ],
      "metadata": {
        "id": "xwu-oWxi94Cg"
      },
      "execution_count": null,
      "outputs": []
    },
    {
      "cell_type": "code",
      "source": [
        "from memory_profiler import profile"
      ],
      "metadata": {
        "id": "vVO7g8T3OccS"
      },
      "execution_count": null,
      "outputs": []
    },
    {
      "cell_type": "markdown",
      "source": [
        "Кросс-валидация"
      ],
      "metadata": {
        "id": "tsmnYvA1P7lX"
      }
    },
    {
      "cell_type": "code",
      "source": [
        "n_folds = 3\n",
        "folds= KFold(n_splits = n_folds, shuffle = False)"
      ],
      "metadata": {
        "id": "Vt_1SkXBO1TC"
      },
      "execution_count": null,
      "outputs": []
    },
    {
      "cell_type": "markdown",
      "source": [
        "Однокомпонентная модель Decision Tree Regressor"
      ],
      "metadata": {
        "id": "-DPFUg7BP_hx"
      }
    },
    {
      "cell_type": "code",
      "source": [
        "scores_regression = {}"
      ],
      "metadata": {
        "id": "Fl-SMlvBa5es"
      },
      "execution_count": null,
      "outputs": []
    },
    {
      "cell_type": "code",
      "source": [
        "time_model = {}"
      ],
      "metadata": {
        "id": "k5zZnEcR6B_l"
      },
      "execution_count": null,
      "outputs": []
    },
    {
      "cell_type": "code",
      "source": [
        "for _,(idx_train,idx_valid) in enumerate(folds.split(data, target)):\n",
        "    X_train = data.iloc[idx_train]\n",
        "    y_train = target[idx_train]\n",
        "    X_valid = data.iloc[idx_valid]\n",
        "    y_valid = target[idx_valid]\n",
        "\n",
        "    regressor = DecisionTreeRegressor(max_depth = 6)\n",
        "    regressor.fit(X_train, y_train)\n",
        "\n",
        "    pred = regressor.predict(X_valid)\n",
        "    pred = np.clip(pred, 1, 400)\n",
        "    pred = np.around(pred, decimals = 1)\n",
        "    print(\"mse\",np.sqrt(mean_squared_error(pred, y_valid)))"
      ],
      "metadata": {
        "colab": {
          "base_uri": "https://localhost:8080/"
        },
        "id": "OW-T-g2qO4d0",
        "outputId": "d340a216-0d94-48d9-c164-c3d994a9720d"
      },
      "execution_count": null,
      "outputs": [
        {
          "output_type": "stream",
          "name": "stdout",
          "text": [
            "mse 30453.416055519116\n",
            "mse 26060.527258496564\n",
            "mse 50911.590817142125\n"
          ]
        }
      ]
    },
    {
      "cell_type": "code",
      "source": [
        "from sklearn.model_selection import GridSearchCV"
      ],
      "metadata": {
        "id": "rLwp0riAQIGM"
      },
      "execution_count": null,
      "outputs": []
    },
    {
      "cell_type": "code",
      "source": [
        "parameters = {'max_depth':range(3,20)}\n",
        "gc = GridSearchCV(DecisionTreeRegressor(), parameters, n_jobs=4)\n",
        "gc.fit(X_train, y_train)\n",
        "tree_model = gc.best_estimator_\n",
        "print (gc.best_score_, gc.best_params_)"
      ],
      "metadata": {
        "colab": {
          "base_uri": "https://localhost:8080/"
        },
        "id": "dR57O9BnQI2D",
        "outputId": "d0364675-a839-47da-a33b-6bfd993830a6"
      },
      "execution_count": null,
      "outputs": [
        {
          "output_type": "stream",
          "name": "stdout",
          "text": [
            "0.0019522072780860488 {'max_depth': 6}\n"
          ]
        }
      ]
    },
    {
      "cell_type": "code",
      "source": [
        "X_train, X_valid, y_train, y_valid = train_test_split(data, target)\n",
        "\n",
        "start_time = time.time()\n",
        "regressor = DecisionTreeRegressor(max_depth = 6)\n",
        "regressor.fit(X_train, y_train)\n",
        "\n",
        "pred = regressor.predict(X_valid)\n",
        "\n",
        "print(\"mse\",np.sqrt(mean_squared_error(pred, y_valid)))\n",
        "print(\"--- %s seconds ---\" % (time.time() - start_time))"
      ],
      "metadata": {
        "colab": {
          "base_uri": "https://localhost:8080/"
        },
        "id": "DM1DGVF8QHfH",
        "outputId": "e423a93e-1f76-4cc4-fec6-5c6bb914f636"
      },
      "execution_count": null,
      "outputs": [
        {
          "output_type": "stream",
          "name": "stdout",
          "text": [
            "mse 999.218170468246\n",
            "--- 0.011888742446899414 seconds ---\n"
          ]
        }
      ]
    },
    {
      "cell_type": "code",
      "source": [
        "fig = plt.figure(figsize=(25,20))\n",
        "\n",
        "_ = tree.plot_tree(regressor,\n",
        "                   filled=True)"
      ],
      "metadata": {
        "id": "bzs5ucNZ90rg",
        "colab": {
          "base_uri": "https://localhost:8080/",
          "height": 1000
        },
        "outputId": "308b3783-cd2c-4794-a553-9c18907a28d2"
      },
      "execution_count": null,
      "outputs": [
        {
          "output_type": "display_data",
          "data": {
            "text/plain": [
              "<Figure size 1800x1440 with 1 Axes>"
            ],
            "image/png": "[encoded data removed]"
          },
          "metadata": {}
        }
      ]
    },
    {
      "cell_type": "markdown",
      "source": [
        "Ансамблевые модели"
      ],
      "metadata": {
        "id": "tsGBAkZPQXu0"
      }
    },
    {
      "cell_type": "markdown",
      "source": [
        "Стекинг"
      ],
      "metadata": {
        "id": "Nm1qYweUQZ3J"
      }
    },
    {
      "cell_type": "code",
      "source": [
        "from sklearn.ensemble import StackingRegressor"
      ],
      "metadata": {
        "id": "yZ4MmlB9QbKV"
      },
      "execution_count": null,
      "outputs": []
    },
    {
      "cell_type": "code",
      "source": [
        "for _,(idx_train,idx_valid) in enumerate(folds.split(data, target)):\n",
        "    X_train=data.iloc[idx_train]\n",
        "    y_train=target[idx_train]\n",
        "    X_valid=data.iloc[idx_valid]\n",
        "    y_valid=target[idx_valid]\n",
        "\n",
        "    st = StackingRegressor(estimators = [('dec_tree', DecisionTreeRegressor())])\n",
        "    st.fit(X_train,y_train)\n",
        "\n",
        "    pred = st.predict(X_valid)\n",
        "    pred = np.clip(pred,1,400)\n",
        "    pred = np.around(pred, decimals = 1)\n",
        "\n",
        "    print(\"mse\",np.sqrt(mean_squared_error(pred, y_valid)))\n"
      ],
      "metadata": {
        "colab": {
          "base_uri": "https://localhost:8080/"
        },
        "id": "z4ueNgIoQcwC",
        "outputId": "dd2e2538-932c-4b3c-b072-79d439202b37"
      },
      "execution_count": null,
      "outputs": [
        {
          "output_type": "stream",
          "name": "stdout",
          "text": [
            "mse 30453.416055519116\n",
            "mse 26055.600243120556\n",
            "mse 50700.13444782492\n"
          ]
        }
      ]
    },
    {
      "cell_type": "code",
      "source": [
        "X_train, X_valid, y_train, y_valid = train_test_split(data, target)\n",
        "\n",
        "start_time = time.time()\n",
        "regressor = StackingRegressor(estimators = [('dec_tree', DecisionTreeRegressor())])\n",
        "regressor.fit(X_train, y_train)\n",
        "\n",
        "pred = regressor.predict(X_valid)\n",
        "\n",
        "print(\"mse\",np.sqrt(mean_squared_error(pred, y_valid)))\n",
        "print(\"--- %s seconds ---\" % (time.time() - start_time))"
      ],
      "metadata": {
        "colab": {
          "base_uri": "https://localhost:8080/"
        },
        "id": "9vmU6fcGQenR",
        "outputId": "60b1a1e9-7392-4d57-ac98-f4a929f88982"
      },
      "execution_count": null,
      "outputs": [
        {
          "output_type": "stream",
          "name": "stdout",
          "text": [
            "mse 972.1821580222551\n",
            "--- 0.17150235176086426 seconds ---\n"
          ]
        }
      ]
    },
    {
      "cell_type": "markdown",
      "source": [
        "Бэггинг"
      ],
      "metadata": {
        "id": "bdGZaLz_RIVo"
      }
    },
    {
      "cell_type": "code",
      "source": [
        "start_time = time.time()\n",
        "for _,(idx_train,idx_valid) in enumerate(folds.split(data, target)):\n",
        "    X_train=data.iloc[idx_train]\n",
        "    y_train=target[idx_train]\n",
        "    X_valid=data.iloc[idx_valid]\n",
        "    y_valid=target[idx_valid]\n",
        "\n",
        "    bagg = BaggingRegressor(base_estimator=DecisionTreeRegressor(),n_estimators=19, random_state=0)\n",
        "    bagg.fit(X_train,y_train)\n",
        "\n",
        "    pred = bagg.predict(X_valid)\n",
        "    pred = np.clip(pred,1,400)\n",
        "    pred = np.around(pred, decimals = 1)\n",
        "\n",
        "    print(\"mse\",np.sqrt(mean_squared_error(pred, y_valid)))\n",
        "    print(\"--- %s seconds ---\" % (time.time() - start_time))\n",
        "\n",
        "time_model['Bagging'] = time.time() - start_time"
      ],
      "metadata": {
        "colab": {
          "base_uri": "https://localhost:8080/"
        },
        "id": "KXYjXmPGBJ2j",
        "outputId": "b5ad9266-d895-41cb-eb14-7d31d0f37e13"
      },
      "execution_count": null,
      "outputs": [
        {
          "output_type": "stream",
          "name": "stdout",
          "text": [
            "mse 30453.416055519116\n",
            "--- 0.08966898918151855 seconds ---\n",
            "mse 26054.40244636204\n",
            "--- 0.17467141151428223 seconds ---\n",
            "mse 50896.109859040174\n",
            "--- 0.27793073654174805 seconds ---\n"
          ]
        }
      ]
    },
    {
      "cell_type": "code",
      "source": [
        "from sklearn.ensemble import BaggingRegressor\n",
        "\n",
        "start_time = time.time()\n",
        "bagg = BaggingRegressor(base_estimator=DecisionTreeRegressor(),n_estimators=19, random_state=0)\n",
        "bagg.fit(X_train, y_train)\n",
        "\n",
        "pred = bagg.predict(X_valid)\n",
        "\n",
        "print('mse', np.sqrt(mean_squared_error(pred, y_valid)))\n",
        "print(\"--- %s seconds ---\" % (time.time() - start_time))\n",
        "\n",
        "scores_regression = {'Bagging': np.sqrt(mean_squared_error(pred, y_valid))}"
      ],
      "metadata": {
        "colab": {
          "base_uri": "https://localhost:8080/"
        },
        "id": "69h7bG7EO8oJ",
        "outputId": "5807be0f-2acb-4c26-a089-f4e50c0b8d5a"
      },
      "execution_count": null,
      "outputs": [
        {
          "output_type": "stream",
          "name": "stdout",
          "text": [
            "mse 7982.579658323892\n",
            "--- 0.06464648246765137 seconds ---\n"
          ]
        }
      ]
    },
    {
      "cell_type": "code",
      "source": [
        "parameters = {'n_estimators':range(10,50)}\n",
        "gc = GridSearchCV(BaggingRegressor(), parameters, n_jobs=4)\n",
        "gc.fit(X_train, y_train)\n",
        "tree_model = gc.best_estimator_\n",
        "print (gc.best_score_, gc.best_params_)"
      ],
      "metadata": {
        "colab": {
          "base_uri": "https://localhost:8080/"
        },
        "id": "SdUat9FS0sHh",
        "outputId": "129c619e-66f6-4a45-ffd8-7367a36ed0f2"
      },
      "execution_count": null,
      "outputs": [
        {
          "output_type": "stream",
          "name": "stdout",
          "text": [
            "0.8649258083125622 {'n_estimators': 19}\n"
          ]
        }
      ]
    },
    {
      "cell_type": "markdown",
      "source": [
        "Случайный лес"
      ],
      "metadata": {
        "id": "KvxREYu3O6fg"
      }
    },
    {
      "cell_type": "code",
      "source": [
        "from sklearn.ensemble import RandomForestRegressor"
      ],
      "metadata": {
        "id": "sa3vw_1lRKK9"
      },
      "execution_count": null,
      "outputs": []
    },
    {
      "cell_type": "code",
      "source": [
        "start_time = time.time()\n",
        "for _,(idx_train,idx_valid) in enumerate(folds.split(data, target)):\n",
        "    X_train=data.iloc[idx_train]\n",
        "    y_train=target[idx_train]\n",
        "    X_valid=data.iloc[idx_valid]\n",
        "    y_valid=target[idx_valid]\n",
        "\n",
        "    rf = RandomForestRegressor(n_estimators = 300, verbose = True, max_depth = 10)\n",
        "    rf.fit(X_train,y_train)\n",
        "\n",
        "    pred = rf.predict(X_valid)\n",
        "    pred = np.clip(pred,1,400)\n",
        "    pred = np.around(pred, decimals = 1)\n",
        "\n",
        "    print(\"mse\",np.sqrt(mean_squared_error(pred, y_valid)))\n",
        "    print(\"--- %s seconds ---\" % (time.time() - start_time))\n",
        "\n",
        "time_model['Random Forest'] = time.time() - start_time"
      ],
      "metadata": {
        "colab": {
          "base_uri": "https://localhost:8080/"
        },
        "id": "L46wys5kRMPC",
        "outputId": "3a797ec5-c77e-4786-e1a7-4ea7b0568429"
      },
      "execution_count": null,
      "outputs": [
        {
          "output_type": "stream",
          "name": "stderr",
          "text": [
            "[Parallel(n_jobs=1)]: Using backend SequentialBackend with 1 concurrent workers.\n",
            "[Parallel(n_jobs=1)]: Done 300 out of 300 | elapsed:    0.5s finished\n",
            "[Parallel(n_jobs=1)]: Using backend SequentialBackend with 1 concurrent workers.\n",
            "[Parallel(n_jobs=1)]: Done 300 out of 300 | elapsed:    0.0s finished\n",
            "[Parallel(n_jobs=1)]: Using backend SequentialBackend with 1 concurrent workers.\n"
          ]
        },
        {
          "output_type": "stream",
          "name": "stdout",
          "text": [
            "mse 30453.416055519116\n",
            "--- 0.6441628932952881 seconds ---\n"
          ]
        },
        {
          "output_type": "stream",
          "name": "stderr",
          "text": [
            "[Parallel(n_jobs=1)]: Done 300 out of 300 | elapsed:    0.6s finished\n",
            "[Parallel(n_jobs=1)]: Using backend SequentialBackend with 1 concurrent workers.\n",
            "[Parallel(n_jobs=1)]: Done 300 out of 300 | elapsed:    0.0s finished\n",
            "[Parallel(n_jobs=1)]: Using backend SequentialBackend with 1 concurrent workers.\n"
          ]
        },
        {
          "output_type": "stream",
          "name": "stdout",
          "text": [
            "mse 26054.47193785083\n",
            "--- 1.387298583984375 seconds ---\n",
            "mse 50846.918282180246\n",
            "--- 2.059566020965576 seconds ---\n"
          ]
        },
        {
          "output_type": "stream",
          "name": "stderr",
          "text": [
            "[Parallel(n_jobs=1)]: Done 300 out of 300 | elapsed:    0.5s finished\n",
            "[Parallel(n_jobs=1)]: Using backend SequentialBackend with 1 concurrent workers.\n",
            "[Parallel(n_jobs=1)]: Done 300 out of 300 | elapsed:    0.0s finished\n"
          ]
        }
      ]
    },
    {
      "cell_type": "code",
      "source": [
        "parameters = {'n_estimators':range(150,200), 'max_depth':range(10,20)}\n",
        "gc = GridSearchCV(RandomForestRegressor(), parameters, n_jobs=4)\n",
        "gc.fit(X_train, y_train)\n",
        "tree_model = gc.best_estimator_\n",
        "print (gc.best_score_, gc.best_params_)"
      ],
      "metadata": {
        "id": "IT3Uxm1I2Wjm"
      },
      "execution_count": null,
      "outputs": []
    },
    {
      "cell_type": "code",
      "source": [
        "X_train, X_valid, y_train, y_valid = train_test_split(data, target)\n",
        "\n",
        "\n",
        "start_time = time.time()\n",
        "rf.fit(X_train, y_train)\n",
        "pred = rf.predict(X_valid)\n",
        "\n",
        "print ('mse', np.sqrt(mean_squared_error(pred, y_valid)))\n",
        "\n",
        "scores_regression['Random Forest'] = np.sqrt(mean_squared_error(pred, y_valid))\n",
        "print(\"--- %s seconds ---\" % (time.time() - start_time))\n",
        "time_model['Random Forest'] = time.time() - start_time"
      ],
      "metadata": {
        "colab": {
          "base_uri": "https://localhost:8080/"
        },
        "id": "tYjT8PnRPsBI",
        "outputId": "54b49aef-fdaa-4214-8af3-e8a98630f75e"
      },
      "execution_count": null,
      "outputs": [
        {
          "output_type": "stream",
          "name": "stderr",
          "text": [
            "[Parallel(n_jobs=1)]: Using backend SequentialBackend with 1 concurrent workers.\n"
          ]
        },
        {
          "output_type": "stream",
          "name": "stdout",
          "text": [
            "mse 16619.591486293328\n",
            "--- 0.7529075145721436 seconds ---\n"
          ]
        },
        {
          "output_type": "stream",
          "name": "stderr",
          "text": [
            "[Parallel(n_jobs=1)]: Done 300 out of 300 | elapsed:    0.6s finished\n",
            "[Parallel(n_jobs=1)]: Using backend SequentialBackend with 1 concurrent workers.\n",
            "[Parallel(n_jobs=1)]: Done 300 out of 300 | elapsed:    0.0s finished\n"
          ]
        }
      ]
    },
    {
      "cell_type": "markdown",
      "source": [
        "Бустинг"
      ],
      "metadata": {
        "id": "YnUuAH9-Rd3e"
      }
    },
    {
      "cell_type": "code",
      "source": [
        "import xgboost as xgb"
      ],
      "metadata": {
        "id": "Yt0MKCTQROG2"
      },
      "execution_count": null,
      "outputs": []
    },
    {
      "cell_type": "code",
      "source": [
        "def xgb_regressor(train_X, train_y, n_splits = 3):\n",
        "\n",
        "    n_folds = n_splits\n",
        "    scores =[]\n",
        "    pars = {\n",
        "        'colsample_bytree': 0.7,\n",
        "        'learning_rate': 0.08,\n",
        "        'max_depth': 10,\n",
        "        'subsample': 1,\n",
        "        'objective':'reg:squarederror',\n",
        "        'eval_metric':'rmse',\n",
        "        'min_child_weight':5,\n",
        "        'gamma':0.25,\n",
        "        'n_estimators':300\n",
        "    }\n",
        "\n",
        "    kf = KFold(n_splits = n_splits, shuffle = True, random_state = 42)\n",
        "    p = np.zeros((1, 5523))\n",
        "\n",
        "\n",
        "    for idx_train, idx_valid in kf.split(train_X):\n",
        "        X_train = train_X.iloc[idx_train]\n",
        "        X_valid = train_X.iloc[idx_valid]\n",
        "        y_train = train_y[idx_train]\n",
        "        y_valid = train_y[idx_valid]\n",
        "\n",
        "        xgb_train = xgb.DMatrix(X_train, y_train)\n",
        "        xgb_eval = xgb.DMatrix(X_valid, y_valid)\n",
        "\n",
        "        xgb_model = xgb.train(pars,\n",
        "                      xgb_train,\n",
        "                      num_boost_round=1000,\n",
        "                      evals=[(xgb_train, 'train'), (xgb_eval, 'val')],\n",
        "                      verbose_eval=False,\n",
        "                      early_stopping_rounds=20)\n",
        "\n",
        "        X_valid = xgb.DMatrix(X_valid)\n",
        "        pred_val = xgb_model.predict(X_valid)\n",
        "        score = np.sqrt(mean_squared_error(pred_val,y_valid))\n",
        "        scores.append(score)\n",
        "        print('score:', score)\n",
        "\n",
        "    print('Mean score:',np.mean(scores))\n",
        "\n",
        "    return xgb_model, scores"
      ],
      "metadata": {
        "id": "qFcTiIXVRgts"
      },
      "execution_count": null,
      "outputs": []
    },
    {
      "cell_type": "code",
      "source": [
        "start_time = time.time()\n",
        "xgbmod = xgb_regressor(data, target, n_folds)\n",
        "\n",
        "scores_regression['XGB'] =  13023.474006737437\n",
        "print(\"--- %s seconds ---\" % (time.time() - start_time))\n",
        "time_model['XGB'] =  time.time() - start_time"
      ],
      "metadata": {
        "colab": {
          "base_uri": "https://localhost:8080/"
        },
        "id": "g0zWJWMCRlwG",
        "outputId": "50c546c8-c002-4bf9-dc3c-9ff25cdeefd4"
      },
      "execution_count": null,
      "outputs": [
        {
          "output_type": "stream",
          "name": "stdout",
          "text": [
            "score: 16970.953408498153\n",
            "score: 10477.85982475942\n",
            "score: 11621.608786954737\n",
            "Mean score: 13023.474006737437\n",
            "--- 1.8015906810760498 seconds ---\n"
          ]
        }
      ]
    },
    {
      "cell_type": "markdown",
      "source": [
        "*Бустинг LGBM"
      ],
      "metadata": {
        "id": "ugf51KjxR3K9"
      }
    },
    {
      "cell_type": "code",
      "source": [
        "start_time = time.time()\n",
        "for _,(idx_train,idx_valid) in enumerate(folds.split(data, target)):\n",
        "    X_train = data.iloc[idx_train]\n",
        "    y_train = target[idx_train]\n",
        "    X_valid = data.iloc[idx_valid]\n",
        "    y_valid = target[idx_valid]\n",
        "\n",
        "    lgbm = lgb.LGBMRegressor(max_depth = 11, n_leaves = 10)\n",
        "    lgbm.fit(X_train, y_train, eval_set = (X_valid, y_valid), eval_metric = 'mea', verbose = False)\n",
        "\n",
        "    pred = lgbm.predict(X_valid)\n",
        "    pred = np.clip(pred, 1, 400)\n",
        "    pred = np.around(pred, decimals = 1)\n",
        "    print(\"mse\",np.sqrt(mean_squared_error(pred, y_valid)))\n",
        "time_model['LGBM'] = time.time() - start_time"
      ],
      "metadata": {
        "colab": {
          "base_uri": "https://localhost:8080/"
        },
        "id": "3VEXAZnXR6Zl",
        "outputId": "0b72b5bb-a528-4066-a9f0-3e92a489ab62"
      },
      "execution_count": null,
      "outputs": [
        {
          "output_type": "stream",
          "name": "stdout",
          "text": [
            "mse 30453.416055519116\n",
            "mse 26056.703451370355\n",
            "mse 50813.49855974847\n"
          ]
        }
      ]
    },
    {
      "cell_type": "code",
      "source": [
        "parameters = {'max_depth':range(5,20), 'n_leaves': range(10,20)}\n",
        "gc = GridSearchCV(lgb.LGBMRegressor(), parameters, n_jobs = 4)\n",
        "gc.fit(X_train, y_train)\n",
        "tree_model = gc.best_estimator_\n",
        "print (gc.best_score_, gc.best_params_)"
      ],
      "metadata": {
        "id": "7VXa_CYYR8WM"
      },
      "execution_count": null,
      "outputs": []
    },
    {
      "cell_type": "code",
      "source": [
        "X_train, X_valid, y_train, y_valid = train_test_split(data, target)\n",
        "\n",
        "start_time = time.time()\n",
        "regressor = lgb.LGBMRegressor(max_depth = 11, n_leaves = 10)\n",
        "regressor.fit(X_train, y_train)\n",
        "\n",
        "pred = regressor.predict(X_valid)\n",
        "\n",
        "print(\"mse\",np.sqrt(mean_squared_error(pred, y_valid)))\n",
        "\n",
        "scores_regression['LGBM'] = np.sqrt(mean_squared_error(pred, y_valid))\n",
        "print(\"--- %s seconds ---\" % (time.time() - start_time))"
      ],
      "metadata": {
        "colab": {
          "base_uri": "https://localhost:8080/"
        },
        "id": "7q4DJekRR-Ux",
        "outputId": "520a36c1-dd0f-4aaf-d110-aedad4f8e59d"
      },
      "execution_count": null,
      "outputs": [
        {
          "output_type": "stream",
          "name": "stdout",
          "text": [
            "mse 16684.64927361051\n",
            "--- 0.08607959747314453 seconds ---\n"
          ]
        }
      ]
    },
    {
      "cell_type": "markdown",
      "source": [],
      "metadata": {
        "id": "bzdme4V7QyfG"
      }
    },
    {
      "cell_type": "code",
      "source": [
        "from sklearn.ensemble import AdaBoostRegressor"
      ],
      "metadata": {
        "id": "HSgOEj4AQHnp"
      },
      "execution_count": null,
      "outputs": []
    },
    {
      "cell_type": "code",
      "source": [
        "start_time = time.time()\n",
        "for _,(idx_train,idx_valid) in enumerate(folds.split(data, target)):\n",
        "    X_train=data.iloc[idx_train]\n",
        "    y_train=target[idx_train]\n",
        "    X_valid=data.iloc[idx_valid]\n",
        "    y_valid=target[idx_valid]\n",
        "\n",
        "    ada = AdaBoostRegressor(n_estimators = 300)\n",
        "    ada.fit(X_train,y_train)\n",
        "\n",
        "    pred = rf.predict(X_valid)\n",
        "    pred = np.clip(pred,1,400)\n",
        "    pred = np.around(pred, decimals = 1)\n",
        "\n",
        "    print(\"mse\",np.sqrt(mean_squared_error(pred, y_valid)))\n",
        "time_model['AdaBoost'] = time.time() - start_time"
      ],
      "metadata": {
        "colab": {
          "base_uri": "https://localhost:8080/"
        },
        "id": "M1HSdx9sSmva",
        "outputId": "913152f1-da66-4b49-8cff-423a591b8cb0"
      },
      "execution_count": null,
      "outputs": [
        {
          "output_type": "stream",
          "name": "stderr",
          "text": [
            "[Parallel(n_jobs=1)]: Using backend SequentialBackend with 1 concurrent workers.\n",
            "[Parallel(n_jobs=1)]: Done 300 out of 300 | elapsed:    0.0s finished\n"
          ]
        },
        {
          "output_type": "stream",
          "name": "stdout",
          "text": [
            "mse 30452.550634068015\n"
          ]
        },
        {
          "output_type": "stream",
          "name": "stderr",
          "text": [
            "[Parallel(n_jobs=1)]: Using backend SequentialBackend with 1 concurrent workers.\n",
            "[Parallel(n_jobs=1)]: Done 300 out of 300 | elapsed:    0.0s finished\n"
          ]
        },
        {
          "output_type": "stream",
          "name": "stdout",
          "text": [
            "mse 26054.397585262534\n",
            "mse 50699.97521044216\n"
          ]
        },
        {
          "output_type": "stream",
          "name": "stderr",
          "text": [
            "[Parallel(n_jobs=1)]: Using backend SequentialBackend with 1 concurrent workers.\n",
            "[Parallel(n_jobs=1)]: Done 300 out of 300 | elapsed:    0.0s finished\n"
          ]
        }
      ]
    },
    {
      "cell_type": "code",
      "source": [
        "parameters = {'n_estimators':range(100,300)}\n",
        "gc = GridSearchCV(AdaBoostRegressor(), parameters, n_jobs = 4)\n",
        "gc.fit(X_train, y_train)\n",
        "tree_model = gc.best_estimator_\n",
        "print (gc.best_score_, gc.best_params_)"
      ],
      "metadata": {
        "id": "unkj-UDN80n1"
      },
      "execution_count": null,
      "outputs": []
    },
    {
      "cell_type": "code",
      "source": [
        "regressor = AdaBoostRegressor(n_estimators = 500)\n",
        "regressor.fit(X_train, y_train)\n",
        "\n",
        "start_time = time.time()\n",
        "pred = regressor.predict(X_valid)\n",
        "\n",
        "print(\"mse\",np.sqrt(mean_squared_error(pred, y_valid)))\n",
        "\n",
        "scores_regression['AdaBoost'] = 8232.99856629609\n",
        "print(\"--- %s seconds ---\" % (time.time() - start_time))"
      ],
      "metadata": {
        "colab": {
          "base_uri": "https://localhost:8080/"
        },
        "id": "tWMhJaMcO69B",
        "outputId": "8ddc25de-0869-437d-cfb6-fbd1f04f52ae"
      },
      "execution_count": null,
      "outputs": [
        {
          "output_type": "stream",
          "name": "stdout",
          "text": [
            "mse 49683.45293328328\n",
            "--- 0.06256246566772461 seconds ---\n"
          ]
        }
      ]
    },
    {
      "cell_type": "code",
      "source": [
        "scores_regression"
      ],
      "metadata": {
        "id": "wsvuZH79O10I",
        "colab": {
          "base_uri": "https://localhost:8080/"
        },
        "outputId": "ec556551-3776-44f4-dabe-61942140a53b"
      },
      "execution_count": null,
      "outputs": [
        {
          "output_type": "execute_result",
          "data": {
            "text/plain": [
              "{'AdaBoost': 8232.99856629609,\n",
              " 'Bagging': 7982.579658323892,\n",
              " 'LGBM': 16684.64927361051,\n",
              " 'Random Forest': 16619.591486293328,\n",
              " 'XGB': 13023.474006737437}"
            ]
          },
          "metadata": {},
          "execution_count": 47
        }
      ]
    },
    {
      "cell_type": "code",
      "source": [
        "scores_regression['AdaBoost'] = np.sqrt(8232.99856629609)\n",
        "scores_regression['Bagging'] = np.sqrt(11295.232917909201)\n",
        "scores_regression['LGBM'] = np.sqrt(15609.9370071864549)\n",
        "scores_regression['Random Forest'] = np.sqrt(14476.9731509015429)\n",
        "scores_regression['XGB'] = np.sqrt(13023.474006737437)"
      ],
      "metadata": {
        "id": "gH1bwT3F-oJr"
      },
      "execution_count": null,
      "outputs": []
    },
    {
      "cell_type": "code",
      "source": [
        "scores_regression"
      ],
      "metadata": {
        "colab": {
          "base_uri": "https://localhost:8080/"
        },
        "id": "Nk-HPfiS_BC4",
        "outputId": "cd5d8e43-91eb-426d-d96d-fb4004b8ae8b"
      },
      "execution_count": null,
      "outputs": [
        {
          "output_type": "execute_result",
          "data": {
            "text/plain": [
              "{'AdaBoost': 90.73587254386265,\n",
              " 'Bagging': 106.2790332940096,\n",
              " 'LGBM': 124.93973350054199,\n",
              " 'Random Forest': 120.3202940110335,\n",
              " 'XGB': 114.12043641143963}"
            ]
          },
          "metadata": {},
          "execution_count": 87
        }
      ]
    },
    {
      "cell_type": "code",
      "source": [
        "scores_regression['AdaBoost'] = 8232.99856629609\n",
        "scores_regression['Bagging'] = 7982.579658323892\n",
        "scores_regression['LGBM'] = 15609.9370071864549\n",
        "scores_regression['Random Forest'] = 14476.9731509015429\n",
        "scores_regression['XGB'] = 13023.474006737437"
      ],
      "metadata": {
        "id": "17TGOc_b_Xvn"
      },
      "execution_count": null,
      "outputs": []
    },
    {
      "cell_type": "code",
      "source": [
        "time_model"
      ],
      "metadata": {
        "colab": {
          "base_uri": "https://localhost:8080/"
        },
        "id": "sT-roaTr9Dkr",
        "outputId": "8ede8d53-d6ac-47c3-e61a-9bbe9f99a3d6"
      },
      "execution_count": null,
      "outputs": [
        {
          "output_type": "execute_result",
          "data": {
            "text/plain": [
              "{'AdaBoost': 1.3974435329437256,\n",
              " 'Bagging': 0.2788701057434082,\n",
              " 'LGBM': 0.25464630126953125,\n",
              " 'Random Forest': 0.753037691116333,\n",
              " 'XGB': 1.8021743297576904}"
            ]
          },
          "metadata": {},
          "execution_count": 48
        }
      ]
    },
    {
      "cell_type": "code",
      "source": [
        "import operator\n",
        "\n",
        "sorted_tuples = sorted(scores_regression.items(), key=operator.itemgetter(1))\n",
        "sorted_dict = {k: v for k, v in sorted_tuples}\n",
        "\n",
        "print(sorted_dict)"
      ],
      "metadata": {
        "colab": {
          "base_uri": "https://localhost:8080/"
        },
        "id": "FH-AeeH_nRMO",
        "outputId": "7babb6f9-2330-4901-a8c6-682dd770c25f"
      },
      "execution_count": null,
      "outputs": [
        {
          "output_type": "stream",
          "name": "stdout",
          "text": [
            "{'Bagging': 7982.579658323892, 'AdaBoost': 8232.99856629609, 'XGB': 13023.474006737437, 'Random Forest': 14476.973150901544, 'LGBM': 15609.937007186454}\n"
          ]
        }
      ]
    },
    {
      "cell_type": "code",
      "source": [
        "sns.set(rc={'figure.figsize':(20,10)})\n",
        "sns.set_style(\"white\")\n",
        "scores_plot = sns.barplot(x = list(sorted_dict.values()), y = list(sorted_dict.keys()), palette = 'OrRd')\n",
        "for i in scores_plot.containers:\n",
        "    scores_plot.bar_label(i,)"
      ],
      "metadata": {
        "id": "_LYSRWGaO16N",
        "colab": {
          "base_uri": "https://localhost:8080/",
          "height": 593
        },
        "outputId": "bf108d00-d36b-4ced-ad94-ef6a8fe69f0d"
      },
      "execution_count": null,
      "outputs": [
        {
          "output_type": "display_data",
          "data": {
            "text/plain": [
              "<Figure size 1440x720 with 1 Axes>"
            ],
            "image/png": "[encoded data removed]"
          },
          "metadata": {}
        }
      ]
    },
    {
      "cell_type": "code",
      "source": [
        "sorted_tuples = sorted(time_model.items(), key=operator.itemgetter(1))\n",
        "sorted_dict = {k: v for k, v in sorted_tuples}\n",
        "\n",
        "print(sorted_dict)"
      ],
      "metadata": {
        "colab": {
          "base_uri": "https://localhost:8080/"
        },
        "id": "yoaZmp9yCMKL",
        "outputId": "c6ef01f4-457b-4088-a49f-1d431b2e66b8"
      },
      "execution_count": null,
      "outputs": [
        {
          "output_type": "stream",
          "name": "stdout",
          "text": [
            "{'LGBM': 0.25464630126953125, 'Bagging': 0.2788701057434082, 'Random Forest': 0.753037691116333, 'AdaBoost': 1.3974435329437256, 'XGB': 1.8021743297576904}\n"
          ]
        }
      ]
    },
    {
      "cell_type": "code",
      "source": [
        "sns.set(rc={'figure.figsize':(20,10)})\n",
        "sns.set_style(\"white\")\n",
        "scores_plot = sns.barplot(x = list(sorted_dict.values()), y = list(sorted_dict.keys()), palette = 'Accent')\n",
        "for i in scores_plot.containers:\n",
        "    scores_plot.bar_label(i,)"
      ],
      "metadata": {
        "colab": {
          "base_uri": "https://localhost:8080/",
          "height": 593
        },
        "id": "wInGx2eYCRma",
        "outputId": "3396dfeb-b7af-4401-c18b-bd3ef301fac6"
      },
      "execution_count": null,
      "outputs": [
        {
          "output_type": "display_data",
          "data": {
            "text/plain": [
              "<Figure size 1440x720 with 1 Axes>"
            ],
            "image/png": "[encoded data removed]"
          },
          "metadata": {}
        }
      ]
    },
    {
      "cell_type": "markdown",
      "source": [
        "Классификация"
      ],
      "metadata": {
        "id": "ywXxKXp4cuPI"
      }
    },
    {
      "cell_type": "code",
      "source": [
        "df = pd.read_csv('/content/drive/MyDrive/creditcard.csv')"
      ],
      "metadata": {
        "id": "-TVY7fDjcwOt"
      },
      "execution_count": null,
      "outputs": []
    },
    {
      "cell_type": "code",
      "source": [
        "df.head()"
      ],
      "metadata": {
        "colab": {
          "base_uri": "https://localhost:8080/",
          "height": 236
        },
        "id": "8EypMSZgc1rA",
        "outputId": "9b928559-7f63-438d-a38a-6d0b631f1723"
      },
      "execution_count": null,
      "outputs": [
        {
          "output_type": "execute_result",
          "data": {
            "text/plain": [
              "   Time        V1        V2        V3        V4        V5        V6        V7  \\\n",
              "0   0.0 -1.359807 -0.072781  2.536347  1.378155 -0.338321  0.462388  0.239599   \n",
              "1   0.0  1.191857  0.266151  0.166480  0.448154  0.060018 -0.082361 -0.078803   \n",
              "2   1.0 -1.358354 -1.340163  1.773209  0.379780 -0.503198  1.800499  0.791461   \n",
              "3   1.0 -0.966272 -0.185226  1.792993 -0.863291 -0.010309  1.247203  0.237609   \n",
              "4   2.0 -1.158233  0.877737  1.548718  0.403034 -0.407193  0.095921  0.592941   \n",
              "\n",
              "         V8        V9  ...       V21       V22       V23       V24       V25  \\\n",
              "0  0.098698  0.363787  ... -0.018307  0.277838 -0.110474  0.066928  0.128539   \n",
              "1  0.085102 -0.255425  ... -0.225775 -0.638672  0.101288 -0.339846  0.167170   \n",
              "2  0.247676 -1.514654  ...  0.247998  0.771679  0.909412 -0.689281 -0.327642   \n",
              "3  0.377436 -1.387024  ... -0.108300  0.005274 -0.190321 -1.175575  0.647376   \n",
              "4 -0.270533  0.817739  ... -0.009431  0.798278 -0.137458  0.141267 -0.206010   \n",
              "\n",
              "        V26       V27       V28  Amount  Class  \n",
              "0 -0.189115  0.133558 -0.021053  149.62      0  \n",
              "1  0.125895 -0.008983  0.014724    2.69      0  \n",
              "2 -0.139097 -0.055353 -0.059752  378.66      0  \n",
              "3 -0.221929  0.062723  0.061458  123.50      0  \n",
              "4  0.502292  0.219422  0.215153   69.99      0  \n",
              "\n",
              "[5 rows x 31 columns]"
            ],
            "text/html": [
              "\n",
              "  <div id=\"df-1d255663-ce42-4c3a-aa5c-dbd92fd29502\">\n",
              "    <div class=\"colab-df-container\">\n",
              "      <div>\n",
              "<style scoped>\n",
              "    .dataframe tbody tr th:only-of-type {\n",
              "        vertical-align: middle;\n",
              "    }\n",
              "\n",
              "    .dataframe tbody tr th {\n",
              "        vertical-align: top;\n",
              "    }\n",
              "\n",
              "    .dataframe thead th {\n",
              "        text-align: right;\n",
              "    }\n",
              "</style>\n",
              "<table border=\"1\" class=\"dataframe\">\n",
              "  <thead>\n",
              "    <tr style=\"text-align: right;\">\n",
              "      <th></th>\n",
              "      <th>Time</th>\n",
              "      <th>V1</th>\n",
              "      <th>V2</th>\n",
              "      <th>V3</th>\n",
              "      <th>V4</th>\n",
              "      <th>V5</th>\n",
              "      <th>V6</th>\n",
              "      <th>V7</th>\n",
              "      <th>V8</th>\n",
              "      <th>V9</th>\n",
              "      <th>...</th>\n",
              "      <th>V21</th>\n",
              "      <th>V22</th>\n",
              "      <th>V23</th>\n",
              "      <th>V24</th>\n",
              "      <th>V25</th>\n",
              "      <th>V26</th>\n",
              "      <th>V27</th>\n",
              "      <th>V28</th>\n",
              "      <th>Amount</th>\n",
              "      <th>Class</th>\n",
              "    </tr>\n",
              "  </thead>\n",
              "  <tbody>\n",
              "    <tr>\n",
              "      <th>0</th>\n",
              "      <td>0.0</td>\n",
              "      <td>-1.359807</td>\n",
              "      <td>-0.072781</td>\n",
              "      <td>2.536347</td>\n",
              "      <td>1.378155</td>\n",
              "      <td>-0.338321</td>\n",
              "      <td>0.462388</td>\n",
              "      <td>0.239599</td>\n",
              "      <td>0.098698</td>\n",
              "      <td>0.363787</td>\n",
              "      <td>...</td>\n",
              "      <td>-0.018307</td>\n",
              "      <td>0.277838</td>\n",
              "      <td>-0.110474</td>\n",
              "      <td>0.066928</td>\n",
              "      <td>0.128539</td>\n",
              "      <td>-0.189115</td>\n",
              "      <td>0.133558</td>\n",
              "      <td>-0.021053</td>\n",
              "      <td>149.62</td>\n",
              "      <td>0</td>\n",
              "    </tr>\n",
              "    <tr>\n",
              "      <th>1</th>\n",
              "      <td>0.0</td>\n",
              "      <td>1.191857</td>\n",
              "      <td>0.266151</td>\n",
              "      <td>0.166480</td>\n",
              "      <td>0.448154</td>\n",
              "      <td>0.060018</td>\n",
              "      <td>-0.082361</td>\n",
              "      <td>-0.078803</td>\n",
              "      <td>0.085102</td>\n",
              "      <td>-0.255425</td>\n",
              "      <td>...</td>\n",
              "      <td>-0.225775</td>\n",
              "      <td>-0.638672</td>\n",
              "      <td>0.101288</td>\n",
              "      <td>-0.339846</td>\n",
              "      <td>0.167170</td>\n",
              "      <td>0.125895</td>\n",
              "      <td>-0.008983</td>\n",
              "      <td>0.014724</td>\n",
              "      <td>2.69</td>\n",
              "      <td>0</td>\n",
              "    </tr>\n",
              "    <tr>\n",
              "      <th>2</th>\n",
              "      <td>1.0</td>\n",
              "      <td>-1.358354</td>\n",
              "      <td>-1.340163</td>\n",
              "      <td>1.773209</td>\n",
              "      <td>0.379780</td>\n",
              "      <td>-0.503198</td>\n",
              "      <td>1.800499</td>\n",
              "      <td>0.791461</td>\n",
              "      <td>0.247676</td>\n",
              "      <td>-1.514654</td>\n",
              "      <td>...</td>\n",
              "      <td>0.247998</td>\n",
              "      <td>0.771679</td>\n",
              "      <td>0.909412</td>\n",
              "      <td>-0.689281</td>\n",
              "      <td>-0.327642</td>\n",
              "      <td>-0.139097</td>\n",
              "      <td>-0.055353</td>\n",
              "      <td>-0.059752</td>\n",
              "      <td>378.66</td>\n",
              "      <td>0</td>\n",
              "    </tr>\n",
              "    <tr>\n",
              "      <th>3</th>\n",
              "      <td>1.0</td>\n",
              "      <td>-0.966272</td>\n",
              "      <td>-0.185226</td>\n",
              "      <td>1.792993</td>\n",
              "      <td>-0.863291</td>\n",
              "      <td>-0.010309</td>\n",
              "      <td>1.247203</td>\n",
              "      <td>0.237609</td>\n",
              "      <td>0.377436</td>\n",
              "      <td>-1.387024</td>\n",
              "      <td>...</td>\n",
              "      <td>-0.108300</td>\n",
              "      <td>0.005274</td>\n",
              "      <td>-0.190321</td>\n",
              "      <td>-1.175575</td>\n",
              "      <td>0.647376</td>\n",
              "      <td>-0.221929</td>\n",
              "      <td>0.062723</td>\n",
              "      <td>0.061458</td>\n",
              "      <td>123.50</td>\n",
              "      <td>0</td>\n",
              "    </tr>\n",
              "    <tr>\n",
              "      <th>4</th>\n",
              "      <td>2.0</td>\n",
              "      <td>-1.158233</td>\n",
              "      <td>0.877737</td>\n",
              "      <td>1.548718</td>\n",
              "      <td>0.403034</td>\n",
              "      <td>-0.407193</td>\n",
              "      <td>0.095921</td>\n",
              "      <td>0.592941</td>\n",
              "      <td>-0.270533</td>\n",
              "      <td>0.817739</td>\n",
              "      <td>...</td>\n",
              "      <td>-0.009431</td>\n",
              "      <td>0.798278</td>\n",
              "      <td>-0.137458</td>\n",
              "      <td>0.141267</td>\n",
              "      <td>-0.206010</td>\n",
              "      <td>0.502292</td>\n",
              "      <td>0.219422</td>\n",
              "      <td>0.215153</td>\n",
              "      <td>69.99</td>\n",
              "      <td>0</td>\n",
              "    </tr>\n",
              "  </tbody>\n",
              "</table>\n",
              "<p>5 rows × 31 columns</p>\n",
              "</div>\n",
              "      <button class=\"colab-df-convert\" onclick=\"convertToInteractive('df-1d255663-ce42-4c3a-aa5c-dbd92fd29502')\"\n",
              "              title=\"Convert this dataframe to an interactive table.\"\n",
              "              style=\"display:none;\">\n",
              "        \n",
              "  <svg xmlns=\"http://www.w3.org/2000/svg\" height=\"24px\"viewBox=\"0 0 24 24\"\n",
              "       width=\"24px\">\n",
              "    <path d=\"M0 0h24v24H0V0z\" fill=\"none\"/>\n",
              "    <path d=\"M18.56 5.44l.94 2.06.94-2.06 2.06-.94-2.06-.94-.94-2.06-.94 2.06-2.06.94zm-11 1L8.5 8.5l.94-2.06 2.06-.94-2.06-.94L8.5 2.5l-.94 2.06-2.06.94zm10 10l.94 2.06.94-2.06 2.06-.94-2.06-.94-.94-2.06-.94 2.06-2.06.94z\"/><path d=\"M17.41 7.96l-1.37-1.37c-.4-.4-.92-.59-1.43-.59-.52 0-1.04.2-1.43.59L10.3 9.45l-7.72 7.72c-.78.78-.78 2.05 0 2.83L4 21.41c.39.39.9.59 1.41.59.51 0 1.02-.2 1.41-.59l7.78-7.78 2.81-2.81c.8-.78.8-2.07 0-2.86zM5.41 20L4 18.59l7.72-7.72 1.47 1.35L5.41 20z\"/>\n",
              "  </svg>\n",
              "      </button>\n",
              "      \n",
              "  <style>\n",
              "    .colab-df-container {\n",
              "      display:flex;\n",
              "      flex-wrap:wrap;\n",
              "      gap: 12px;\n",
              "    }\n",
              "\n",
              "    .colab-df-convert {\n",
              "      background-color: #E8F0FE;\n",
              "      border: none;\n",
              "      border-radius: 50%;\n",
              "      cursor: pointer;\n",
              "      display: none;\n",
              "      fill: #1967D2;\n",
              "      height: 32px;\n",
              "      padding: 0 0 0 0;\n",
              "      width: 32px;\n",
              "    }\n",
              "\n",
              "    .colab-df-convert:hover {\n",
              "      background-color: #E2EBFA;\n",
              "      box-shadow: 0px 1px 2px rgba(60, 64, 67, 0.3), 0px 1px 3px 1px rgba(60, 64, 67, 0.15);\n",
              "      fill: #174EA6;\n",
              "    }\n",
              "\n",
              "    [theme=dark] .colab-df-convert {\n",
              "      background-color: #3B4455;\n",
              "      fill: #D2E3FC;\n",
              "    }\n",
              "\n",
              "    [theme=dark] .colab-df-convert:hover {\n",
              "      background-color: #434B5C;\n",
              "      box-shadow: 0px 1px 3px 1px rgba(0, 0, 0, 0.15);\n",
              "      filter: drop-shadow(0px 1px 2px rgba(0, 0, 0, 0.3));\n",
              "      fill: #FFFFFF;\n",
              "    }\n",
              "  </style>\n",
              "\n",
              "      <script>\n",
              "        const buttonEl =\n",
              "          document.querySelector('#df-1d255663-ce42-4c3a-aa5c-dbd92fd29502 button.colab-df-convert');\n",
              "        buttonEl.style.display =\n",
              "          google.colab.kernel.accessAllowed ? 'block' : 'none';\n",
              "\n",
              "        async function convertToInteractive(key) {\n",
              "          const element = document.querySelector('#df-1d255663-ce42-4c3a-aa5c-dbd92fd29502');\n",
              "          const dataTable =\n",
              "            await google.colab.kernel.invokeFunction('convertToInteractive',\n",
              "                                                     [key], {});\n",
              "          if (!dataTable) return;\n",
              "\n",
              "          const docLinkHtml = 'Like what you see? Visit the ' +\n",
              "            '<a target=\"_blank\" href=https://colab.research.google.com/notebooks/data_table.ipynb>data table notebook</a>'\n",
              "            + ' to learn more about interactive tables.';\n",
              "          element.innerHTML = '';\n",
              "          dataTable['output_type'] = 'display_data';\n",
              "          await google.colab.output.renderOutput(dataTable, element);\n",
              "          const docLink = document.createElement('div');\n",
              "          docLink.innerHTML = docLinkHtml;\n",
              "          element.appendChild(docLink);\n",
              "        }\n",
              "      </script>\n",
              "    </div>\n",
              "  </div>\n",
              "  "
            ]
          },
          "metadata": {},
          "execution_count": 60
        }
      ]
    },
    {
      "cell_type": "code",
      "source": [
        "df"
      ],
      "metadata": {
        "colab": {
          "base_uri": "https://localhost:8080/",
          "height": 424
        },
        "id": "fbecE0U_3p5p",
        "outputId": "a7b4385a-df97-4521-f7b1-28ad3c2db551"
      },
      "execution_count": null,
      "outputs": [
        {
          "output_type": "execute_result",
          "data": {
            "text/plain": [
              "            Time         V1         V2        V3        V4        V5  \\\n",
              "0            0.0  -1.359807  -0.072781  2.536347  1.378155 -0.338321   \n",
              "1            0.0   1.191857   0.266151  0.166480  0.448154  0.060018   \n",
              "2            1.0  -1.358354  -1.340163  1.773209  0.379780 -0.503198   \n",
              "3            1.0  -0.966272  -0.185226  1.792993 -0.863291 -0.010309   \n",
              "4            2.0  -1.158233   0.877737  1.548718  0.403034 -0.407193   \n",
              "...          ...        ...        ...       ...       ...       ...   \n",
              "284802  172786.0 -11.881118  10.071785 -9.834783 -2.066656 -5.364473   \n",
              "284803  172787.0  -0.732789  -0.055080  2.035030 -0.738589  0.868229   \n",
              "284804  172788.0   1.919565  -0.301254 -3.249640 -0.557828  2.630515   \n",
              "284805  172788.0  -0.240440   0.530483  0.702510  0.689799 -0.377961   \n",
              "284806  172792.0  -0.533413  -0.189733  0.703337 -0.506271 -0.012546   \n",
              "\n",
              "              V6        V7        V8        V9  ...       V21       V22  \\\n",
              "0       0.462388  0.239599  0.098698  0.363787  ... -0.018307  0.277838   \n",
              "1      -0.082361 -0.078803  0.085102 -0.255425  ... -0.225775 -0.638672   \n",
              "2       1.800499  0.791461  0.247676 -1.514654  ...  0.247998  0.771679   \n",
              "3       1.247203  0.237609  0.377436 -1.387024  ... -0.108300  0.005274   \n",
              "4       0.095921  0.592941 -0.270533  0.817739  ... -0.009431  0.798278   \n",
              "...          ...       ...       ...       ...  ...       ...       ...   \n",
              "284802 -2.606837 -4.918215  7.305334  1.914428  ...  0.213454  0.111864   \n",
              "284803  1.058415  0.024330  0.294869  0.584800  ...  0.214205  0.924384   \n",
              "284804  3.031260 -0.296827  0.708417  0.432454  ...  0.232045  0.578229   \n",
              "284805  0.623708 -0.686180  0.679145  0.392087  ...  0.265245  0.800049   \n",
              "284806 -0.649617  1.577006 -0.414650  0.486180  ...  0.261057  0.643078   \n",
              "\n",
              "             V23       V24       V25       V26       V27       V28  Amount  \\\n",
              "0      -0.110474  0.066928  0.128539 -0.189115  0.133558 -0.021053  149.62   \n",
              "1       0.101288 -0.339846  0.167170  0.125895 -0.008983  0.014724    2.69   \n",
              "2       0.909412 -0.689281 -0.327642 -0.139097 -0.055353 -0.059752  378.66   \n",
              "3      -0.190321 -1.175575  0.647376 -0.221929  0.062723  0.061458  123.50   \n",
              "4      -0.137458  0.141267 -0.206010  0.502292  0.219422  0.215153   69.99   \n",
              "...          ...       ...       ...       ...       ...       ...     ...   \n",
              "284802  1.014480 -0.509348  1.436807  0.250034  0.943651  0.823731    0.77   \n",
              "284803  0.012463 -1.016226 -0.606624 -0.395255  0.068472 -0.053527   24.79   \n",
              "284804 -0.037501  0.640134  0.265745 -0.087371  0.004455 -0.026561   67.88   \n",
              "284805 -0.163298  0.123205 -0.569159  0.546668  0.108821  0.104533   10.00   \n",
              "284806  0.376777  0.008797 -0.473649 -0.818267 -0.002415  0.013649  217.00   \n",
              "\n",
              "        Class  \n",
              "0           0  \n",
              "1           0  \n",
              "2           0  \n",
              "3           0  \n",
              "4           0  \n",
              "...       ...  \n",
              "284802      0  \n",
              "284803      0  \n",
              "284804      0  \n",
              "284805      0  \n",
              "284806      0  \n",
              "\n",
              "[284807 rows x 31 columns]"
            ],
            "text/html": [
              "\n",
              "  <div id=\"df-8696852b-3dee-4185-b44e-764f25548497\">\n",
              "    <div class=\"colab-df-container\">\n",
              "      <div>\n",
              "<style scoped>\n",
              "    .dataframe tbody tr th:only-of-type {\n",
              "        vertical-align: middle;\n",
              "    }\n",
              "\n",
              "    .dataframe tbody tr th {\n",
              "        vertical-align: top;\n",
              "    }\n",
              "\n",
              "    .dataframe thead th {\n",
              "        text-align: right;\n",
              "    }\n",
              "</style>\n",
              "<table border=\"1\" class=\"dataframe\">\n",
              "  <thead>\n",
              "    <tr style=\"text-align: right;\">\n",
              "      <th></th>\n",
              "      <th>Time</th>\n",
              "      <th>V1</th>\n",
              "      <th>V2</th>\n",
              "      <th>V3</th>\n",
              "      <th>V4</th>\n",
              "      <th>V5</th>\n",
              "      <th>V6</th>\n",
              "      <th>V7</th>\n",
              "      <th>V8</th>\n",
              "      <th>V9</th>\n",
              "      <th>...</th>\n",
              "      <th>V21</th>\n",
              "      <th>V22</th>\n",
              "      <th>V23</th>\n",
              "      <th>V24</th>\n",
              "      <th>V25</th>\n",
              "      <th>V26</th>\n",
              "      <th>V27</th>\n",
              "      <th>V28</th>\n",
              "      <th>Amount</th>\n",
              "      <th>Class</th>\n",
              "    </tr>\n",
              "  </thead>\n",
              "  <tbody>\n",
              "    <tr>\n",
              "      <th>0</th>\n",
              "      <td>0.0</td>\n",
              "      <td>-1.359807</td>\n",
              "      <td>-0.072781</td>\n",
              "      <td>2.536347</td>\n",
              "      <td>1.378155</td>\n",
              "      <td>-0.338321</td>\n",
              "      <td>0.462388</td>\n",
              "      <td>0.239599</td>\n",
              "      <td>0.098698</td>\n",
              "      <td>0.363787</td>\n",
              "      <td>...</td>\n",
              "      <td>-0.018307</td>\n",
              "      <td>0.277838</td>\n",
              "      <td>-0.110474</td>\n",
              "      <td>0.066928</td>\n",
              "      <td>0.128539</td>\n",
              "      <td>-0.189115</td>\n",
              "      <td>0.133558</td>\n",
              "      <td>-0.021053</td>\n",
              "      <td>149.62</td>\n",
              "      <td>0</td>\n",
              "    </tr>\n",
              "    <tr>\n",
              "      <th>1</th>\n",
              "      <td>0.0</td>\n",
              "      <td>1.191857</td>\n",
              "      <td>0.266151</td>\n",
              "      <td>0.166480</td>\n",
              "      <td>0.448154</td>\n",
              "      <td>0.060018</td>\n",
              "      <td>-0.082361</td>\n",
              "      <td>-0.078803</td>\n",
              "      <td>0.085102</td>\n",
              "      <td>-0.255425</td>\n",
              "      <td>...</td>\n",
              "      <td>-0.225775</td>\n",
              "      <td>-0.638672</td>\n",
              "      <td>0.101288</td>\n",
              "      <td>-0.339846</td>\n",
              "      <td>0.167170</td>\n",
              "      <td>0.125895</td>\n",
              "      <td>-0.008983</td>\n",
              "      <td>0.014724</td>\n",
              "      <td>2.69</td>\n",
              "      <td>0</td>\n",
              "    </tr>\n",
              "    <tr>\n",
              "      <th>2</th>\n",
              "      <td>1.0</td>\n",
              "      <td>-1.358354</td>\n",
              "      <td>-1.340163</td>\n",
              "      <td>1.773209</td>\n",
              "      <td>0.379780</td>\n",
              "      <td>-0.503198</td>\n",
              "      <td>1.800499</td>\n",
              "      <td>0.791461</td>\n",
              "      <td>0.247676</td>\n",
              "      <td>-1.514654</td>\n",
              "      <td>...</td>\n",
              "      <td>0.247998</td>\n",
              "      <td>0.771679</td>\n",
              "      <td>0.909412</td>\n",
              "      <td>-0.689281</td>\n",
              "      <td>-0.327642</td>\n",
              "      <td>-0.139097</td>\n",
              "      <td>-0.055353</td>\n",
              "      <td>-0.059752</td>\n",
              "      <td>378.66</td>\n",
              "      <td>0</td>\n",
              "    </tr>\n",
              "    <tr>\n",
              "      <th>3</th>\n",
              "      <td>1.0</td>\n",
              "      <td>-0.966272</td>\n",
              "      <td>-0.185226</td>\n",
              "      <td>1.792993</td>\n",
              "      <td>-0.863291</td>\n",
              "      <td>-0.010309</td>\n",
              "      <td>1.247203</td>\n",
              "      <td>0.237609</td>\n",
              "      <td>0.377436</td>\n",
              "      <td>-1.387024</td>\n",
              "      <td>...</td>\n",
              "      <td>-0.108300</td>\n",
              "      <td>0.005274</td>\n",
              "      <td>-0.190321</td>\n",
              "      <td>-1.175575</td>\n",
              "      <td>0.647376</td>\n",
              "      <td>-0.221929</td>\n",
              "      <td>0.062723</td>\n",
              "      <td>0.061458</td>\n",
              "      <td>123.50</td>\n",
              "      <td>0</td>\n",
              "    </tr>\n",
              "    <tr>\n",
              "      <th>4</th>\n",
              "      <td>2.0</td>\n",
              "      <td>-1.158233</td>\n",
              "      <td>0.877737</td>\n",
              "      <td>1.548718</td>\n",
              "      <td>0.403034</td>\n",
              "      <td>-0.407193</td>\n",
              "      <td>0.095921</td>\n",
              "      <td>0.592941</td>\n",
              "      <td>-0.270533</td>\n",
              "      <td>0.817739</td>\n",
              "      <td>...</td>\n",
              "      <td>-0.009431</td>\n",
              "      <td>0.798278</td>\n",
              "      <td>-0.137458</td>\n",
              "      <td>0.141267</td>\n",
              "      <td>-0.206010</td>\n",
              "      <td>0.502292</td>\n",
              "      <td>0.219422</td>\n",
              "      <td>0.215153</td>\n",
              "      <td>69.99</td>\n",
              "      <td>0</td>\n",
              "    </tr>\n",
              "    <tr>\n",
              "      <th>...</th>\n",
              "      <td>...</td>\n",
              "      <td>...</td>\n",
              "      <td>...</td>\n",
              "      <td>...</td>\n",
              "      <td>...</td>\n",
              "      <td>...</td>\n",
              "      <td>...</td>\n",
              "      <td>...</td>\n",
              "      <td>...</td>\n",
              "      <td>...</td>\n",
              "      <td>...</td>\n",
              "      <td>...</td>\n",
              "      <td>...</td>\n",
              "      <td>...</td>\n",
              "      <td>...</td>\n",
              "      <td>...</td>\n",
              "      <td>...</td>\n",
              "      <td>...</td>\n",
              "      <td>...</td>\n",
              "      <td>...</td>\n",
              "      <td>...</td>\n",
              "    </tr>\n",
              "    <tr>\n",
              "      <th>284802</th>\n",
              "      <td>172786.0</td>\n",
              "      <td>-11.881118</td>\n",
              "      <td>10.071785</td>\n",
              "      <td>-9.834783</td>\n",
              "      <td>-2.066656</td>\n",
              "      <td>-5.364473</td>\n",
              "      <td>-2.606837</td>\n",
              "      <td>-4.918215</td>\n",
              "      <td>7.305334</td>\n",
              "      <td>1.914428</td>\n",
              "      <td>...</td>\n",
              "      <td>0.213454</td>\n",
              "      <td>0.111864</td>\n",
              "      <td>1.014480</td>\n",
              "      <td>-0.509348</td>\n",
              "      <td>1.436807</td>\n",
              "      <td>0.250034</td>\n",
              "      <td>0.943651</td>\n",
              "      <td>0.823731</td>\n",
              "      <td>0.77</td>\n",
              "      <td>0</td>\n",
              "    </tr>\n",
              "    <tr>\n",
              "      <th>284803</th>\n",
              "      <td>172787.0</td>\n",
              "      <td>-0.732789</td>\n",
              "      <td>-0.055080</td>\n",
              "      <td>2.035030</td>\n",
              "      <td>-0.738589</td>\n",
              "      <td>0.868229</td>\n",
              "      <td>1.058415</td>\n",
              "      <td>0.024330</td>\n",
              "      <td>0.294869</td>\n",
              "      <td>0.584800</td>\n",
              "      <td>...</td>\n",
              "      <td>0.214205</td>\n",
              "      <td>0.924384</td>\n",
              "      <td>0.012463</td>\n",
              "      <td>-1.016226</td>\n",
              "      <td>-0.606624</td>\n",
              "      <td>-0.395255</td>\n",
              "      <td>0.068472</td>\n",
              "      <td>-0.053527</td>\n",
              "      <td>24.79</td>\n",
              "      <td>0</td>\n",
              "    </tr>\n",
              "    <tr>\n",
              "      <th>284804</th>\n",
              "      <td>172788.0</td>\n",
              "      <td>1.919565</td>\n",
              "      <td>-0.301254</td>\n",
              "      <td>-3.249640</td>\n",
              "      <td>-0.557828</td>\n",
              "      <td>2.630515</td>\n",
              "      <td>3.031260</td>\n",
              "      <td>-0.296827</td>\n",
              "      <td>0.708417</td>\n",
              "      <td>0.432454</td>\n",
              "      <td>...</td>\n",
              "      <td>0.232045</td>\n",
              "      <td>0.578229</td>\n",
              "      <td>-0.037501</td>\n",
              "      <td>0.640134</td>\n",
              "      <td>0.265745</td>\n",
              "      <td>-0.087371</td>\n",
              "      <td>0.004455</td>\n",
              "      <td>-0.026561</td>\n",
              "      <td>67.88</td>\n",
              "      <td>0</td>\n",
              "    </tr>\n",
              "    <tr>\n",
              "      <th>284805</th>\n",
              "      <td>172788.0</td>\n",
              "      <td>-0.240440</td>\n",
              "      <td>0.530483</td>\n",
              "      <td>0.702510</td>\n",
              "      <td>0.689799</td>\n",
              "      <td>-0.377961</td>\n",
              "      <td>0.623708</td>\n",
              "      <td>-0.686180</td>\n",
              "      <td>0.679145</td>\n",
              "      <td>0.392087</td>\n",
              "      <td>...</td>\n",
              "      <td>0.265245</td>\n",
              "      <td>0.800049</td>\n",
              "      <td>-0.163298</td>\n",
              "      <td>0.123205</td>\n",
              "      <td>-0.569159</td>\n",
              "      <td>0.546668</td>\n",
              "      <td>0.108821</td>\n",
              "      <td>0.104533</td>\n",
              "      <td>10.00</td>\n",
              "      <td>0</td>\n",
              "    </tr>\n",
              "    <tr>\n",
              "      <th>284806</th>\n",
              "      <td>172792.0</td>\n",
              "      <td>-0.533413</td>\n",
              "      <td>-0.189733</td>\n",
              "      <td>0.703337</td>\n",
              "      <td>-0.506271</td>\n",
              "      <td>-0.012546</td>\n",
              "      <td>-0.649617</td>\n",
              "      <td>1.577006</td>\n",
              "      <td>-0.414650</td>\n",
              "      <td>0.486180</td>\n",
              "      <td>...</td>\n",
              "      <td>0.261057</td>\n",
              "      <td>0.643078</td>\n",
              "      <td>0.376777</td>\n",
              "      <td>0.008797</td>\n",
              "      <td>-0.473649</td>\n",
              "      <td>-0.818267</td>\n",
              "      <td>-0.002415</td>\n",
              "      <td>0.013649</td>\n",
              "      <td>217.00</td>\n",
              "      <td>0</td>\n",
              "    </tr>\n",
              "  </tbody>\n",
              "</table>\n",
              "<p>284807 rows × 31 columns</p>\n",
              "</div>\n",
              "      <button class=\"colab-df-convert\" onclick=\"convertToInteractive('df-8696852b-3dee-4185-b44e-764f25548497')\"\n",
              "              title=\"Convert this dataframe to an interactive table.\"\n",
              "              style=\"display:none;\">\n",
              "        \n",
              "  <svg xmlns=\"http://www.w3.org/2000/svg\" height=\"24px\"viewBox=\"0 0 24 24\"\n",
              "       width=\"24px\">\n",
              "    <path d=\"M0 0h24v24H0V0z\" fill=\"none\"/>\n",
              "    <path d=\"M18.56 5.44l.94 2.06.94-2.06 2.06-.94-2.06-.94-.94-2.06-.94 2.06-2.06.94zm-11 1L8.5 8.5l.94-2.06 2.06-.94-2.06-.94L8.5 2.5l-.94 2.06-2.06.94zm10 10l.94 2.06.94-2.06 2.06-.94-2.06-.94-.94-2.06-.94 2.06-2.06.94z\"/><path d=\"M17.41 7.96l-1.37-1.37c-.4-.4-.92-.59-1.43-.59-.52 0-1.04.2-1.43.59L10.3 9.45l-7.72 7.72c-.78.78-.78 2.05 0 2.83L4 21.41c.39.39.9.59 1.41.59.51 0 1.02-.2 1.41-.59l7.78-7.78 2.81-2.81c.8-.78.8-2.07 0-2.86zM5.41 20L4 18.59l7.72-7.72 1.47 1.35L5.41 20z\"/>\n",
              "  </svg>\n",
              "      </button>\n",
              "      \n",
              "  <style>\n",
              "    .colab-df-container {\n",
              "      display:flex;\n",
              "      flex-wrap:wrap;\n",
              "      gap: 12px;\n",
              "    }\n",
              "\n",
              "    .colab-df-convert {\n",
              "      background-color: #E8F0FE;\n",
              "      border: none;\n",
              "      border-radius: 50%;\n",
              "      cursor: pointer;\n",
              "      display: none;\n",
              "      fill: #1967D2;\n",
              "      height: 32px;\n",
              "      padding: 0 0 0 0;\n",
              "      width: 32px;\n",
              "    }\n",
              "\n",
              "    .colab-df-convert:hover {\n",
              "      background-color: #E2EBFA;\n",
              "      box-shadow: 0px 1px 2px rgba(60, 64, 67, 0.3), 0px 1px 3px 1px rgba(60, 64, 67, 0.15);\n",
              "      fill: #174EA6;\n",
              "    }\n",
              "\n",
              "    [theme=dark] .colab-df-convert {\n",
              "      background-color: #3B4455;\n",
              "      fill: #D2E3FC;\n",
              "    }\n",
              "\n",
              "    [theme=dark] .colab-df-convert:hover {\n",
              "      background-color: #434B5C;\n",
              "      box-shadow: 0px 1px 3px 1px rgba(0, 0, 0, 0.15);\n",
              "      filter: drop-shadow(0px 1px 2px rgba(0, 0, 0, 0.3));\n",
              "      fill: #FFFFFF;\n",
              "    }\n",
              "  </style>\n",
              "\n",
              "      <script>\n",
              "        const buttonEl =\n",
              "          document.querySelector('#df-8696852b-3dee-4185-b44e-764f25548497 button.colab-df-convert');\n",
              "        buttonEl.style.display =\n",
              "          google.colab.kernel.accessAllowed ? 'block' : 'none';\n",
              "\n",
              "        async function convertToInteractive(key) {\n",
              "          const element = document.querySelector('#df-8696852b-3dee-4185-b44e-764f25548497');\n",
              "          const dataTable =\n",
              "            await google.colab.kernel.invokeFunction('convertToInteractive',\n",
              "                                                     [key], {});\n",
              "          if (!dataTable) return;\n",
              "\n",
              "          const docLinkHtml = 'Like what you see? Visit the ' +\n",
              "            '<a target=\"_blank\" href=https://colab.research.google.com/notebooks/data_table.ipynb>data table notebook</a>'\n",
              "            + ' to learn more about interactive tables.';\n",
              "          element.innerHTML = '';\n",
              "          dataTable['output_type'] = 'display_data';\n",
              "          await google.colab.output.renderOutput(dataTable, element);\n",
              "          const docLink = document.createElement('div');\n",
              "          docLink.innerHTML = docLinkHtml;\n",
              "          element.appendChild(docLink);\n",
              "        }\n",
              "      </script>\n",
              "    </div>\n",
              "  </div>\n",
              "  "
            ]
          },
          "metadata": {},
          "execution_count": 61
        }
      ]
    },
    {
      "cell_type": "code",
      "source": [
        "df.describe()"
      ],
      "metadata": {
        "colab": {
          "base_uri": "https://localhost:8080/",
          "height": 381
        },
        "id": "jmJ-IP8MdJWu",
        "outputId": "471ca498-e4c1-40ab-db5d-51f526a42d45"
      },
      "execution_count": null,
      "outputs": [
        {
          "output_type": "execute_result",
          "data": {
            "text/plain": [
              "                Time            V1            V2            V3            V4  \\\n",
              "count  284807.000000  2.848070e+05  2.848070e+05  2.848070e+05  2.848070e+05   \n",
              "mean    94813.859575  3.918649e-15  5.682686e-16 -8.761736e-15  2.811118e-15   \n",
              "std     47488.145955  1.958696e+00  1.651309e+00  1.516255e+00  1.415869e+00   \n",
              "min         0.000000 -5.640751e+01 -7.271573e+01 -4.832559e+01 -5.683171e+00   \n",
              "25%     54201.500000 -9.203734e-01 -5.985499e-01 -8.903648e-01 -8.486401e-01   \n",
              "50%     84692.000000  1.810880e-02  6.548556e-02  1.798463e-01 -1.984653e-02   \n",
              "75%    139320.500000  1.315642e+00  8.037239e-01  1.027196e+00  7.433413e-01   \n",
              "max    172792.000000  2.454930e+00  2.205773e+01  9.382558e+00  1.687534e+01   \n",
              "\n",
              "                 V5            V6            V7            V8            V9  \\\n",
              "count  2.848070e+05  2.848070e+05  2.848070e+05  2.848070e+05  2.848070e+05   \n",
              "mean  -1.552103e-15  2.040130e-15 -1.698953e-15 -1.893285e-16 -3.147640e-15   \n",
              "std    1.380247e+00  1.332271e+00  1.237094e+00  1.194353e+00  1.098632e+00   \n",
              "min   -1.137433e+02 -2.616051e+01 -4.355724e+01 -7.321672e+01 -1.343407e+01   \n",
              "25%   -6.915971e-01 -7.682956e-01 -5.540759e-01 -2.086297e-01 -6.430976e-01   \n",
              "50%   -5.433583e-02 -2.741871e-01  4.010308e-02  2.235804e-02 -5.142873e-02   \n",
              "75%    6.119264e-01  3.985649e-01  5.704361e-01  3.273459e-01  5.971390e-01   \n",
              "max    3.480167e+01  7.330163e+01  1.205895e+02  2.000721e+01  1.559499e+01   \n",
              "\n",
              "       ...           V21           V22           V23           V24  \\\n",
              "count  ...  2.848070e+05  2.848070e+05  2.848070e+05  2.848070e+05   \n",
              "mean   ...  1.473120e-16  8.042109e-16  5.282512e-16  4.456271e-15   \n",
              "std    ...  7.345240e-01  7.257016e-01  6.244603e-01  6.056471e-01   \n",
              "min    ... -3.483038e+01 -1.093314e+01 -4.480774e+01 -2.836627e+00   \n",
              "25%    ... -2.283949e-01 -5.423504e-01 -1.618463e-01 -3.545861e-01   \n",
              "50%    ... -2.945017e-02  6.781943e-03 -1.119293e-02  4.097606e-02   \n",
              "75%    ...  1.863772e-01  5.285536e-01  1.476421e-01  4.395266e-01   \n",
              "max    ...  2.720284e+01  1.050309e+01  2.252841e+01  4.584549e+00   \n",
              "\n",
              "                V25           V26           V27           V28         Amount  \\\n",
              "count  2.848070e+05  2.848070e+05  2.848070e+05  2.848070e+05  284807.000000   \n",
              "mean   1.426896e-15  1.701640e-15 -3.662252e-16 -1.217809e-16      88.349619   \n",
              "std    5.212781e-01  4.822270e-01  4.036325e-01  3.300833e-01     250.120109   \n",
              "min   -1.029540e+01 -2.604551e+00 -2.256568e+01 -1.543008e+01       0.000000   \n",
              "25%   -3.171451e-01 -3.269839e-01 -7.083953e-02 -5.295979e-02       5.600000   \n",
              "50%    1.659350e-02 -5.213911e-02  1.342146e-03  1.124383e-02      22.000000   \n",
              "75%    3.507156e-01  2.409522e-01  9.104512e-02  7.827995e-02      77.165000   \n",
              "max    7.519589e+00  3.517346e+00  3.161220e+01  3.384781e+01   25691.160000   \n",
              "\n",
              "               Class  \n",
              "count  284807.000000  \n",
              "mean        0.001727  \n",
              "std         0.041527  \n",
              "min         0.000000  \n",
              "25%         0.000000  \n",
              "50%         0.000000  \n",
              "75%         0.000000  \n",
              "max         1.000000  \n",
              "\n",
              "[8 rows x 31 columns]"
            ],
            "text/html": [
              "\n",
              "  <div id=\"df-501ad1b7-8484-4896-be74-9688572b9862\">\n",
              "    <div class=\"colab-df-container\">\n",
              "      <div>\n",
              "<style scoped>\n",
              "    .dataframe tbody tr th:only-of-type {\n",
              "        vertical-align: middle;\n",
              "    }\n",
              "\n",
              "    .dataframe tbody tr th {\n",
              "        vertical-align: top;\n",
              "    }\n",
              "\n",
              "    .dataframe thead th {\n",
              "        text-align: right;\n",
              "    }\n",
              "</style>\n",
              "<table border=\"1\" class=\"dataframe\">\n",
              "  <thead>\n",
              "    <tr style=\"text-align: right;\">\n",
              "      <th></th>\n",
              "      <th>Time</th>\n",
              "      <th>V1</th>\n",
              "      <th>V2</th>\n",
              "      <th>V3</th>\n",
              "      <th>V4</th>\n",
              "      <th>V5</th>\n",
              "      <th>V6</th>\n",
              "      <th>V7</th>\n",
              "      <th>V8</th>\n",
              "      <th>V9</th>\n",
              "      <th>...</th>\n",
              "      <th>V21</th>\n",
              "      <th>V22</th>\n",
              "      <th>V23</th>\n",
              "      <th>V24</th>\n",
              "      <th>V25</th>\n",
              "      <th>V26</th>\n",
              "      <th>V27</th>\n",
              "      <th>V28</th>\n",
              "      <th>Amount</th>\n",
              "      <th>Class</th>\n",
              "    </tr>\n",
              "  </thead>\n",
              "  <tbody>\n",
              "    <tr>\n",
              "      <th>count</th>\n",
              "      <td>284807.000000</td>\n",
              "      <td>2.848070e+05</td>\n",
              "      <td>2.848070e+05</td>\n",
              "      <td>2.848070e+05</td>\n",
              "      <td>2.848070e+05</td>\n",
              "      <td>2.848070e+05</td>\n",
              "      <td>2.848070e+05</td>\n",
              "      <td>2.848070e+05</td>\n",
              "      <td>2.848070e+05</td>\n",
              "      <td>2.848070e+05</td>\n",
              "      <td>...</td>\n",
              "      <td>2.848070e+05</td>\n",
              "      <td>2.848070e+05</td>\n",
              "      <td>2.848070e+05</td>\n",
              "      <td>2.848070e+05</td>\n",
              "      <td>2.848070e+05</td>\n",
              "      <td>2.848070e+05</td>\n",
              "      <td>2.848070e+05</td>\n",
              "      <td>2.848070e+05</td>\n",
              "      <td>284807.000000</td>\n",
              "      <td>284807.000000</td>\n",
              "    </tr>\n",
              "    <tr>\n",
              "      <th>mean</th>\n",
              "      <td>94813.859575</td>\n",
              "      <td>3.918649e-15</td>\n",
              "      <td>5.682686e-16</td>\n",
              "      <td>-8.761736e-15</td>\n",
              "      <td>2.811118e-15</td>\n",
              "      <td>-1.552103e-15</td>\n",
              "      <td>2.040130e-15</td>\n",
              "      <td>-1.698953e-15</td>\n",
              "      <td>-1.893285e-16</td>\n",
              "      <td>-3.147640e-15</td>\n",
              "      <td>...</td>\n",
              "      <td>1.473120e-16</td>\n",
              "      <td>8.042109e-16</td>\n",
              "      <td>5.282512e-16</td>\n",
              "      <td>4.456271e-15</td>\n",
              "      <td>1.426896e-15</td>\n",
              "      <td>1.701640e-15</td>\n",
              "      <td>-3.662252e-16</td>\n",
              "      <td>-1.217809e-16</td>\n",
              "      <td>88.349619</td>\n",
              "      <td>0.001727</td>\n",
              "    </tr>\n",
              "    <tr>\n",
              "      <th>std</th>\n",
              "      <td>47488.145955</td>\n",
              "      <td>1.958696e+00</td>\n",
              "      <td>1.651309e+00</td>\n",
              "      <td>1.516255e+00</td>\n",
              "      <td>1.415869e+00</td>\n",
              "      <td>1.380247e+00</td>\n",
              "      <td>1.332271e+00</td>\n",
              "      <td>1.237094e+00</td>\n",
              "      <td>1.194353e+00</td>\n",
              "      <td>1.098632e+00</td>\n",
              "      <td>...</td>\n",
              "      <td>7.345240e-01</td>\n",
              "      <td>7.257016e-01</td>\n",
              "      <td>6.244603e-01</td>\n",
              "      <td>6.056471e-01</td>\n",
              "      <td>5.212781e-01</td>\n",
              "      <td>4.822270e-01</td>\n",
              "      <td>4.036325e-01</td>\n",
              "      <td>3.300833e-01</td>\n",
              "      <td>250.120109</td>\n",
              "      <td>0.041527</td>\n",
              "    </tr>\n",
              "    <tr>\n",
              "      <th>min</th>\n",
              "      <td>0.000000</td>\n",
              "      <td>-5.640751e+01</td>\n",
              "      <td>-7.271573e+01</td>\n",
              "      <td>-4.832559e+01</td>\n",
              "      <td>-5.683171e+00</td>\n",
              "      <td>-1.137433e+02</td>\n",
              "      <td>-2.616051e+01</td>\n",
              "      <td>-4.355724e+01</td>\n",
              "      <td>-7.321672e+01</td>\n",
              "      <td>-1.343407e+01</td>\n",
              "      <td>...</td>\n",
              "      <td>-3.483038e+01</td>\n",
              "      <td>-1.093314e+01</td>\n",
              "      <td>-4.480774e+01</td>\n",
              "      <td>-2.836627e+00</td>\n",
              "      <td>-1.029540e+01</td>\n",
              "      <td>-2.604551e+00</td>\n",
              "      <td>-2.256568e+01</td>\n",
              "      <td>-1.543008e+01</td>\n",
              "      <td>0.000000</td>\n",
              "      <td>0.000000</td>\n",
              "    </tr>\n",
              "    <tr>\n",
              "      <th>25%</th>\n",
              "      <td>54201.500000</td>\n",
              "      <td>-9.203734e-01</td>\n",
              "      <td>-5.985499e-01</td>\n",
              "      <td>-8.903648e-01</td>\n",
              "      <td>-8.486401e-01</td>\n",
              "      <td>-6.915971e-01</td>\n",
              "      <td>-7.682956e-01</td>\n",
              "      <td>-5.540759e-01</td>\n",
              "      <td>-2.086297e-01</td>\n",
              "      <td>-6.430976e-01</td>\n",
              "      <td>...</td>\n",
              "      <td>-2.283949e-01</td>\n",
              "      <td>-5.423504e-01</td>\n",
              "      <td>-1.618463e-01</td>\n",
              "      <td>-3.545861e-01</td>\n",
              "      <td>-3.171451e-01</td>\n",
              "      <td>-3.269839e-01</td>\n",
              "      <td>-7.083953e-02</td>\n",
              "      <td>-5.295979e-02</td>\n",
              "      <td>5.600000</td>\n",
              "      <td>0.000000</td>\n",
              "    </tr>\n",
              "    <tr>\n",
              "      <th>50%</th>\n",
              "      <td>84692.000000</td>\n",
              "      <td>1.810880e-02</td>\n",
              "      <td>6.548556e-02</td>\n",
              "      <td>1.798463e-01</td>\n",
              "      <td>-1.984653e-02</td>\n",
              "      <td>-5.433583e-02</td>\n",
              "      <td>-2.741871e-01</td>\n",
              "      <td>4.010308e-02</td>\n",
              "      <td>2.235804e-02</td>\n",
              "      <td>-5.142873e-02</td>\n",
              "      <td>...</td>\n",
              "      <td>-2.945017e-02</td>\n",
              "      <td>6.781943e-03</td>\n",
              "      <td>-1.119293e-02</td>\n",
              "      <td>4.097606e-02</td>\n",
              "      <td>1.659350e-02</td>\n",
              "      <td>-5.213911e-02</td>\n",
              "      <td>1.342146e-03</td>\n",
              "      <td>1.124383e-02</td>\n",
              "      <td>22.000000</td>\n",
              "      <td>0.000000</td>\n",
              "    </tr>\n",
              "    <tr>\n",
              "      <th>75%</th>\n",
              "      <td>139320.500000</td>\n",
              "      <td>1.315642e+00</td>\n",
              "      <td>8.037239e-01</td>\n",
              "      <td>1.027196e+00</td>\n",
              "      <td>7.433413e-01</td>\n",
              "      <td>6.119264e-01</td>\n",
              "      <td>3.985649e-01</td>\n",
              "      <td>5.704361e-01</td>\n",
              "      <td>3.273459e-01</td>\n",
              "      <td>5.971390e-01</td>\n",
              "      <td>...</td>\n",
              "      <td>1.863772e-01</td>\n",
              "      <td>5.285536e-01</td>\n",
              "      <td>1.476421e-01</td>\n",
              "      <td>4.395266e-01</td>\n",
              "      <td>3.507156e-01</td>\n",
              "      <td>2.409522e-01</td>\n",
              "      <td>9.104512e-02</td>\n",
              "      <td>7.827995e-02</td>\n",
              "      <td>77.165000</td>\n",
              "      <td>0.000000</td>\n",
              "    </tr>\n",
              "    <tr>\n",
              "      <th>max</th>\n",
              "      <td>172792.000000</td>\n",
              "      <td>2.454930e+00</td>\n",
              "      <td>2.205773e+01</td>\n",
              "      <td>9.382558e+00</td>\n",
              "      <td>1.687534e+01</td>\n",
              "      <td>3.480167e+01</td>\n",
              "      <td>7.330163e+01</td>\n",
              "      <td>1.205895e+02</td>\n",
              "      <td>2.000721e+01</td>\n",
              "      <td>1.559499e+01</td>\n",
              "      <td>...</td>\n",
              "      <td>2.720284e+01</td>\n",
              "      <td>1.050309e+01</td>\n",
              "      <td>2.252841e+01</td>\n",
              "      <td>4.584549e+00</td>\n",
              "      <td>7.519589e+00</td>\n",
              "      <td>3.517346e+00</td>\n",
              "      <td>3.161220e+01</td>\n",
              "      <td>3.384781e+01</td>\n",
              "      <td>25691.160000</td>\n",
              "      <td>1.000000</td>\n",
              "    </tr>\n",
              "  </tbody>\n",
              "</table>\n",
              "<p>8 rows × 31 columns</p>\n",
              "</div>\n",
              "      <button class=\"colab-df-convert\" onclick=\"convertToInteractive('df-501ad1b7-8484-4896-be74-9688572b9862')\"\n",
              "              title=\"Convert this dataframe to an interactive table.\"\n",
              "              style=\"display:none;\">\n",
              "        \n",
              "  <svg xmlns=\"http://www.w3.org/2000/svg\" height=\"24px\"viewBox=\"0 0 24 24\"\n",
              "       width=\"24px\">\n",
              "    <path d=\"M0 0h24v24H0V0z\" fill=\"none\"/>\n",
              "    <path d=\"M18.56 5.44l.94 2.06.94-2.06 2.06-.94-2.06-.94-.94-2.06-.94 2.06-2.06.94zm-11 1L8.5 8.5l.94-2.06 2.06-.94-2.06-.94L8.5 2.5l-.94 2.06-2.06.94zm10 10l.94 2.06.94-2.06 2.06-.94-2.06-.94-.94-2.06-.94 2.06-2.06.94z\"/><path d=\"M17.41 7.96l-1.37-1.37c-.4-.4-.92-.59-1.43-.59-.52 0-1.04.2-1.43.59L10.3 9.45l-7.72 7.72c-.78.78-.78 2.05 0 2.83L4 21.41c.39.39.9.59 1.41.59.51 0 1.02-.2 1.41-.59l7.78-7.78 2.81-2.81c.8-.78.8-2.07 0-2.86zM5.41 20L4 18.59l7.72-7.72 1.47 1.35L5.41 20z\"/>\n",
              "  </svg>\n",
              "      </button>\n",
              "      \n",
              "  <style>\n",
              "    .colab-df-container {\n",
              "      display:flex;\n",
              "      flex-wrap:wrap;\n",
              "      gap: 12px;\n",
              "    }\n",
              "\n",
              "    .colab-df-convert {\n",
              "      background-color: #E8F0FE;\n",
              "      border: none;\n",
              "      border-radius: 50%;\n",
              "      cursor: pointer;\n",
              "      display: none;\n",
              "      fill: #1967D2;\n",
              "      height: 32px;\n",
              "      padding: 0 0 0 0;\n",
              "      width: 32px;\n",
              "    }\n",
              "\n",
              "    .colab-df-convert:hover {\n",
              "      background-color: #E2EBFA;\n",
              "      box-shadow: 0px 1px 2px rgba(60, 64, 67, 0.3), 0px 1px 3px 1px rgba(60, 64, 67, 0.15);\n",
              "      fill: #174EA6;\n",
              "    }\n",
              "\n",
              "    [theme=dark] .colab-df-convert {\n",
              "      background-color: #3B4455;\n",
              "      fill: #D2E3FC;\n",
              "    }\n",
              "\n",
              "    [theme=dark] .colab-df-convert:hover {\n",
              "      background-color: #434B5C;\n",
              "      box-shadow: 0px 1px 3px 1px rgba(0, 0, 0, 0.15);\n",
              "      filter: drop-shadow(0px 1px 2px rgba(0, 0, 0, 0.3));\n",
              "      fill: #FFFFFF;\n",
              "    }\n",
              "  </style>\n",
              "\n",
              "      <script>\n",
              "        const buttonEl =\n",
              "          document.querySelector('#df-501ad1b7-8484-4896-be74-9688572b9862 button.colab-df-convert');\n",
              "        buttonEl.style.display =\n",
              "          google.colab.kernel.accessAllowed ? 'block' : 'none';\n",
              "\n",
              "        async function convertToInteractive(key) {\n",
              "          const element = document.querySelector('#df-501ad1b7-8484-4896-be74-9688572b9862');\n",
              "          const dataTable =\n",
              "            await google.colab.kernel.invokeFunction('convertToInteractive',\n",
              "                                                     [key], {});\n",
              "          if (!dataTable) return;\n",
              "\n",
              "          const docLinkHtml = 'Like what you see? Visit the ' +\n",
              "            '<a target=\"_blank\" href=https://colab.research.google.com/notebooks/data_table.ipynb>data table notebook</a>'\n",
              "            + ' to learn more about interactive tables.';\n",
              "          element.innerHTML = '';\n",
              "          dataTable['output_type'] = 'display_data';\n",
              "          await google.colab.output.renderOutput(dataTable, element);\n",
              "          const docLink = document.createElement('div');\n",
              "          docLink.innerHTML = docLinkHtml;\n",
              "          element.appendChild(docLink);\n",
              "        }\n",
              "      </script>\n",
              "    </div>\n",
              "  </div>\n",
              "  "
            ]
          },
          "metadata": {},
          "execution_count": 62
        }
      ]
    },
    {
      "cell_type": "code",
      "source": [
        "corr = df.corr()"
      ],
      "metadata": {
        "id": "cCbGP830zuHi"
      },
      "execution_count": null,
      "outputs": []
    },
    {
      "cell_type": "code",
      "source": [
        "f, ax = plt.subplots(figsize=(9, 9))\n",
        "\n",
        "cmap = sns.diverging_palette(240, 10, as_cmap=True)\n",
        "\n",
        "sns.heatmap(corr, cmap=cmap, vmax=.3, center=0,\n",
        "            square=True, linewidths=.5, cbar_kws={\"shrink\": .5})"
      ],
      "metadata": {
        "colab": {
          "base_uri": "https://localhost:8080/",
          "height": 502
        },
        "id": "zaiZTtFEzxGX",
        "outputId": "55a18f55-02de-44e3-ff74-cbb781e20ec8"
      },
      "execution_count": null,
      "outputs": [
        {
          "output_type": "execute_result",
          "data": {
            "text/plain": [
              "<AxesSubplot:>"
            ]
          },
          "metadata": {},
          "execution_count": 64
        },
        {
          "output_type": "display_data",
          "data": {
            "text/plain": [
              "<Figure size 648x648 with 2 Axes>"
            ],
            "image/png": "[encoded data removed]"
          },
          "metadata": {}
        }
      ]
    },
    {
      "cell_type": "code",
      "source": [
        "df.Class.unique()"
      ],
      "metadata": {
        "colab": {
          "base_uri": "https://localhost:8080/"
        },
        "id": "1d200ju1dNkx",
        "outputId": "62ef2a9d-57d8-4ece-c48b-8e12896ae5b1"
      },
      "execution_count": null,
      "outputs": [
        {
          "output_type": "execute_result",
          "data": {
            "text/plain": [
              "array([0, 1])"
            ]
          },
          "metadata": {},
          "execution_count": 65
        }
      ]
    },
    {
      "cell_type": "code",
      "source": [
        "sns.set(rc={'figure.figsize':(10,10)})\n",
        "sns.set_style(\"white\")\n",
        "fraudchart = sns.barplot(x=['Не мошеннические транзакции', 'Мошеннические транзакции'], y=[284315, 492], color = 'darkslateblue')\n",
        "fraudchart.bar_label(fraudchart.containers[0])"
      ],
      "metadata": {
        "colab": {
          "base_uri": "https://localhost:8080/",
          "height": 610
        },
        "id": "ObsOZ3HrdjUZ",
        "outputId": "38bf0312-311f-4c88-bce3-fd2ad8f34744"
      },
      "execution_count": null,
      "outputs": [
        {
          "output_type": "execute_result",
          "data": {
            "text/plain": [
              "[Text(0, 0, '284315'), Text(0, 0, '492')]"
            ]
          },
          "metadata": {},
          "execution_count": 66
        },
        {
          "output_type": "display_data",
          "data": {
            "text/plain": [
              "<Figure size 720x720 with 1 Axes>"
            ],
            "image/png": "[encoded data removed]"
          },
          "metadata": {}
        }
      ]
    },
    {
      "cell_type": "code",
      "source": [],
      "metadata": {
        "id": "jXLlPCKnzrTh"
      },
      "execution_count": null,
      "outputs": []
    },
    {
      "cell_type": "code",
      "source": [
        "df.Class.value_counts()"
      ],
      "metadata": {
        "colab": {
          "base_uri": "https://localhost:8080/"
        },
        "id": "0AKUbwocdxKa",
        "outputId": "fc6ed128-6e40-430d-97ab-ff22134fb4ef"
      },
      "execution_count": null,
      "outputs": [
        {
          "output_type": "execute_result",
          "data": {
            "text/plain": [
              "0    284315\n",
              "1       492\n",
              "Name: Class, dtype: int64"
            ]
          },
          "metadata": {},
          "execution_count": 67
        }
      ]
    },
    {
      "cell_type": "code",
      "source": [
        "sns.set(rc={'figure.figsize':(12,5)})\n",
        "sns.set_style(\"white\")\n",
        "sns.histplot(data=df, x='Time', bins = 30, color = 'lightcoral')"
      ],
      "metadata": {
        "colab": {
          "base_uri": "https://localhost:8080/",
          "height": 356
        },
        "id": "lxajRznAbLs9",
        "outputId": "7f05d77f-210e-44ab-a451-6246a4e729a6"
      },
      "execution_count": null,
      "outputs": [
        {
          "output_type": "execute_result",
          "data": {
            "text/plain": [
              "<AxesSubplot:xlabel='Time', ylabel='Count'>"
            ]
          },
          "metadata": {},
          "execution_count": 68
        },
        {
          "output_type": "display_data",
          "data": {
            "text/plain": [
              "<Figure size 864x360 with 1 Axes>"
            ],
            "image/png": "[encoded data removed]"
          },
          "metadata": {}
        }
      ]
    },
    {
      "cell_type": "code",
      "source": [
        "sns.set(rc={'figure.figsize':(12,5)})\n",
        "sns.set_style(\"white\")\n",
        "sns.histplot(data=df[df.Class == 1], x='Time', bins = 30, color = 'lightcoral')"
      ],
      "metadata": {
        "colab": {
          "base_uri": "https://localhost:8080/",
          "height": 356
        },
        "id": "SXu_mxVCaGEw",
        "outputId": "12ce0b13-6ce7-49da-8076-d78dd2f4c62b"
      },
      "execution_count": null,
      "outputs": [
        {
          "output_type": "execute_result",
          "data": {
            "text/plain": [
              "<AxesSubplot:xlabel='Time', ylabel='Count'>"
            ]
          },
          "metadata": {},
          "execution_count": 69
        },
        {
          "output_type": "display_data",
          "data": {
            "text/plain": [
              "<Figure size 864x360 with 1 Axes>"
            ],
            "image/png": "[encoded data removed]"
          },
          "metadata": {}
        }
      ]
    },
    {
      "cell_type": "code",
      "source": [],
      "metadata": {
        "id": "fdyrq7tIbKwJ"
      },
      "execution_count": null,
      "outputs": []
    },
    {
      "cell_type": "code",
      "source": [
        "sns.set(rc={'figure.figsize':(12,5)})\n",
        "sns.set_style(\"white\")\n",
        "sns.histplot(data=df, x='Amount', bins = 30, color = 'lightcoral')"
      ],
      "metadata": {
        "colab": {
          "base_uri": "https://localhost:8080/",
          "height": 356
        },
        "id": "CPWL3IX2bCV0",
        "outputId": "1d74cb3d-e079-4fcb-e2b1-6f1d9a24e8b7"
      },
      "execution_count": null,
      "outputs": [
        {
          "output_type": "execute_result",
          "data": {
            "text/plain": [
              "<AxesSubplot:xlabel='Amount', ylabel='Count'>"
            ]
          },
          "metadata": {},
          "execution_count": 70
        },
        {
          "output_type": "display_data",
          "data": {
            "text/plain": [
              "<Figure size 864x360 with 1 Axes>"
            ],
            "image/png": "[encoded data removed]"
          },
          "metadata": {}
        }
      ]
    },
    {
      "cell_type": "code",
      "source": [
        "sns.set(rc={'figure.figsize':(12,5)})\n",
        "sns.set_style(\"white\")\n",
        "sns.histplot(data=df[df.Class == 1], x='Amount', bins = 30, color = 'lightcoral')"
      ],
      "metadata": {
        "colab": {
          "base_uri": "https://localhost:8080/",
          "height": 356
        },
        "id": "2GMIW0P-afUn",
        "outputId": "bc316b36-7e52-479f-f541-4201f1749495"
      },
      "execution_count": null,
      "outputs": [
        {
          "output_type": "execute_result",
          "data": {
            "text/plain": [
              "<AxesSubplot:xlabel='Amount', ylabel='Count'>"
            ]
          },
          "metadata": {},
          "execution_count": 71
        },
        {
          "output_type": "display_data",
          "data": {
            "text/plain": [
              "<Figure size 864x360 with 1 Axes>"
            ],
            "image/png": "[encoded data removed]"
          },
          "metadata": {}
        }
      ]
    },
    {
      "cell_type": "markdown",
      "source": [
        "Preprocessing"
      ],
      "metadata": {
        "id": "uP8rNu6setmj"
      }
    },
    {
      "cell_type": "code",
      "source": [
        "from sklearn.model_selection import train_test_split\n",
        "from sklearn.preprocessing import StandardScaler"
      ],
      "metadata": {
        "id": "BdncBPrkewi-"
      },
      "execution_count": null,
      "outputs": []
    },
    {
      "cell_type": "code",
      "source": [
        "scalar = StandardScaler()\n",
        "\n",
        "X = df.drop('Class', axis=1)\n",
        "y = df.Class\n",
        "\n",
        "X_train_v, X_test, y_train_v, y_test = train_test_split(X, y, test_size=0.3, random_state=42)\n",
        "X_train, X_validate, y_train, y_validate = train_test_split(X_train_v, y_train_v,test_size=0.2, random_state=42)\n",
        "\n",
        "X_train = scalar.fit_transform(X_train)\n",
        "X_validate = scalar.transform(X_validate)\n",
        "X_test = scalar.transform(X_test)\n",
        "\n",
        "w_p = y_train.value_counts()[0] / len(y_train)\n",
        "w_n = y_train.value_counts()[1] / len(y_train)\n",
        "\n",
        "print(f\"Fraudulant transaction weight: {w_n}\")\n",
        "print(f\"Non-Fraudulant transaction weight: {w_p}\")"
      ],
      "metadata": {
        "colab": {
          "base_uri": "https://localhost:8080/"
        },
        "id": "MPJCKgf4dxQt",
        "outputId": "b8f564f1-0f05-43cf-e15f-f47b73a66233"
      },
      "execution_count": null,
      "outputs": [
        {
          "output_type": "stream",
          "name": "stdout",
          "text": [
            "Fraudulant transaction weight: 0.0017994745785028623\n",
            "Non-Fraudulant transaction weight: 0.9982005254214972\n"
          ]
        }
      ]
    },
    {
      "cell_type": "code",
      "source": [
        "from sklearn.metrics import accuracy_score, confusion_matrix, classification_report, fbeta_score, average_precision_score as auprc"
      ],
      "metadata": {
        "id": "e-piRE_RfExL"
      },
      "execution_count": null,
      "outputs": []
    },
    {
      "cell_type": "code",
      "source": [
        "def score(label, prediction, train=True):\n",
        "    if train:\n",
        "        clf_report = pd.DataFrame(classification_report(label, prediction, output_dict=True))\n",
        "        print(f\"report:\\n{clf_report}\")\n",
        "        print(f\"confusion matrix: \\n {confusion_matrix(y_train, prediction)}\\n\")\n",
        "\n",
        "    elif train==False:\n",
        "        clf_report = pd.DataFrame(classification_report(label, prediction, output_dict=True))\n",
        "        print(f\"report:\\n{clf_report}\")\n",
        "        print(f\"confusion matrix: \\n {confusion_matrix(label, prediction)}\\n\")"
      ],
      "metadata": {
        "id": "Adu8JDDXfFNE"
      },
      "execution_count": null,
      "outputs": []
    },
    {
      "cell_type": "code",
      "source": [
        "fbeta_scores_classification = {}\n",
        "auprc_scores_classification = {}\n",
        "time_classification = {}"
      ],
      "metadata": {
        "id": "DvHfH9e1b4bn"
      },
      "execution_count": null,
      "outputs": []
    },
    {
      "cell_type": "code",
      "source": [
        "from sklearn.tree import DecisionTreeClassifier\n",
        "\n",
        "start_time = time.time()\n",
        "dt_clf = DecisionTreeClassifier(random_state=0)\n",
        "dt_clf.fit(X_train, y_train)\n",
        "\n",
        "y_train_pred = dt_clf.predict(X_train)\n",
        "y_test_pred = dt_clf.predict(X_test)\n",
        "\n",
        "score(y_train, y_train_pred, train=True)\n",
        "score(y_test, y_test_pred, train=False)\n",
        "\n",
        "print(\"--- %s seconds ---\" % (time.time() - start_time))\n",
        "print(fbeta_score(y_test, y_test_pred, beta = 2))\n",
        "print(auprc(y_test, y_test_pred))"
      ],
      "metadata": {
        "colab": {
          "base_uri": "https://localhost:8080/"
        },
        "id": "SEW-k7rmg-AK",
        "outputId": "29abbe5c-f12d-4211-e41c-03042b7f0e18"
      },
      "execution_count": null,
      "outputs": [
        {
          "output_type": "stream",
          "name": "stdout",
          "text": [
            "report:\n",
            "                  0      1  accuracy  macro avg  weighted avg\n",
            "precision       1.0    1.0       1.0        1.0           1.0\n",
            "recall          1.0    1.0       1.0        1.0           1.0\n",
            "f1-score        1.0    1.0       1.0        1.0           1.0\n",
            "support    159204.0  287.0       1.0   159491.0      159491.0\n",
            "confusion matrix: \n",
            " [[159204      0]\n",
            " [     0    287]]\n",
            "\n",
            "report:\n",
            "                      0           1  accuracy     macro avg  weighted avg\n",
            "precision      0.999578    0.657895   0.99897      0.828736      0.999034\n",
            "recall         0.999390    0.735294   0.99897      0.867342      0.998970\n",
            "f1-score       0.999484    0.694444   0.99897      0.846964      0.998999\n",
            "support    85307.000000  136.000000   0.99897  85443.000000  85443.000000\n",
            "confusion matrix: \n",
            " [[85255    52]\n",
            " [   36   100]]\n",
            "\n",
            "--- 26.229052305221558 seconds ---\n",
            "0.7183908045977011\n",
            "0.4841674635515525\n"
          ]
        }
      ]
    },
    {
      "cell_type": "code",
      "source": [
        "fig = plt.figure(figsize=(25,20))\n",
        "\n",
        "_ = tree.plot_tree(dt_clf,\n",
        "                   filled=True)"
      ],
      "metadata": {
        "colab": {
          "base_uri": "https://localhost:8080/",
          "height": 1000
        },
        "id": "CyNKuGlMCzdU",
        "outputId": "f42d2163-8ede-475d-c71b-a57bbc32056f"
      },
      "execution_count": null,
      "outputs": [
        {
          "output_type": "display_data",
          "data": {
            "text/plain": [
              "<Figure size 1800x1440 with 1 Axes>"
            ],
            "image/png": "[encoded data removed]"
          },
          "metadata": {}
        }
      ]
    },
    {
      "cell_type": "markdown",
      "source": [
        "Бустинг"
      ],
      "metadata": {
        "id": "v2ySwG9NwPKn"
      }
    },
    {
      "cell_type": "code",
      "source": [
        "from xgboost import XGBClassifier\n",
        "\n",
        "start_time = time.time()\n",
        "xgb_clf = XGBClassifier()\n",
        "xgb_clf.fit(X_train, y_train, eval_metric='aucpr')\n",
        "\n",
        "y_train_pred = xgb_clf.predict(X_train)\n",
        "y_test_pred = xgb_clf.predict(X_test)\n",
        "\n",
        "score(y_train, y_train_pred, train=True)\n",
        "score(y_test, y_test_pred, train=False)\n",
        "\n",
        "fbeta_scores_classification['XGB'] = fbeta_score(y_test, y_test_pred, beta=2)\n",
        "auprc_scores_classification['XGB'] = auprc(y_test, y_test_pred)\n",
        "time_classification['XGB'] = time.time() - start_time\n",
        "xgb_matrix = confusion_matrix(y_test, y_test_pred)\n",
        "print(\"--- %s seconds ---\" % (time.time() - start_time))"
      ],
      "metadata": {
        "colab": {
          "base_uri": "https://localhost:8080/"
        },
        "id": "SS9nA-2bgfEJ",
        "outputId": "f781f2df-9e7f-4e38-f0ef-c3a16e4d011c"
      },
      "execution_count": null,
      "outputs": [
        {
          "output_type": "stream",
          "name": "stdout",
          "text": [
            "report:\n",
            "                       0           1  accuracy      macro avg   weighted avg\n",
            "precision       0.999711    0.983673  0.999687       0.991692       0.999682\n",
            "recall          0.999975    0.839721  0.999687       0.919848       0.999687\n",
            "f1-score        0.999843    0.906015  0.999687       0.952929       0.999674\n",
            "support    159204.000000  287.000000  0.999687  159491.000000  159491.000000\n",
            "confusion matrix: \n",
            " [[159200      4]\n",
            " [    46    241]]\n",
            "\n",
            "report:\n",
            "                      0           1  accuracy     macro avg  weighted avg\n",
            "precision      0.999707    0.932773  0.999614      0.966240      0.999600\n",
            "recall         0.999906    0.816176  0.999614      0.908041      0.999614\n",
            "f1-score       0.999807    0.870588  0.999614      0.935197      0.999601\n",
            "support    85307.000000  136.000000  0.999614  85443.000000  85443.000000\n",
            "confusion matrix: \n",
            " [[85299     8]\n",
            " [   25   111]]\n",
            "\n",
            "--- 46.43425917625427 seconds ---\n"
          ]
        }
      ]
    },
    {
      "cell_type": "code",
      "source": [
        "from lightgbm import LGBMClassifier\n",
        "\n",
        "start_time = time.time()\n",
        "lgbm_clf = LGBMClassifier()\n",
        "lgbm_clf.fit(X_train, y_train, eval_metric='aucpr')\n",
        "\n",
        "y_train_pred = lgbm_clf.predict(X_train)\n",
        "y_test_pred = lgbm_clf.predict(X_test)\n",
        "\n",
        "score(y_train, y_train_pred, train=True)\n",
        "score(y_test, y_test_pred, train=False)\n",
        "\n",
        "fbeta_scores_classification['LGBM'] = fbeta_score(y_test, y_test_pred, beta=2)\n",
        "auprc_scores_classification['LGBM'] = auprc(y_test, y_test_pred)\n",
        "time_classification['LGBM'] = time.time() - start_time\n",
        "lgbm_matrix = confusion_matrix(y_test, y_test_pred)\n",
        "print(\"--- %s seconds ---\" % (time.time() - start_time))"
      ],
      "metadata": {
        "colab": {
          "base_uri": "https://localhost:8080/"
        },
        "id": "DpG1uT4yxFWQ",
        "outputId": "d349889f-2226-4913-b4d3-d4cb4d23fcd0"
      },
      "execution_count": null,
      "outputs": [
        {
          "output_type": "stream",
          "name": "stdout",
          "text": [
            "report:\n",
            "                       0           1  accuracy      macro avg   weighted avg\n",
            "precision       0.999441    0.592814  0.998589       0.796128       0.998709\n",
            "recall          0.999146    0.689895  0.998589       0.844521       0.998589\n",
            "f1-score        0.999293    0.637681  0.998589       0.818487       0.998643\n",
            "support    159204.000000  287.000000  0.998589  159491.000000  159491.000000\n",
            "confusion matrix: \n",
            " [[159068    136]\n",
            " [    89    198]]\n",
            "\n",
            "report:\n",
            "                      0           1  accuracy     macro avg  weighted avg\n",
            "precision      0.999460    0.350195  0.997507      0.674827      0.998427\n",
            "recall         0.998042    0.661765  0.997507      0.829904      0.997507\n",
            "f1-score       0.998751    0.458015  0.997507      0.728383      0.997890\n",
            "support    85307.000000  136.000000  0.997507  85443.000000  85443.000000\n",
            "confusion matrix: \n",
            " [[85140   167]\n",
            " [   46    90]]\n",
            "\n",
            "--- 11.52899980545044 seconds ---\n"
          ]
        }
      ]
    },
    {
      "cell_type": "code",
      "source": [
        "from sklearn.ensemble import AdaBoostClassifier\n",
        "\n",
        "start_time = time.time()\n",
        "ada_clf = AdaBoostClassifier()\n",
        "ada_clf.fit(X_train, y_train)\n",
        "\n",
        "y_train_pred = ada_clf.predict(X_train)\n",
        "y_test_pred = ada_clf.predict(X_test)\n",
        "\n",
        "score(y_train, y_train_pred, train=True)\n",
        "score(y_test, y_test_pred, train=False)\n",
        "\n",
        "fbeta_scores_classification['AdaBoost'] = fbeta_score(y_test, y_test_pred, beta=2)\n",
        "auprc_scores_classification['AdaBoost'] = auprc(y_test, y_test_pred)\n",
        "time_classification['AdaBoost'] = time.time() - start_time\n",
        "ada_matrix = confusion_matrix(y_test, y_test_pred)\n",
        "print(\"--- %s seconds ---\" % (time.time() - start_time))"
      ],
      "metadata": {
        "colab": {
          "base_uri": "https://localhost:8080/"
        },
        "id": "rQvUiT7c0nnP",
        "outputId": "4d99d656-00ca-48c4-93ea-f1841c8d6c1f"
      },
      "execution_count": null,
      "outputs": [
        {
          "output_type": "stream",
          "name": "stdout",
          "text": [
            "report:\n",
            "                       0           1  accuracy      macro avg   weighted avg\n",
            "precision       0.999516    0.795455  0.999179       0.897485       0.999149\n",
            "recall          0.999661    0.731707  0.999179       0.865684       0.999179\n",
            "f1-score        0.999589    0.762250  0.999179       0.880920       0.999162\n",
            "support    159204.000000  287.000000  0.999179  159491.000000  159491.000000\n",
            "confusion matrix: \n",
            " [[159150     54]\n",
            " [    77    210]]\n",
            "\n",
            "report:\n",
            "                      0           1  accuracy     macro avg  weighted avg\n",
            "precision      0.999625    0.800000  0.999321      0.899812      0.999307\n",
            "recall         0.999695    0.764706  0.999321      0.882201      0.999321\n",
            "f1-score       0.999660    0.781955  0.999321      0.890807      0.999314\n",
            "support    85307.000000  136.000000  0.999321  85443.000000  85443.000000\n",
            "confusion matrix: \n",
            " [[85281    26]\n",
            " [   32   104]]\n",
            "\n",
            "--- 78.59775304794312 seconds ---\n"
          ]
        }
      ]
    },
    {
      "cell_type": "markdown",
      "source": [
        "Бэггинг"
      ],
      "metadata": {
        "id": "1ISIRZ5JJdq3"
      }
    },
    {
      "cell_type": "code",
      "source": [
        "from sklearn.ensemble import BaggingClassifier\n",
        "\n",
        "start_time = time.time()\n",
        "bg_clf =  BaggingClassifier(base_estimator = DecisionTreeClassifier(),n_estimators=15, random_state=1)\n",
        "bg_clf.fit(X_train, y_train)\n",
        "\n",
        "y_train_pred = bg_clf.predict(X_train)\n",
        "y_test_predict = bg_clf.predict(X_test)\n",
        "\n",
        "score(y_train, y_train_pred, train = True)\n",
        "score(y_test, y_test_pred, train = False)\n",
        "\n",
        "fbeta_scores_classification['Bagging'] = fbeta_score(y_test, y_test_pred, beta=2)\n",
        "auprc_scores_classification['Bagging'] = auprc(y_test, y_test_pred)\n",
        "time_classification['Bagging'] = time.time() - start_time\n",
        "bg_matrix = confusion_matrix(y_test, y_test_pred)\n",
        "print(\"--- %s seconds ---\" % (time.time() - start_time))"
      ],
      "metadata": {
        "colab": {
          "base_uri": "https://localhost:8080/"
        },
        "id": "GvRCRrglJfNx",
        "outputId": "e99d9c80-c95f-4067-c77f-ba903da65ef6"
      },
      "execution_count": null,
      "outputs": [
        {
          "output_type": "stream",
          "name": "stdout",
          "text": [
            "report:\n",
            "                       0           1  accuracy      macro avg   weighted avg\n",
            "precision       0.999969    1.000000  0.999969       0.999984       0.999969\n",
            "recall          1.000000    0.982578  0.999969       0.991289       0.999969\n",
            "f1-score        0.999984    0.991213  0.999969       0.995598       0.999969\n",
            "support    159204.000000  287.000000  0.999969  159491.000000  159491.000000\n",
            "confusion matrix: \n",
            " [[159204      0]\n",
            " [     5    282]]\n",
            "\n",
            "report:\n",
            "                      0           1  accuracy     macro avg  weighted avg\n",
            "precision      0.999707    0.909836  0.999579      0.954772      0.999564\n",
            "recall         0.999871    0.816176  0.999579      0.908024      0.999579\n",
            "f1-score       0.999789    0.860465  0.999579      0.930127      0.999567\n",
            "support    85307.000000  136.000000  0.999579  85443.000000  85443.000000\n",
            "confusion matrix: \n",
            " [[85296    11]\n",
            " [   25   111]]\n",
            "\n",
            "--- 163.2861030101776 seconds ---\n"
          ]
        }
      ]
    },
    {
      "cell_type": "markdown",
      "source": [
        " Случайный лес"
      ],
      "metadata": {
        "id": "8ekecXSAwVcp"
      }
    },
    {
      "cell_type": "code",
      "source": [
        "from sklearn.ensemble import RandomForestClassifier\n",
        "\n",
        "start_time = time.time()\n",
        "rf_clf = RandomForestClassifier(n_estimators=100, oob_score=False)\n",
        "rf_clf.fit(X_train, y_train)\n",
        "\n",
        "y_train_pred = rf_clf.predict(X_train)\n",
        "y_test_pred = rf_clf.predict(X_test)\n",
        "\n",
        "score(y_train, y_train_pred, train=True)\n",
        "score(y_test, y_test_pred, train=False)\n",
        "\n",
        "fbeta_scores_classification['Random Forest'] = fbeta_score(y_test, y_test_pred, beta=2)\n",
        "auprc_scores_classification['Random Forest'] = auprc(y_test, y_test_pred)\n",
        "time_classification['Random Forest'] = time.time() - start_time\n",
        "rf_matrix = confusion_matrix(y_test, y_test_pred)\n",
        "print(\"--- %s seconds ---\" % (time.time() - start_time))"
      ],
      "metadata": {
        "colab": {
          "base_uri": "https://localhost:8080/"
        },
        "id": "47BVAAzwg2Yn",
        "outputId": "d3970f40-11bd-4a51-8290-9eda2e136d82"
      },
      "execution_count": null,
      "outputs": [
        {
          "output_type": "stream",
          "name": "stdout",
          "text": [
            "report:\n",
            "                  0      1  accuracy  macro avg  weighted avg\n",
            "precision       1.0    1.0       1.0        1.0           1.0\n",
            "recall          1.0    1.0       1.0        1.0           1.0\n",
            "f1-score        1.0    1.0       1.0        1.0           1.0\n",
            "support    159204.0  287.0       1.0   159491.0      159491.0\n",
            "confusion matrix: \n",
            " [[159204      0]\n",
            " [     0    287]]\n",
            "\n",
            "report:\n",
            "                      0           1  accuracy     macro avg  weighted avg\n",
            "precision      0.999707    0.909836  0.999579      0.954772      0.999564\n",
            "recall         0.999871    0.816176  0.999579      0.908024      0.999579\n",
            "f1-score       0.999789    0.860465  0.999579      0.930127      0.999567\n",
            "support    85307.000000  136.000000  0.999579  85443.000000  85443.000000\n",
            "confusion matrix: \n",
            " [[85296    11]\n",
            " [   25   111]]\n",
            "\n",
            "--- 181.50494647026062 seconds ---\n"
          ]
        }
      ]
    },
    {
      "cell_type": "code",
      "source": [
        "fbeta_scores_classification"
      ],
      "metadata": {
        "colab": {
          "base_uri": "https://localhost:8080/"
        },
        "id": "ataYFPoffTY6",
        "outputId": "09f4d168-729f-4562-a31e-78cd42d8b38d"
      },
      "execution_count": null,
      "outputs": [
        {
          "output_type": "execute_result",
          "data": {
            "text/plain": [
              "{'AdaBoost': 0.7715133531157269,\n",
              " 'Bagging': 0.8333333333333333,\n",
              " 'LGBM': 0.5617977528089888,\n",
              " 'Random Forest': 0.8333333333333333,\n",
              " 'XGB': 0.83710407239819}"
            ]
          },
          "metadata": {},
          "execution_count": 114
        }
      ]
    },
    {
      "cell_type": "code",
      "source": [
        "import operator\n",
        "\n",
        "sorted_tuples = sorted(fbeta_scores_classification.items(), key=operator.itemgetter(1), reverse = True)\n",
        "sorted_dict = {k: v for k, v in sorted_tuples}\n",
        "\n",
        "print(sorted_dict)"
      ],
      "metadata": {
        "colab": {
          "base_uri": "https://localhost:8080/"
        },
        "id": "sH4dvVX947JO",
        "outputId": "0cf6434b-921a-492e-f2ad-0b8f34221d19"
      },
      "execution_count": null,
      "outputs": [
        {
          "output_type": "stream",
          "name": "stdout",
          "text": [
            "{'XGB': 0.83710407239819, 'Bagging': 0.8333333333333333, 'Random Forest': 0.8333333333333333, 'AdaBoost': 0.7715133531157269, 'LGBM': 0.5617977528089888}\n"
          ]
        }
      ]
    },
    {
      "cell_type": "code",
      "source": [
        "sns.set(rc={'figure.figsize':(20,15)})\n",
        "sns.set_style(\"white\")\n",
        "scores_plot = sns.barplot(x = list(sorted_dict.values()), y = list(sorted_dict.keys()), palette = 'RdBu_r')\n",
        "scores_plot.bar_label(scores_plot.containers[0])"
      ],
      "metadata": {
        "colab": {
          "base_uri": "https://localhost:8080/",
          "height": 952
        },
        "id": "0p2-649Y5KSQ",
        "outputId": "b95335cb-c3df-46fa-dde5-0435a510aec5"
      },
      "execution_count": null,
      "outputs": [
        {
          "output_type": "execute_result",
          "data": {
            "text/plain": [
              "[Text(0, 0, '0.837104'),\n",
              " Text(0, 0, '0.833333'),\n",
              " Text(0, 0, '0.833333'),\n",
              " Text(0, 0, '0.771513'),\n",
              " Text(0, 0, '0.561798')]"
            ]
          },
          "metadata": {},
          "execution_count": 116
        },
        {
          "output_type": "display_data",
          "data": {
            "text/plain": [
              "<Figure size 1440x1080 with 1 Axes>"
            ],
            "image/png": "[encoded data removed]"
          },
          "metadata": {}
        }
      ]
    },
    {
      "cell_type": "code",
      "source": [
        "auprc_scores_classification"
      ],
      "metadata": {
        "colab": {
          "base_uri": "https://localhost:8080/"
        },
        "id": "L8On9X1mie2B",
        "outputId": "0a77ac80-aac1-477f-a06e-59bad1d1f4fb"
      },
      "execution_count": null,
      "outputs": [
        {
          "output_type": "execute_result",
          "data": {
            "text/plain": [
              "{'AdaBoost': 0.6121392245673243,\n",
              " 'Bagging': 0.74287938153652,\n",
              " 'LGBM': 0.2322847656657231,\n",
              " 'Random Forest': 0.74287938153652,\n",
              " 'XGB': 0.7616000568847693}"
            ]
          },
          "metadata": {},
          "execution_count": 119
        }
      ]
    },
    {
      "cell_type": "code",
      "source": [
        "import operator\n",
        "\n",
        "sorted_tuples = sorted(auprc_scores_classification.items(), key=operator.itemgetter(1), reverse = True)\n",
        "sorted_dict = {k: v for k, v in sorted_tuples}\n",
        "\n",
        "print(sorted_dict)"
      ],
      "metadata": {
        "colab": {
          "base_uri": "https://localhost:8080/"
        },
        "id": "Om2OmGTRii9f",
        "outputId": "a44b139c-6f56-4da5-c349-9836029072ba"
      },
      "execution_count": null,
      "outputs": [
        {
          "output_type": "stream",
          "name": "stdout",
          "text": [
            "{'XGB': 0.7616000568847693, 'Bagging': 0.74287938153652, 'Random Forest': 0.74287938153652, 'AdaBoost': 0.6121392245673243, 'LGBM': 0.2322847656657231}\n"
          ]
        }
      ]
    },
    {
      "cell_type": "code",
      "source": [
        "sns.set(rc={'figure.figsize':(20,15)})\n",
        "sns.set_style(\"white\")\n",
        "scores_plot = sns.barplot(x = list(sorted_dict.values()), y = list(sorted_dict.keys()), palette = 'GnBu')\n",
        "scores_plot.bar_label(scores_plot.containers[0])"
      ],
      "metadata": {
        "colab": {
          "base_uri": "https://localhost:8080/",
          "height": 952
        },
        "id": "wTK7KGPSiosv",
        "outputId": "81d22f60-5e36-40d2-b772-43081cdba1e7"
      },
      "execution_count": null,
      "outputs": [
        {
          "output_type": "execute_result",
          "data": {
            "text/plain": [
              "[Text(0, 0, '0.7616'),\n",
              " Text(0, 0, '0.742879'),\n",
              " Text(0, 0, '0.742879'),\n",
              " Text(0, 0, '0.612139'),\n",
              " Text(0, 0, '0.232285')]"
            ]
          },
          "metadata": {},
          "execution_count": 121
        },
        {
          "output_type": "display_data",
          "data": {
            "text/plain": [
              "<Figure size 1440x1080 with 1 Axes>"
            ],
            "image/png": "[encoded data removed]"
          },
          "metadata": {}
        }
      ]
    },
    {
      "cell_type": "code",
      "source": [
        "time_classification"
      ],
      "metadata": {
        "colab": {
          "base_uri": "https://localhost:8080/"
        },
        "id": "FNsFMo0ai8if",
        "outputId": "8f10947f-b824-454c-dd76-7c68dea741d9"
      },
      "execution_count": null,
      "outputs": [
        {
          "output_type": "execute_result",
          "data": {
            "text/plain": [
              "{'AdaBoost': 78.58298087120056,\n",
              " 'Bagging': 136.3181335926056,\n",
              " 'LGBM': 11.514081001281738,\n",
              " 'Random Forest': 181.4899549484253,\n",
              " 'XGB': 46.415664196014404}"
            ]
          },
          "metadata": {},
          "execution_count": 99
        }
      ]
    },
    {
      "cell_type": "code",
      "source": [
        "sorted_tuples = sorted(time_classification.items(), key=operator.itemgetter(1), reverse = False)\n",
        "sorted_dict = {k: v for k, v in sorted_tuples}\n",
        "\n",
        "print(sorted_dict)"
      ],
      "metadata": {
        "colab": {
          "base_uri": "https://localhost:8080/"
        },
        "id": "Qvm8z_8_jCIk",
        "outputId": "45558d08-1bc1-45d3-d0b8-72b579f7c476"
      },
      "execution_count": null,
      "outputs": [
        {
          "output_type": "stream",
          "name": "stdout",
          "text": [
            "{'LGBM': 11.514081001281738, 'XGB': 46.415664196014404, 'AdaBoost': 78.58298087120056, 'Bagging': 136.3181335926056, 'Random Forest': 181.4899549484253}\n"
          ]
        }
      ]
    },
    {
      "cell_type": "code",
      "source": [
        "sns.set(rc={'figure.figsize':(20,15)})\n",
        "sns.set_style(\"white\")\n",
        "scores_plot = sns.barplot(x = list(sorted_dict.values()), y = list(sorted_dict.keys()), palette = 'BrBG_r')\n",
        "scores_plot.bar_label(scores_plot.containers[0])"
      ],
      "metadata": {
        "colab": {
          "base_uri": "https://localhost:8080/",
          "height": 952
        },
        "id": "EljDmGeZjFoS",
        "outputId": "caa94f52-a1e0-482f-f54c-d4831554d1c8"
      },
      "execution_count": null,
      "outputs": [
        {
          "output_type": "execute_result",
          "data": {
            "text/plain": [
              "[Text(0, 0, '11.5141'),\n",
              " Text(0, 0, '46.4157'),\n",
              " Text(0, 0, '78.583'),\n",
              " Text(0, 0, '136.318'),\n",
              " Text(0, 0, '181.49')]"
            ]
          },
          "metadata": {},
          "execution_count": 105
        },
        {
          "output_type": "display_data",
          "data": {
            "text/plain": [
              "<Figure size 1440x1080 with 1 Axes>"
            ],
            "image/png": "[encoded data removed]"
          },
          "metadata": {}
        }
      ]
    },
    {
      "cell_type": "code",
      "source": [
        "sns.set(rc={'figure.figsize':(25,15)})\n",
        "sns.set_style(\"white\")\n",
        "\n",
        "fig, axes = plt.subplots(2, 3)\n",
        "\n",
        "sns.heatmap(xgb_matrix, annot=True, ax=axes[0,0])\n",
        "sns.heatmap(lgbm_matrix, annot=True, ax=axes[0,1])\n",
        "sns.heatmap(ada_matrix, annot=True, ax=axes[0,2])\n",
        "sns.heatmap(bg_matrix, annot=True, ax=axes[1,0])\n",
        "sns.heatmap(rf_matrix, annot=True, ax=axes[1,1])"
      ],
      "metadata": {
        "colab": {
          "base_uri": "https://localhost:8080/",
          "height": 882
        },
        "id": "OSwFzIyA0RyR",
        "outputId": "22741896-62d4-4c9b-e0bb-62e1de6bbd4d"
      },
      "execution_count": null,
      "outputs": [
        {
          "output_type": "execute_result",
          "data": {
            "text/plain": [
              "<AxesSubplot:>"
            ]
          },
          "metadata": {},
          "execution_count": 109
        },
        {
          "output_type": "display_data",
          "data": {
            "text/plain": [
              "<Figure size 1800x1080 with 11 Axes>"
            ],
            "image/png": "[encoded data removed]"
          },
          "metadata": {}
        }
      ]
    },
    {
      "cell_type": "markdown",
      "source": [],
      "metadata": {
        "id": "hHzDzlHGwZYW"
      }
    }
  ]
}